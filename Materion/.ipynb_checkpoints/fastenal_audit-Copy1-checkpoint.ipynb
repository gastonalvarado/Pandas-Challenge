{
 "cells": [
  {
   "cell_type": "markdown",
   "metadata": {},
   "source": [
    "# Price Audits - Fastenal "
   ]
  },
  {
   "cell_type": "markdown",
   "metadata": {},
   "source": [
    "Project scope -  Create an app that scrapes product information from the Fastenal website. That information will then be used to compare wholesale price, Materion's discounted price, and invoice price to identify variabilities and potential discrepancies. "
   ]
  },
  {
   "cell_type": "markdown",
   "metadata": {},
   "source": [
    "## Import all dependencies and start selenium "
   ]
  },
  {
   "cell_type": "markdown",
   "metadata": {},
   "source": [
    "We are using selenium and BeautifulSoup for the scraping process"
   ]
  },
  {
   "cell_type": "code",
   "execution_count": 1,
   "metadata": {},
   "outputs": [
    {
     "name": "stderr",
     "output_type": "stream",
     "text": [
      "'which' is not recognized as an internal or external command,\n",
      "operable program or batch file.\n"
     ]
    }
   ],
   "source": [
    "#Finding the location of chromedriver.exe\n",
    "#https://splinter.readthedocs.io/en/latest/drivers/chrome.html\n",
    "!which chromedriver"
   ]
  },
  {
   "cell_type": "code",
   "execution_count": 2,
   "metadata": {
    "code_folding": [],
    "run_control": {
     "marked": false
    }
   },
   "outputs": [
    {
     "ename": "NameError",
     "evalue": "name 'WebDriver' is not defined",
     "output_type": "error",
     "traceback": [
      "\u001b[1;31m---------------------------------------------------------------------------\u001b[0m",
      "\u001b[1;31mNameError\u001b[0m                                 Traceback (most recent call last)",
      "\u001b[1;32m<ipython-input-2-be6785ef1a89>\u001b[0m in \u001b[0;36m<module>\u001b[1;34m\u001b[0m\n\u001b[0;32m     13\u001b[0m \u001b[1;33m\u001b[0m\u001b[0m\n\u001b[0;32m     14\u001b[0m \u001b[1;31m# A new Chrome (or other browser) window should open up\u001b[0m\u001b[1;33m\u001b[0m\u001b[1;33m\u001b[0m\u001b[1;33m\u001b[0m\u001b[0m\n\u001b[1;32m---> 15\u001b[1;33m \u001b[0mbrowser\u001b[0m \u001b[1;33m=\u001b[0m \u001b[0mBrowser\u001b[0m\u001b[1;33m(\u001b[0m\u001b[1;34m'chrome'\u001b[0m\u001b[1;33m,\u001b[0m \u001b[1;33m**\u001b[0m\u001b[0mWebDriver\u001b[0m\u001b[1;33m,\u001b[0m \u001b[0mheadless\u001b[0m\u001b[1;33m=\u001b[0m\u001b[1;32mFalse\u001b[0m\u001b[1;33m)\u001b[0m\u001b[1;33m\u001b[0m\u001b[1;33m\u001b[0m\u001b[0m\n\u001b[0m\u001b[0;32m     16\u001b[0m \u001b[1;33m\u001b[0m\u001b[0m\n\u001b[0;32m     17\u001b[0m \u001b[1;31m# Defining width and height of the browser\u001b[0m\u001b[1;33m\u001b[0m\u001b[1;33m\u001b[0m\u001b[1;33m\u001b[0m\u001b[0m\n",
      "\u001b[1;31mNameError\u001b[0m: name 'WebDriver' is not defined"
     ]
    }
   ],
   "source": [
    "# Import your newly installed selenium package\n",
    "from selenium import webdriver\n",
    "from splinter import Browser\n",
    "from selenium.webdriver.common.keys import Keys\n",
    "import time\n",
    "time.sleep(3)\n",
    "from splinter.exceptions import ElementDoesNotExist\n",
    "from bs4 import BeautifulSoup\n",
    "\n",
    "\n",
    "# Now create an 'instance' of your driver\n",
    "WebDriver = {'executable_path': 'chromedriver'}\n",
    "\n",
    "# A new Chrome (or other browser) window should open up\n",
    "browser = Browser('chrome', **WebDriver, headless=False)\n",
    "\n",
    "# Defining width and height of the browser\n",
    "browser.driver.set_window_size(1750, 1250)\n",
    "\n",
    "#For Mac users - Opening the targer url\n",
    "#driver.get(\"https://www.fastenal.com/product/abrasives/coated-and-non-woven-abrasives/fiber-and-sanding-discs/609478?categoryId=609478&level=3&isExpanded=true&productFamilyId=26373&view=2\")\n",
    "\n",
    "#For Windows users - Opening the target url\n",
    "url ='https://www.fastenal.com/product/abrasives/coated-and-non-woven-abrasives/fiber-and-sanding-discs/609478?categoryId=609478&level=3&isExpanded=true&productFamilyId=26373&view=2'\n",
    "browser.visit(url)"
   ]
  },
  {
   "cell_type": "markdown",
   "metadata": {},
   "source": [
    "## Start the browser and making the soup "
   ]
  },
  {
   "cell_type": "code",
   "execution_count": null,
   "metadata": {
    "scrolled": true
   },
   "outputs": [],
   "source": [
    "#activating soup\n",
    "html = browser.html\n",
    "soup = BeautifulSoup(html, 'html.parser')"
   ]
  },
  {
   "cell_type": "markdown",
   "metadata": {},
   "source": [
    "## Initialize searches "
   ]
  },
  {
   "cell_type": "markdown",
   "metadata": {},
   "source": [
    "### First we need to create the searches for each piece of information we would like to extract: SKU number, item description, wholesale price, and manufacturer  "
   ]
  },
  {
   "cell_type": "markdown",
   "metadata": {},
   "source": [
    "#### SKU Number "
   ]
  },
  {
   "cell_type": "markdown",
   "metadata": {},
   "source": [
    "Inspecting the website, we found that the SKU number information is in a div inside the class 'media-item-row', and it is consistent across all the pages, so we can create a function that gives us access to that div initially "
   ]
  },
  {
   "cell_type": "code",
   "execution_count": null,
   "metadata": {
    "run_control": {
     "marked": false
    },
    "scrolled": true
   },
   "outputs": [],
   "source": [
    "#access the sku information in the HTML to create the sku list\n",
    "sku_list = soup.findAll('td', class_='cb-sku')\n",
    "\n",
    "#Display the search results\n",
    "sku_list\n",
    "\n",
    "#sku2=sku_list[0]('a')\n",
    "#sku2"
   ]
  },
  {
   "cell_type": "markdown",
   "metadata": {},
   "source": [
    "Now that we were able to access the first record, we can use that code in a nested for loop to extract all of the sku numbers from all pages"
   ]
  },
  {
   "cell_type": "code",
   "execution_count": null,
   "metadata": {
    "scrolled": true
   },
   "outputs": [],
   "source": [
    "#Creating a loop to extract the description data within the div for page 1 only. \n",
    "#This code will be used later in the nested loop\n",
    "for view in sku_list:\n",
    "        #Accessing the div that contains the sku information\n",
    "        sku3=view.text.strip()\n",
    "        #Creating a nested loop to extract the specific sku number\n",
    "        #for k in sku3:\n",
    "            #Accessing the sku information in the anchor tag and stripping spaces\n",
    "            #sku4=sku3[0].text.strip()\n",
    "            #Print the results\n",
    "        print(sku3)"
   ]
  },
  {
   "cell_type": "markdown",
   "metadata": {},
   "source": [
    "#### Item description "
   ]
  },
  {
   "cell_type": "markdown",
   "metadata": {},
   "source": [
    "The item description is not in the same div, so inspecting the website, we found that the the description is inside a div under the class div 'gridview__prd--desc', and it is consistent across all the pages, so we can create a function that gives us access to that div initially"
   ]
  },
  {
   "cell_type": "code",
   "execution_count": null,
   "metadata": {},
   "outputs": [],
   "source": [
    "#access the information in the HTML to create the description list\n",
    "grid_view = soup.findAll('div',class_='itempopup-container')\n",
    "#Display the search results and accessing the first record\n",
    "grid_view"
   ]
  },
  {
   "cell_type": "markdown",
   "metadata": {},
   "source": [
    "After accessing the first record, we can now try the code in a for loop to extract all of the descriptions numbers from page 1"
   ]
  },
  {
   "cell_type": "code",
   "execution_count": null,
   "metadata": {},
   "outputs": [],
   "source": [
    "#Creating a loop to extract the description data within the div for page 1 only. \n",
    "#This code will be used later in the nested loop\n",
    "for view in grid_view:\n",
    "        #Accessing the description information in the div\n",
    "        title = view.findAll('div',class_='itempopup-description')\n",
    "        #Print the results\n",
    "        print(title)"
   ]
  },
  {
   "cell_type": "markdown",
   "metadata": {},
   "source": [
    "#### Price "
   ]
  },
  {
   "cell_type": "markdown",
   "metadata": {},
   "source": [
    "Price information is not in any of the previous divs, so inspecting the website, we found that the the wholesale price is inside a div under the class div 'color--blue margin-bottom--5', and it is consistent across all the pages, so we can create a function that gives us access to that div initially"
   ]
  },
  {
   "cell_type": "code",
   "execution_count": null,
   "metadata": {
    "scrolled": true
   },
   "outputs": [],
   "source": [
    "#access the information in the HTML to create the wholesale price list\n",
    "wholesale_cal =browser.find_element_by_id('productDetailPop')\n",
    "\n",
    "#Display the search results and accessing the first record\n",
    "wholesale_cal"
   ]
  },
  {
   "cell_type": "markdown",
   "metadata": {},
   "source": [
    "After accessing the first record, we can now try the code in a for loop to extract all of the descriptions numbers from page 1"
   ]
  },
  {
   "cell_type": "code",
   "execution_count": null,
   "metadata": {
    "scrolled": true
   },
   "outputs": [],
   "source": [
    "#Creating a loop to extract the wholesale price data within the div for page 1 only. \n",
    "#This code will be used later in the nested loop\n",
    "for sale in wholesale_cal:\n",
    "        #Accessing the price information in the div\n",
    "        price = sale('span')\n",
    "        #Creating a nested loop to extract the specific wholesale price\n",
    "        for p in price:\n",
    "            #Accessing the sku information in the anchor tag and stripping spaces\n",
    "            price2=price[1].text.strip().split('\\n')[0].strip(\"/\")\n",
    "            #Print the results\n",
    "            print(price2)\n",
    "#sku2 = sku_list[0].text.strip().split('\\n')[-1].strip()"
   ]
  },
  {
   "cell_type": "markdown",
   "metadata": {},
   "source": [
    "Online price is not in the previous divs, so inspecting the website, we found that the the wholesale price is inside a div under the class div 'color-highlight margin-bottom--5', and it is consistent across all the pages, so we can create a function that gives us access to that div initially"
   ]
  },
  {
   "cell_type": "code",
   "execution_count": null,
   "metadata": {
    "scrolled": true
   },
   "outputs": [],
   "source": [
    "#access the information in the HTML to create the online price list\n",
    "online_cal = soup.findAll('div',class_='color-highlight margin-bottom--5')\n",
    "#wholesale_cal = soup.findAll('span', class_=\"\")\n",
    "\n",
    "#Display the search results and accessing the first record\n",
    "online_cal"
   ]
  },
  {
   "cell_type": "code",
   "execution_count": null,
   "metadata": {
    "scrolled": true
   },
   "outputs": [],
   "source": [
    "#Creating a loop to extract the online price data within the div for page 1 only. \n",
    "#This code will be used later in the nested loop\n",
    "for online in online_cal:\n",
    "        #Accessing the price information in the div\n",
    "        online_price = online('span')\n",
    "        #Creating a nested loop to extract the specific online price\n",
    "        for o in online_price:\n",
    "            #Accessing the sku information in the anchor tag and stripping spaces\n",
    "            online_price2=online_price[1].text.strip().split('\\n')[0].strip(\"/\")\n",
    "            #Print the results\n",
    "            print(online_price2)\n"
   ]
  },
  {
   "cell_type": "markdown",
   "metadata": {},
   "source": [
    "#### Manufacturer "
   ]
  },
  {
   "cell_type": "markdown",
   "metadata": {},
   "source": [
    "Manufacturer information is in the same div and under the same class as the sku information, so we will use the same code to access the first record to extract the information "
   ]
  },
  {
   "cell_type": "code",
   "execution_count": null,
   "metadata": {
    "scrolled": true
   },
   "outputs": [],
   "source": [
    "#access the information in the HTML to create the manufacturers list\n",
    "manufacture_cal = soup.findAll('div',class_='media-item-row')\n",
    "\n",
    "#Display the search results and accessing the first record\n",
    "manufacture_cal\n",
    "#manu_2=manufacture_cal[2].text\n",
    "#manu_2"
   ]
  },
  {
   "cell_type": "markdown",
   "metadata": {},
   "source": [
    "Following the same process, after accessing the first record, we can now try the code in a for loop to extract all of the descriptions numbers from page 1"
   ]
  },
  {
   "cell_type": "code",
   "execution_count": null,
   "metadata": {
    "scrolled": true
   },
   "outputs": [],
   "source": [
    "#Creating a loop to extract the manufacturers data within the div for page 1 only. \n",
    "#This code will be used later in the nested loop\n",
    "for manu in manufacture_cal:\n",
    "        #Accessing the manufacturers information in the div\n",
    "        detail = manu.text.strip().split('\\n')\n",
    "        #Creating a nested loop to extract the manufacturer\n",
    "        #for d in detail:\n",
    "            #Accessing the sku information in the anchor tag and stripping spaces\n",
    "            #detail2=detail.text\n",
    "            #Print the results\n",
    "        print(detail)\n",
    "        \n",
    "#sku2 = sku_list[0].text.strip().split('\\n')[-1].strip()"
   ]
  },
  {
   "cell_type": "markdown",
   "metadata": {},
   "source": [
    "### Master loop "
   ]
  },
  {
   "cell_type": "markdown",
   "metadata": {},
   "source": [
    "Once all the searches have been created, we consolidate everything into a master loop that will ultimately scrape and generate all the combined results at once"
   ]
  },
  {
   "cell_type": "code",
   "execution_count": null,
   "metadata": {
    "scrolled": true
   },
   "outputs": [],
   "source": [
    "#Creating all the empty lists that will hold all the search results extracted from the for loop\n",
    "#SKU information\n",
    "sku=[]\n",
    "#Product description\n",
    "description= []\n",
    "#Price\n",
    "wholesale_price=[]\n",
    "#Manufacturer\n",
    "manufacturer=[]\n",
    "\n",
    "#Initiating the for loop and setting the page range\n",
    "for i in range(2,5):\n",
    "    \n",
    "    #Opening the browser\n",
    "    html = browser.html\n",
    "    #Making the soup\n",
    "    soup = BeautifulSoup(html, 'html.parser')\n",
    "    #Accessing the divs that contain the data we are looking for\n",
    "    grid_view = soup.findAll('div',class_='gridview__prd--desc')\n",
    "    \n",
    "    #Creating a nested loop to extract the data within the divs\n",
    "    for view in grid_view:\n",
    "        #Accessing the sku information in the div\n",
    "        sku_list=sku_list[0].text.strip().split('\\n')[-1].strip()\n",
    "        #Accessing the description information in the div\n",
    "        description_list = view.text\n",
    "        #Accessing the price information in the div\n",
    "        wholesale_price_list=\n",
    "        #Accessing the manufacturer information in the div\n",
    "        manufacturer_list=\n",
    "        \n",
    "        #Appending the sku information to the empty list\n",
    "        sku.append(sku_list)\n",
    "        #Appending the description information to the empty list\n",
    "        description.append(description_list)\n",
    "        #Appending the price information to the empty list\n",
    "        wholesale_price.append(wholesale_price_list)\n",
    "        #Appending the manufacturer information to the empty list\n",
    "        manufacturer.append(manufacturer_list)\n",
    "        \n",
    "        #Setting a try function to iterate over all the pages\n",
    "        try:\n",
    "            #Initial url\n",
    "            link = f\"/product/abrasives/coated-and-non-woven-abrasives/fiber-and-sanding-discs/609478?categoryId=609478&level=3&isExpanded=true&productFamilyId=26373&page={i}&pageSize=12&exactSkuMatchLevel=useData&view=1\"\n",
    "            #Printing the url found\n",
    "            print(link)\n",
    "            #Set a click by href action to go to the next page\n",
    "            browser.click_link_by_href(link)\n",
    "            #Print the page number\n",
    "            print(i)\n",
    "\n",
    "        #Setting an except function to stop when there is not other url to click on\n",
    "        except ElementDoesNotExist:\n",
    "            #Print an exit message\n",
    "            print(\"Scraping Complete\")\n",
    "            #Breaking the loop when there is no other url to click on\n",
    "            break\n",
    "   "
   ]
  },
  {
   "cell_type": "code",
   "execution_count": null,
   "metadata": {},
   "outputs": [],
   "source": []
  },
  {
   "cell_type": "code",
   "execution_count": null,
   "metadata": {},
   "outputs": [],
   "source": []
  },
  {
   "cell_type": "code",
   "execution_count": null,
   "metadata": {},
   "outputs": [],
   "source": []
  },
  {
   "cell_type": "code",
   "execution_count": null,
   "metadata": {},
   "outputs": [],
   "source": []
  },
  {
   "cell_type": "code",
   "execution_count": null,
   "metadata": {},
   "outputs": [],
   "source": []
  },
  {
   "cell_type": "code",
   "execution_count": null,
   "metadata": {
    "run_control": {
     "marked": false
    }
   },
   "outputs": [],
   "source": []
  },
  {
   "cell_type": "code",
   "execution_count": null,
   "metadata": {},
   "outputs": [],
   "source": []
  },
  {
   "cell_type": "code",
   "execution_count": null,
   "metadata": {},
   "outputs": [],
   "source": []
  },
  {
   "cell_type": "code",
   "execution_count": null,
   "metadata": {},
   "outputs": [],
   "source": []
  },
  {
   "cell_type": "code",
   "execution_count": null,
   "metadata": {},
   "outputs": [],
   "source": []
  },
  {
   "cell_type": "code",
   "execution_count": null,
   "metadata": {},
   "outputs": [],
   "source": []
  },
  {
   "cell_type": "code",
   "execution_count": null,
   "metadata": {},
   "outputs": [],
   "source": []
  },
  {
   "cell_type": "code",
   "execution_count": null,
   "metadata": {},
   "outputs": [],
   "source": []
  },
  {
   "cell_type": "code",
   "execution_count": null,
   "metadata": {},
   "outputs": [],
   "source": []
  },
  {
   "cell_type": "code",
   "execution_count": null,
   "metadata": {},
   "outputs": [],
   "source": []
  },
  {
   "cell_type": "code",
   "execution_count": null,
   "metadata": {},
   "outputs": [],
   "source": []
  },
  {
   "cell_type": "code",
   "execution_count": null,
   "metadata": {},
   "outputs": [],
   "source": []
  },
  {
   "cell_type": "code",
   "execution_count": null,
   "metadata": {},
   "outputs": [],
   "source": []
  },
  {
   "cell_type": "code",
   "execution_count": null,
   "metadata": {},
   "outputs": [],
   "source": []
  }
 ],
 "metadata": {
  "hide_input": false,
  "kernelspec": {
   "display_name": "Python 3",
   "language": "python",
   "name": "python3"
  },
  "language_info": {
   "codemirror_mode": {
    "name": "ipython",
    "version": 3
   },
   "file_extension": ".py",
   "mimetype": "text/x-python",
   "name": "python",
   "nbconvert_exporter": "python",
   "pygments_lexer": "ipython3",
   "version": "3.7.1"
  },
  "toc": {
   "base_numbering": 1,
   "nav_menu": {},
   "number_sections": true,
   "sideBar": true,
   "skip_h1_title": true,
   "title_cell": "Table of Contents",
   "title_sidebar": "Contents",
   "toc_cell": false,
   "toc_position": {},
   "toc_section_display": true,
   "toc_window_display": false
  },
  "varInspector": {
   "cols": {
    "lenName": 16,
    "lenType": 16,
    "lenVar": 40
   },
   "kernels_config": {
    "python": {
     "delete_cmd_postfix": "",
     "delete_cmd_prefix": "del ",
     "library": "var_list.py",
     "varRefreshCmd": "print(var_dic_list())"
    },
    "r": {
     "delete_cmd_postfix": ") ",
     "delete_cmd_prefix": "rm(",
     "library": "var_list.r",
     "varRefreshCmd": "cat(var_dic_list()) "
    }
   },
   "types_to_exclude": [
    "module",
    "function",
    "builtin_function_or_method",
    "instance",
    "_Feature"
   ],
   "window_display": false
  }
 },
 "nbformat": 4,
 "nbformat_minor": 2
}
