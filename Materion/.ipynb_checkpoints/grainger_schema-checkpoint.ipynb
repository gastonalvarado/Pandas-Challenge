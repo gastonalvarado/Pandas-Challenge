{
 "cells": [
  {
   "cell_type": "markdown",
   "metadata": {},
   "source": [
    "# Grainger - Category Chart "
   ]
  },
  {
   "cell_type": "markdown",
   "metadata": {},
   "source": [
    "Code developed to build the category chart for the Fastenal website. The objective is to collect all of the urls for each one of the product categories and subcategories and their names so we can build the hierarchy and also use the urls for the data scraping of all of the part numbers "
   ]
  },
  {
   "cell_type": "markdown",
   "metadata": {},
   "source": [
    "## Import all dependencies and start selenium "
   ]
  },
  {
   "cell_type": "markdown",
   "metadata": {},
   "source": [
    "We are using selenium and BeautifulSoup for the scraping process"
   ]
  },
  {
   "cell_type": "code",
   "execution_count": 1,
   "metadata": {},
   "outputs": [
    {
     "name": "stdout",
     "output_type": "stream",
     "text": [
      "/usr/local/bin/chromedriver\r\n"
     ]
    }
   ],
   "source": [
    "#Finding the location of chromedriver.exe\n",
    "#https://splinter.readthedocs.io/en/latest/drivers/chrome.html\n",
    "!which chromedriver"
   ]
  },
  {
   "cell_type": "code",
   "execution_count": 2,
   "metadata": {
    "code_folding": [],
    "run_control": {
     "marked": false
    }
   },
   "outputs": [],
   "source": [
    "# Import your newly installed selenium package\n",
    "from selenium import webdriver\n",
    "from splinter import Browser\n",
    "from selenium.webdriver.common.keys import Keys\n",
    "import time\n",
    "time.sleep(3)\n",
    "from splinter.exceptions import ElementDoesNotExist\n",
    "from bs4 import BeautifulSoup\n",
    "\n",
    "# Now create an 'instance' of your driver\n",
    "WebDriver = {'executable_path': 'chromedriver'}\n",
    "# A new Chrome (or other browser) window should open up\n",
    "browser = Browser('chrome', **WebDriver, headless=False)\n",
    "# Defining width and height of the browser\n",
    "browser.driver.set_window_size(1750, 1250)\n",
    "#For Mac users - Opening the targer url\n",
    "#driver.get(\"https://www.fastenal.com/product/abrasives/coated-and-non-woven-abrasives/fiber-and-sanding-discs/609478?categoryId=609478&level=3&isExpanded=true&productFamilyId=26373&view=2\")\n",
    "#For Windows users - Opening the target url\n",
    "url ='https://www.grainger.com/category?analytics=nav'\n",
    "browser.visit(url)"
   ]
  },
  {
   "cell_type": "markdown",
   "metadata": {},
   "source": [
    "## Initialize searches "
   ]
  },
  {
   "cell_type": "markdown",
   "metadata": {},
   "source": [
    "#### All Products"
   ]
  },
  {
   "cell_type": "markdown",
   "metadata": {},
   "source": [
    "Inspecting the website, we found that the Product category information is in a div inside the class 'col-xs-12 category-list margin--top-0', and it is consistent across all the pages, so we can create a function that gives us access to that div initially "
   ]
  },
  {
   "cell_type": "code",
   "execution_count": null,
   "metadata": {
    "scrolled": true
   },
   "outputs": [],
   "source": [
    "#activating soup\n",
    "html = browser.html\n",
    "soup = BeautifulSoup(html, 'html.parser')\n",
    "\n",
    "products = soup.findAll('ul',class_='categories__list')\n",
    "all_products_urls=[i['href'] for i in (products[0]('a'))]\n",
    "all_products_urls"
   ]
  },
  {
   "cell_type": "markdown",
   "metadata": {},
   "source": [
    "Safety Categories - all Categories"
   ]
  },
  {
   "cell_type": "code",
   "execution_count": null,
   "metadata": {},
   "outputs": [],
   "source": [
    "#For Windows users - Opening the target url\n",
    "url2 ='https://www.grainger.com/category/safety'\n",
    "browser.visit(url2)\n",
    "\n",
    "#activating soup\n",
    "html = browser.html\n",
    "soup = BeautifulSoup(html, 'html.parser')"
   ]
  },
  {
   "cell_type": "code",
   "execution_count": null,
   "metadata": {
    "scrolled": true
   },
   "outputs": [],
   "source": [
    "spans = soup.findAll('span', class_='category-text')\n",
    "subcategories_list=[span.text.strip() for span in spans]\n",
    "    \n",
    "subcategories_list"
   ]
  },
  {
   "cell_type": "markdown",
   "metadata": {},
   "source": [
    "Gloves and Hand Protection - all subcategories"
   ]
  },
  {
   "cell_type": "code",
   "execution_count": null,
   "metadata": {},
   "outputs": [],
   "source": [
    "#For Windows users - Opening the target url\n",
    "url2 ='https://www.grainger.com/category/safety/gloves-and-hand-protection'\n",
    "browser.visit(url2)\n",
    "\n",
    "#activating soup\n",
    "html = browser.html\n",
    "soup = BeautifulSoup(html, 'html.parser')"
   ]
  },
  {
   "cell_type": "code",
   "execution_count": null,
   "metadata": {
    "scrolled": true
   },
   "outputs": [],
   "source": [
    "#Extract the categories from the span tag\n",
    "spans = soup.findAll('span', class_='category-text')\n",
    "#List comprehension to extract the text from the span class\n",
    "subcategories_list=[span.text.strip() for span in spans] \n",
    "#Function to add hypen between words and use it to build the next url\n",
    "def replace_runs_of_whitespace_with_hyphen(word):\n",
    "    return '-'.join(word.split())\n",
    "#List comprehension to insert the hyphen between words\n",
    "hyphrases = [replace_runs_of_whitespace_with_hyphen(w) for w in subcategories_list]\n",
    "#List comprehension to build the next url using the new hyphened words\n",
    "gloves_and_hand_protection=[f'https://www.grainger.com/category/safety/gloves-and-hand-protection/{link}' for link in hyphrases]\n",
    "gloves_and_hand_protection"
   ]
  },
  {
   "cell_type": "markdown",
   "metadata": {},
   "source": [
    "Antistatic Gloves - end urls"
   ]
  },
  {
   "cell_type": "code",
   "execution_count": 3,
   "metadata": {},
   "outputs": [],
   "source": [
    "#For Windows users - Opening the target url\n",
    "url3 ='https://www.grainger.com/category/safety/gloves-and-hand-protection/antistatic-gloves'\n",
    "browser.visit(url3)\n",
    "\n",
    "#activating soup\n",
    "html = browser.html\n",
    "soup = BeautifulSoup(html, 'html.parser')"
   ]
  },
  {
   "cell_type": "code",
   "execution_count": 4,
   "metadata": {
    "scrolled": true
   },
   "outputs": [
    {
     "data": {
      "text/plain": [
       "['https://www.grainger.com/product/3JFP3',\n",
       " 'https://www.grainger.com/product/9WRN3',\n",
       " 'https://www.grainger.com/product/3JFP4',\n",
       " 'https://www.grainger.com/product/8CAW1',\n",
       " 'https://www.grainger.com/product/3NGY2',\n",
       " 'https://www.grainger.com/product/19L033',\n",
       " 'https://www.grainger.com/product/19L034',\n",
       " 'https://www.grainger.com/product/19L035',\n",
       " 'https://www.grainger.com/product/19L036',\n",
       " 'https://www.grainger.com/product/19L037',\n",
       " 'https://www.grainger.com/product/19L038',\n",
       " 'https://www.grainger.com/product/19L039',\n",
       " 'https://www.grainger.com/product/19L040',\n",
       " 'https://www.grainger.com/product/19L041',\n",
       " 'https://www.grainger.com/product/19L042',\n",
       " 'https://www.grainger.com/product/19L043',\n",
       " 'https://www.grainger.com/product/1DPF5',\n",
       " 'https://www.grainger.com/product/1DPF6',\n",
       " 'https://www.grainger.com/product/1DPF7',\n",
       " 'https://www.grainger.com/product/1DPF8',\n",
       " 'https://www.grainger.com/product/1DPF9',\n",
       " 'https://www.grainger.com/product/1DPG1']"
      ]
     },
     "execution_count": 4,
     "metadata": {},
     "output_type": "execute_result"
    }
   ],
   "source": [
    "#Extract all values from the tr tag\n",
    "bs=soup.findAll('tr',class_='search-table-view__web-parent-table-row')\n",
    "#Extract the brand values from the tag\n",
    "brand=[row.findAll('td')[4].contents[0].strip() for row in bs]\n",
    "#Extract the sku values from the tag\n",
    "sku=[row.findAll('button')[0].text.strip() for row in bs]\n",
    "#Extract all category values from tag\n",
    "cat=[row.findAll('td')[0].contents[0].strip() for row in bs]\n",
    "\n",
    "#Function to add hypen between words and use it to build the next url\n",
    "def replace_runs_of_whitespace_with_hyphen(word):\n",
    "    return '-'.join(word.split())\n",
    "#List comprehension to insert the hyphen between words\n",
    "hyphrases = [replace_runs_of_whitespace_with_hyphen(w) for w in cat]\n",
    "\n",
    "#List comprehension to create the end url\n",
    "antistatic_gloves=[f'https://www.grainger.com/product/{i}' for i in sku]\n",
    "antistatic_gloves"
   ]
  },
  {
   "cell_type": "markdown",
   "metadata": {},
   "source": [
    "Extract the detailed sku information"
   ]
  },
  {
   "cell_type": "code",
   "execution_count": 65,
   "metadata": {},
   "outputs": [
    {
     "data": {
      "text/plain": [
       "'Web Price\\n  \\nInformation\\n\\n\\n\\nPlease sign in to your account to see your pricing, which may be different from the price displayed.Primary Category:~Safety~Gloves and Hand Protection~Antistatic Gloves'"
      ]
     },
     "execution_count": 65,
     "metadata": {},
     "output_type": "execute_result"
    }
   ],
   "source": [
    "ases=soup.findAll('span',class_='gcprice-label')\n",
    "#ases\n",
    "lis=ases[0].text.lstrip('\\n').strip()\n",
    "lis"
   ]
  },
  {
   "cell_type": "code",
   "execution_count": 28,
   "metadata": {},
   "outputs": [
    {
     "data": {
      "text/plain": [
       "['Antistatic Gloves',\n",
       " 'Antistatic Gloves',\n",
       " 'Antistatic Gloves',\n",
       " 'Antistatic Gloves',\n",
       " 'Antistatic Gloves',\n",
       " 'Antistatic Gloves',\n",
       " 'Antistatic Gloves',\n",
       " 'Antistatic Gloves',\n",
       " 'Antistatic Gloves',\n",
       " 'Antistatic Gloves',\n",
       " 'Antistatic Gloves',\n",
       " 'Antistatic Gloves',\n",
       " 'Antistatic Gloves',\n",
       " 'Antistatic Gloves',\n",
       " 'Antistatic Gloves',\n",
       " 'Antistatic Gloves',\n",
       " 'Antistatic Gloves',\n",
       " 'Antistatic Gloves',\n",
       " 'Antistatic Gloves',\n",
       " 'Antistatic Gloves',\n",
       " 'Antistatic Gloves',\n",
       " 'Antistatic Gloves']"
      ]
     },
     "execution_count": 28,
     "metadata": {},
     "output_type": "execute_result"
    }
   ],
   "source": [
    "# Retrieve all elements that contain item information from tags\n",
    "ases=soup.findAll('span',class_='gcprice-label')\n",
    "#Opening the target url and activating soup\n",
    "cat_link_list=[]\n",
    "for x in antistatic_gloves:\n",
    "    browser.visit(x)\n",
    "    html = browser.html\n",
    "    soup = BeautifulSoup(html, 'html.parser')\n",
    "    ases=soup.findAll('a',class_='bread-link')\n",
    "    lis=ases[2].text\n",
    "    cat_link_list.append(lis)\n",
    "cat_link_list"
   ]
  },
  {
   "cell_type": "code",
   "execution_count": 29,
   "metadata": {},
   "outputs": [],
   "source": [
    "price_list=[]\n",
    "uom_list=[]\n",
    "sku_list=[]\n",
    "definition_list=[]\n",
    "item_list=[]\n",
    "mfr_model_list=[]\n",
    "brand_list=[]\n",
    "cat_group_list=[]\n",
    "unspsc_list=[]\n",
    "item_link_list=[]\n",
    "cat_link_list=[]\n",
    "\n",
    "# Iterate through all pages\n",
    "for x in antistatic_gloves:\n",
    "    #Opening the target url and activating soup\n",
    "    browser.visit(x)\n",
    "    html = browser.html\n",
    "    soup = BeautifulSoup(html, 'html.parser')\n",
    "    \n",
    "    # Retrieve all elements that contain item information from tags\n",
    "    articles = soup.find_all('span', class_='gcprice-value')\n",
    "    skus=soup.find('div',class_='price-replace-wrapper')\n",
    "    lis=soup.findAll('div',class_='head-container clearfix')\n",
    "    uoms=soup.find('span',class_='gcprice-unit')\n",
    "    ases=soup.findAll('a',class_='bread-link')\n",
    "    \n",
    "    #Extract the information of each item\n",
    "    price=articles[0].text.strip()\n",
    "    uom=uoms.text\n",
    "    sku=skus.attrs['data-sku']\n",
    "    definition=soup.find('h1').text.strip()\n",
    "    item=lis[0]('span')[0].text\n",
    "    mfr_model=lis[0]('span')[2].text\n",
    "    marca=lis[0]('a')[0].text\n",
    "    cat_group=lis[0]('a')[1].text\n",
    "    unspsc=lis[0]('span')[5].text\n",
    "    item_link=lis[0]('a')[1]['href']\n",
    "    lis=ases[2].text\n",
    "    \n",
    "    \n",
    "    #Append data extracted to the empty lists\n",
    "    price_list.append(price)\n",
    "    uom_list.append(uom)\n",
    "    sku_list.append(sku)\n",
    "    definition_list.append(definition)\n",
    "    item_list.append(item)\n",
    "    mfr_model_list.append(mfr_model)\n",
    "    brand_list.append(marca)\n",
    "    cat_group_list.append(cat_group)\n",
    "    unspsc_list.append(unspsc)\n",
    "    item_link_list.append(f'https://www.grainger.com/{item_link}')\n",
    "    cat_link_list.append(lis)\n",
    " "
   ]
  },
  {
   "cell_type": "code",
   "execution_count": 30,
   "metadata": {
    "scrolled": true
   },
   "outputs": [
    {
     "data": {
      "text/html": [
       "<div>\n",
       "<style scoped>\n",
       "    .dataframe tbody tr th:only-of-type {\n",
       "        vertical-align: middle;\n",
       "    }\n",
       "\n",
       "    .dataframe tbody tr th {\n",
       "        vertical-align: top;\n",
       "    }\n",
       "\n",
       "    .dataframe thead th {\n",
       "        text-align: right;\n",
       "    }\n",
       "</style>\n",
       "<table border=\"1\" class=\"dataframe\">\n",
       "  <thead>\n",
       "    <tr style=\"text-align: right;\">\n",
       "      <th></th>\n",
       "      <th>SKU</th>\n",
       "      <th>Definition</th>\n",
       "      <th>Manufacturer Model</th>\n",
       "      <th>Brand</th>\n",
       "      <th>Category</th>\n",
       "      <th>Category Group</th>\n",
       "      <th>UNSPSC</th>\n",
       "      <th>Price</th>\n",
       "      <th>UOM</th>\n",
       "      <th>Link</th>\n",
       "    </tr>\n",
       "  </thead>\n",
       "  <tbody>\n",
       "    <tr>\n",
       "      <th>0</th>\n",
       "      <td>3JFP3</td>\n",
       "      <td>Antistatic Gloves, Gray/White, Nitrile, Size X...</td>\n",
       "      <td>11-100</td>\n",
       "      <td>ANSELL</td>\n",
       "      <td>Antistatic Gloves</td>\n",
       "      <td>F0634</td>\n",
       "      <td>46181504</td>\n",
       "      <td>$16.29</td>\n",
       "      <td>/ pair</td>\n",
       "      <td>https://www.grainger.com//search?catalogGrpExi...</td>\n",
       "    </tr>\n",
       "    <tr>\n",
       "      <th>1</th>\n",
       "      <td>9WRN3</td>\n",
       "      <td>Antistatic Gloves, Gray/White, Nitrile, Size S...</td>\n",
       "      <td>11-100</td>\n",
       "      <td>ANSELL</td>\n",
       "      <td>Antistatic Gloves</td>\n",
       "      <td>F0634</td>\n",
       "      <td>46181504</td>\n",
       "      <td>$16.29</td>\n",
       "      <td>/ pair</td>\n",
       "      <td>https://www.grainger.com//search?catalogGrpExi...</td>\n",
       "    </tr>\n",
       "    <tr>\n",
       "      <th>2</th>\n",
       "      <td>3JFP4</td>\n",
       "      <td>Antistatic Gloves, Gray/White, Nitrile, Size M...</td>\n",
       "      <td>11-100</td>\n",
       "      <td>ANSELL</td>\n",
       "      <td>Antistatic Gloves</td>\n",
       "      <td>F0634</td>\n",
       "      <td>46181504</td>\n",
       "      <td>$16.29</td>\n",
       "      <td>/ pair</td>\n",
       "      <td>https://www.grainger.com//search?catalogGrpExi...</td>\n",
       "    </tr>\n",
       "    <tr>\n",
       "      <th>3</th>\n",
       "      <td>8CAW1</td>\n",
       "      <td>Antistatic Gloves, Gray/White, Nitrile, Size L...</td>\n",
       "      <td>11-100</td>\n",
       "      <td>ANSELL</td>\n",
       "      <td>Antistatic Gloves</td>\n",
       "      <td>F0634</td>\n",
       "      <td>46181504</td>\n",
       "      <td>$16.29</td>\n",
       "      <td>/ pair</td>\n",
       "      <td>https://www.grainger.com//search?catalogGrpExi...</td>\n",
       "    </tr>\n",
       "    <tr>\n",
       "      <th>4</th>\n",
       "      <td>3NGY2</td>\n",
       "      <td>Antistatic Gloves, Gray/White, Nitrile, Size X...</td>\n",
       "      <td>11-100</td>\n",
       "      <td>ANSELL</td>\n",
       "      <td>Antistatic Gloves</td>\n",
       "      <td>F0634</td>\n",
       "      <td>46181504</td>\n",
       "      <td>$16.29</td>\n",
       "      <td>/ pair</td>\n",
       "      <td>https://www.grainger.com//search?catalogGrpExi...</td>\n",
       "    </tr>\n",
       "    <tr>\n",
       "      <th>5</th>\n",
       "      <td>19L033</td>\n",
       "      <td>Antistatic Gloves, Gray, Nylon/Carbon Fiber Ya...</td>\n",
       "      <td></td>\n",
       "      <td>CONDOR</td>\n",
       "      <td>Antistatic Gloves</td>\n",
       "      <td>1673</td>\n",
       "      <td>\\nG6631\\n</td>\n",
       "      <td>$37.95</td>\n",
       "      <td>/ pkg. of 12</td>\n",
       "      <td>https://www.grainger.com//content/general-cata...</td>\n",
       "    </tr>\n",
       "    <tr>\n",
       "      <th>6</th>\n",
       "      <td>19L034</td>\n",
       "      <td>Antistatic Gloves, Gray, Nylon/Carbon Fiber Ya...</td>\n",
       "      <td></td>\n",
       "      <td>CONDOR</td>\n",
       "      <td>Antistatic Gloves</td>\n",
       "      <td>1673</td>\n",
       "      <td>\\nG6631\\n</td>\n",
       "      <td>$37.95</td>\n",
       "      <td>/ pkg. of 12</td>\n",
       "      <td>https://www.grainger.com//content/general-cata...</td>\n",
       "    </tr>\n",
       "    <tr>\n",
       "      <th>7</th>\n",
       "      <td>19L035</td>\n",
       "      <td>Antistatic Gloves, Gray, Nylon/Carbon Fiber Ya...</td>\n",
       "      <td></td>\n",
       "      <td>CONDOR</td>\n",
       "      <td>Antistatic Gloves</td>\n",
       "      <td>1673</td>\n",
       "      <td>\\nG6631\\n</td>\n",
       "      <td>$37.95</td>\n",
       "      <td>/ pkg. of 12</td>\n",
       "      <td>https://www.grainger.com//content/general-cata...</td>\n",
       "    </tr>\n",
       "    <tr>\n",
       "      <th>8</th>\n",
       "      <td>19L036</td>\n",
       "      <td>Antistatic Gloves, Gray, Nylon/Carbon Fiber Ya...</td>\n",
       "      <td></td>\n",
       "      <td>CONDOR</td>\n",
       "      <td>Antistatic Gloves</td>\n",
       "      <td>1673</td>\n",
       "      <td>\\nG6631\\n</td>\n",
       "      <td>$37.95</td>\n",
       "      <td>/ pkg. of 12</td>\n",
       "      <td>https://www.grainger.com//content/general-cata...</td>\n",
       "    </tr>\n",
       "    <tr>\n",
       "      <th>9</th>\n",
       "      <td>19L037</td>\n",
       "      <td>Antistatic Gloves, Gray, Nylon/Carbon Fiber Ya...</td>\n",
       "      <td></td>\n",
       "      <td>CONDOR</td>\n",
       "      <td>Antistatic Gloves</td>\n",
       "      <td>1673</td>\n",
       "      <td>\\nG6631\\n</td>\n",
       "      <td>$37.95</td>\n",
       "      <td>/ pkg. of 12</td>\n",
       "      <td>https://www.grainger.com//content/general-cata...</td>\n",
       "    </tr>\n",
       "    <tr>\n",
       "      <th>10</th>\n",
       "      <td>19L038</td>\n",
       "      <td>Antistatic Gloves, Tan/White, Nylon/Copper Fib...</td>\n",
       "      <td></td>\n",
       "      <td>CONDOR</td>\n",
       "      <td>Antistatic Gloves</td>\n",
       "      <td>1673</td>\n",
       "      <td>\\nG6632\\n</td>\n",
       "      <td>$5.75</td>\n",
       "      <td>/ pair</td>\n",
       "      <td>https://www.grainger.com//content/general-cata...</td>\n",
       "    </tr>\n",
       "    <tr>\n",
       "      <th>11</th>\n",
       "      <td>19L039</td>\n",
       "      <td>Antistatic Gloves, Tan/White, Nylon/Copper Fib...</td>\n",
       "      <td></td>\n",
       "      <td>CONDOR</td>\n",
       "      <td>Antistatic Gloves</td>\n",
       "      <td>1673</td>\n",
       "      <td>\\nG6632\\n</td>\n",
       "      <td>$5.75</td>\n",
       "      <td>/ pair</td>\n",
       "      <td>https://www.grainger.com//content/general-cata...</td>\n",
       "    </tr>\n",
       "    <tr>\n",
       "      <th>12</th>\n",
       "      <td>19L040</td>\n",
       "      <td>Antistatic Gloves, Tan/White, Nylon/Copper Fib...</td>\n",
       "      <td></td>\n",
       "      <td>CONDOR</td>\n",
       "      <td>Antistatic Gloves</td>\n",
       "      <td>1673</td>\n",
       "      <td>\\nG6632\\n</td>\n",
       "      <td>$5.75</td>\n",
       "      <td>/ pair</td>\n",
       "      <td>https://www.grainger.com//content/general-cata...</td>\n",
       "    </tr>\n",
       "    <tr>\n",
       "      <th>13</th>\n",
       "      <td>19L041</td>\n",
       "      <td>Antistatic Gloves, Tan/White, Nylon/Copper Fib...</td>\n",
       "      <td></td>\n",
       "      <td>CONDOR</td>\n",
       "      <td>Antistatic Gloves</td>\n",
       "      <td>1673</td>\n",
       "      <td>\\nG6632\\n</td>\n",
       "      <td>$5.75</td>\n",
       "      <td>/ pair</td>\n",
       "      <td>https://www.grainger.com//content/general-cata...</td>\n",
       "    </tr>\n",
       "    <tr>\n",
       "      <th>14</th>\n",
       "      <td>19L042</td>\n",
       "      <td>Antistatic Gloves, Tan/White, Nylon/Copper Fib...</td>\n",
       "      <td></td>\n",
       "      <td>CONDOR</td>\n",
       "      <td>Antistatic Gloves</td>\n",
       "      <td>1673</td>\n",
       "      <td>\\nG6632\\n</td>\n",
       "      <td>$5.75</td>\n",
       "      <td>/ pair</td>\n",
       "      <td>https://www.grainger.com//content/general-cata...</td>\n",
       "    </tr>\n",
       "    <tr>\n",
       "      <th>15</th>\n",
       "      <td>19L043</td>\n",
       "      <td>Antistatic Gloves, Tan/White, Nylon/Copper Fib...</td>\n",
       "      <td></td>\n",
       "      <td>CONDOR</td>\n",
       "      <td>Antistatic Gloves</td>\n",
       "      <td>1673</td>\n",
       "      <td>\\nG6632\\n</td>\n",
       "      <td>$5.75</td>\n",
       "      <td>/ pair</td>\n",
       "      <td>https://www.grainger.com//content/general-cata...</td>\n",
       "    </tr>\n",
       "    <tr>\n",
       "      <th>16</th>\n",
       "      <td>1DPF5</td>\n",
       "      <td>Antistatic Gloves, Gray/White, Nylon/Thunderon...</td>\n",
       "      <td>NF15ESD/6XS</td>\n",
       "      <td>HONEYWELL</td>\n",
       "      <td>Antistatic Gloves</td>\n",
       "      <td>1673</td>\n",
       "      <td>46181504</td>\n",
       "      <td>$11.40</td>\n",
       "      <td>/ pair</td>\n",
       "      <td>https://www.grainger.com//content/general-cata...</td>\n",
       "    </tr>\n",
       "    <tr>\n",
       "      <th>17</th>\n",
       "      <td>1DPF6</td>\n",
       "      <td>Antistatic Gloves, Gray/White, Nylon/Thunderon...</td>\n",
       "      <td>NF15ESD/7S</td>\n",
       "      <td>HONEYWELL</td>\n",
       "      <td>Antistatic Gloves</td>\n",
       "      <td>1673</td>\n",
       "      <td>46181504</td>\n",
       "      <td>$11.40</td>\n",
       "      <td>/ pair</td>\n",
       "      <td>https://www.grainger.com//content/general-cata...</td>\n",
       "    </tr>\n",
       "    <tr>\n",
       "      <th>18</th>\n",
       "      <td>1DPF7</td>\n",
       "      <td>Antistatic Gloves, Gray/White, Nylon/Thunderon...</td>\n",
       "      <td>NF15ESD/8M</td>\n",
       "      <td>HONEYWELL</td>\n",
       "      <td>Antistatic Gloves</td>\n",
       "      <td>1673</td>\n",
       "      <td>46181504</td>\n",
       "      <td>$11.40</td>\n",
       "      <td>/ pair</td>\n",
       "      <td>https://www.grainger.com//content/general-cata...</td>\n",
       "    </tr>\n",
       "    <tr>\n",
       "      <th>19</th>\n",
       "      <td>1DPF8</td>\n",
       "      <td>Antistatic Gloves, Gray/White, Nylon/Thunderon...</td>\n",
       "      <td>NF15ESD/9L</td>\n",
       "      <td>HONEYWELL</td>\n",
       "      <td>Antistatic Gloves</td>\n",
       "      <td>1673</td>\n",
       "      <td>46181504</td>\n",
       "      <td>$11.40</td>\n",
       "      <td>/ pair</td>\n",
       "      <td>https://www.grainger.com//content/general-cata...</td>\n",
       "    </tr>\n",
       "    <tr>\n",
       "      <th>20</th>\n",
       "      <td>1DPF9</td>\n",
       "      <td>Antistatic Gloves, Gray/White, Nylon/Thunderon...</td>\n",
       "      <td>NF15ESD/10XL</td>\n",
       "      <td>HONEYWELL</td>\n",
       "      <td>Antistatic Gloves</td>\n",
       "      <td>1673</td>\n",
       "      <td>46181504</td>\n",
       "      <td>$11.40</td>\n",
       "      <td>/ pair</td>\n",
       "      <td>https://www.grainger.com//content/general-cata...</td>\n",
       "    </tr>\n",
       "    <tr>\n",
       "      <th>21</th>\n",
       "      <td>1DPG1</td>\n",
       "      <td>Antistatic Gloves, Gray/White, Nylon/Thunderon...</td>\n",
       "      <td>NF15ESD/11XXL</td>\n",
       "      <td>HONEYWELL</td>\n",
       "      <td>Antistatic Gloves</td>\n",
       "      <td>1673</td>\n",
       "      <td>46181504</td>\n",
       "      <td>$11.40</td>\n",
       "      <td>/ pair</td>\n",
       "      <td>https://www.grainger.com//content/general-cata...</td>\n",
       "    </tr>\n",
       "  </tbody>\n",
       "</table>\n",
       "</div>"
      ],
      "text/plain": [
       "       SKU                                         Definition  \\\n",
       "0    3JFP3  Antistatic Gloves, Gray/White, Nitrile, Size X...   \n",
       "1    9WRN3  Antistatic Gloves, Gray/White, Nitrile, Size S...   \n",
       "2    3JFP4  Antistatic Gloves, Gray/White, Nitrile, Size M...   \n",
       "3    8CAW1  Antistatic Gloves, Gray/White, Nitrile, Size L...   \n",
       "4    3NGY2  Antistatic Gloves, Gray/White, Nitrile, Size X...   \n",
       "5   19L033  Antistatic Gloves, Gray, Nylon/Carbon Fiber Ya...   \n",
       "6   19L034  Antistatic Gloves, Gray, Nylon/Carbon Fiber Ya...   \n",
       "7   19L035  Antistatic Gloves, Gray, Nylon/Carbon Fiber Ya...   \n",
       "8   19L036  Antistatic Gloves, Gray, Nylon/Carbon Fiber Ya...   \n",
       "9   19L037  Antistatic Gloves, Gray, Nylon/Carbon Fiber Ya...   \n",
       "10  19L038  Antistatic Gloves, Tan/White, Nylon/Copper Fib...   \n",
       "11  19L039  Antistatic Gloves, Tan/White, Nylon/Copper Fib...   \n",
       "12  19L040  Antistatic Gloves, Tan/White, Nylon/Copper Fib...   \n",
       "13  19L041  Antistatic Gloves, Tan/White, Nylon/Copper Fib...   \n",
       "14  19L042  Antistatic Gloves, Tan/White, Nylon/Copper Fib...   \n",
       "15  19L043  Antistatic Gloves, Tan/White, Nylon/Copper Fib...   \n",
       "16   1DPF5  Antistatic Gloves, Gray/White, Nylon/Thunderon...   \n",
       "17   1DPF6  Antistatic Gloves, Gray/White, Nylon/Thunderon...   \n",
       "18   1DPF7  Antistatic Gloves, Gray/White, Nylon/Thunderon...   \n",
       "19   1DPF8  Antistatic Gloves, Gray/White, Nylon/Thunderon...   \n",
       "20   1DPF9  Antistatic Gloves, Gray/White, Nylon/Thunderon...   \n",
       "21   1DPG1  Antistatic Gloves, Gray/White, Nylon/Thunderon...   \n",
       "\n",
       "   Manufacturer Model      Brand           Category Category Group     UNSPSC  \\\n",
       "0              11-100     ANSELL  Antistatic Gloves          F0634   46181504   \n",
       "1              11-100     ANSELL  Antistatic Gloves          F0634   46181504   \n",
       "2              11-100     ANSELL  Antistatic Gloves          F0634   46181504   \n",
       "3              11-100     ANSELL  Antistatic Gloves          F0634   46181504   \n",
       "4              11-100     ANSELL  Antistatic Gloves          F0634   46181504   \n",
       "5                         CONDOR  Antistatic Gloves           1673  \\nG6631\\n   \n",
       "6                         CONDOR  Antistatic Gloves           1673  \\nG6631\\n   \n",
       "7                         CONDOR  Antistatic Gloves           1673  \\nG6631\\n   \n",
       "8                         CONDOR  Antistatic Gloves           1673  \\nG6631\\n   \n",
       "9                         CONDOR  Antistatic Gloves           1673  \\nG6631\\n   \n",
       "10                        CONDOR  Antistatic Gloves           1673  \\nG6632\\n   \n",
       "11                        CONDOR  Antistatic Gloves           1673  \\nG6632\\n   \n",
       "12                        CONDOR  Antistatic Gloves           1673  \\nG6632\\n   \n",
       "13                        CONDOR  Antistatic Gloves           1673  \\nG6632\\n   \n",
       "14                        CONDOR  Antistatic Gloves           1673  \\nG6632\\n   \n",
       "15                        CONDOR  Antistatic Gloves           1673  \\nG6632\\n   \n",
       "16        NF15ESD/6XS  HONEYWELL  Antistatic Gloves           1673   46181504   \n",
       "17         NF15ESD/7S  HONEYWELL  Antistatic Gloves           1673   46181504   \n",
       "18         NF15ESD/8M  HONEYWELL  Antistatic Gloves           1673   46181504   \n",
       "19         NF15ESD/9L  HONEYWELL  Antistatic Gloves           1673   46181504   \n",
       "20       NF15ESD/10XL  HONEYWELL  Antistatic Gloves           1673   46181504   \n",
       "21      NF15ESD/11XXL  HONEYWELL  Antistatic Gloves           1673   46181504   \n",
       "\n",
       "     Price           UOM                                               Link  \n",
       "0   $16.29        / pair  https://www.grainger.com//search?catalogGrpExi...  \n",
       "1   $16.29        / pair  https://www.grainger.com//search?catalogGrpExi...  \n",
       "2   $16.29        / pair  https://www.grainger.com//search?catalogGrpExi...  \n",
       "3   $16.29        / pair  https://www.grainger.com//search?catalogGrpExi...  \n",
       "4   $16.29        / pair  https://www.grainger.com//search?catalogGrpExi...  \n",
       "5   $37.95  / pkg. of 12  https://www.grainger.com//content/general-cata...  \n",
       "6   $37.95  / pkg. of 12  https://www.grainger.com//content/general-cata...  \n",
       "7   $37.95  / pkg. of 12  https://www.grainger.com//content/general-cata...  \n",
       "8   $37.95  / pkg. of 12  https://www.grainger.com//content/general-cata...  \n",
       "9   $37.95  / pkg. of 12  https://www.grainger.com//content/general-cata...  \n",
       "10   $5.75        / pair  https://www.grainger.com//content/general-cata...  \n",
       "11   $5.75        / pair  https://www.grainger.com//content/general-cata...  \n",
       "12   $5.75        / pair  https://www.grainger.com//content/general-cata...  \n",
       "13   $5.75        / pair  https://www.grainger.com//content/general-cata...  \n",
       "14   $5.75        / pair  https://www.grainger.com//content/general-cata...  \n",
       "15   $5.75        / pair  https://www.grainger.com//content/general-cata...  \n",
       "16  $11.40        / pair  https://www.grainger.com//content/general-cata...  \n",
       "17  $11.40        / pair  https://www.grainger.com//content/general-cata...  \n",
       "18  $11.40        / pair  https://www.grainger.com//content/general-cata...  \n",
       "19  $11.40        / pair  https://www.grainger.com//content/general-cata...  \n",
       "20  $11.40        / pair  https://www.grainger.com//content/general-cata...  \n",
       "21  $11.40        / pair  https://www.grainger.com//content/general-cata...  "
      ]
     },
     "execution_count": 30,
     "metadata": {},
     "output_type": "execute_result"
    }
   ],
   "source": [
    "import pandas as pd\n",
    "#Create dataframe for antistatic gloves\n",
    "df_antistatic_gloves = pd.DataFrame(\n",
    "    {'SKU': sku_list,\n",
    "     'Definition': definition_list,\n",
    "     'Manufacturer Model':mfr_model_list,\n",
    "     'Brand': brand_list,\n",
    "     'Category':cat_link_list,\n",
    "     'Category Group':cat_group_list,\n",
    "     'UNSPSC':unspsc_list,\n",
    "     'Price':price_list,\n",
    "     'UOM':uom_list,\n",
    "     'Link':item_link_list\n",
    "    })\n",
    "df_antistatic_gloves"
   ]
  },
  {
   "cell_type": "code",
   "execution_count": null,
   "metadata": {},
   "outputs": [],
   "source": []
  },
  {
   "cell_type": "code",
   "execution_count": null,
   "metadata": {},
   "outputs": [],
   "source": []
  },
  {
   "cell_type": "code",
   "execution_count": null,
   "metadata": {},
   "outputs": [],
   "source": []
  },
  {
   "cell_type": "code",
   "execution_count": null,
   "metadata": {},
   "outputs": [],
   "source": []
  },
  {
   "cell_type": "code",
   "execution_count": null,
   "metadata": {},
   "outputs": [],
   "source": []
  },
  {
   "cell_type": "code",
   "execution_count": null,
   "metadata": {},
   "outputs": [],
   "source": []
  },
  {
   "cell_type": "code",
   "execution_count": null,
   "metadata": {},
   "outputs": [],
   "source": []
  },
  {
   "cell_type": "code",
   "execution_count": null,
   "metadata": {},
   "outputs": [],
   "source": []
  },
  {
   "cell_type": "markdown",
   "metadata": {},
   "source": [
    "Testing blocks"
   ]
  },
  {
   "cell_type": "code",
   "execution_count": null,
   "metadata": {},
   "outputs": [],
   "source": []
  },
  {
   "cell_type": "code",
   "execution_count": null,
   "metadata": {},
   "outputs": [],
   "source": [
    "#For Windows users - Opening the target url\n",
    "urlsku ='https://www.grainger.com/product/HONEYWELL-antistatic-gloves-3JFP3'\n",
    "browser.visit(urlsku)\n",
    "\n",
    "#activating soup\n",
    "html = browser.html\n",
    "soup = BeautifulSoup(html, 'html.parser')"
   ]
  },
  {
   "cell_type": "code",
   "execution_count": null,
   "metadata": {},
   "outputs": [],
   "source": [
    "articles = soup.find('span', class_='gcprice-value')\n",
    "skus=soup.find('div',class_='price-replace-wrapper')\n",
    "lis=soup.findAll('div',class_='head-container clearfix')\n",
    "uoms=soup.find('span',class_='gcprice-unit')\n",
    "\n",
    "price=articles.text.strip()\n",
    "uom=uoms.text\n",
    "sku=skus.attrs['data-sku']\n",
    "definition=soup.find('h1').text.strip()\n",
    "item=lis[0]('span')[0].text\n",
    "mfr_model=lis[0]('span')[2].text\n",
    "brand=lis[0]('a')[0].text\n",
    "cat_group=lis[0]('a')[1].text\n",
    "unspsc=lis[0]('span')[5].text\n",
    "item_link=lis[0]('a')[1]['href']\n",
    "mfr_model"
   ]
  },
  {
   "cell_type": "code",
   "execution_count": null,
   "metadata": {
    "scrolled": true
   },
   "outputs": [],
   "source": [
    "#Create an empty list that will hold the partial urls\n",
    "partial_link=[]\n",
    "#For loop to iterate all the urls and add brand and category\n",
    "for link in brand:\n",
    "        #Store the partial link to be created into a variable\n",
    "        rec_link=f'https://www.grainger.com/product/{link}-antistatic-gloves-'\n",
    "        #Appending the partial link created to the empty list\n",
    "        partial_link.append(rec_link)\n",
    "        #Create an empty list that will hold the full end url\n",
    "        sku_links=[]\n",
    "        #For loop to iterate each partial link and add the sku number\n",
    "        for i in sku:  \n",
    "            #Store the full link to be created into a variable and adding sku number\n",
    "            sku_li=f'{rec_link}{i}'\n",
    "            #Appending the full url to the empty list\n",
    "            sku_links.append(sku_li)\n",
    "#Display urls in the list\n",
    "sku_links"
   ]
  },
  {
   "cell_type": "code",
   "execution_count": null,
   "metadata": {},
   "outputs": [],
   "source": [
    "#Extracting all categories\n",
    "#Set up an empty list\n",
    "subcategories_list=[]\n",
    "#Find all the text contained in span tags\n",
    "spans = soup.findAll('tr', class_='search-table-view__web-parent-table-row')\n",
    "spans\n",
    "#spans2=spans[0].attrs['data-sku']\n",
    "#spans2"
   ]
  },
  {
   "cell_type": "code",
   "execution_count": null,
   "metadata": {
    "scrolled": true
   },
   "outputs": [],
   "source": [
    "#For loop to iterate through all the list\n",
    "for span in spans:\n",
    "    #Get each text from each tag, and strip blank spaces\n",
    "    #subcategories=spans.attrs['data-sku']\n",
    "    #Append each list to the general list\n",
    "    subcategories_list.append(span.attrs['data-sku'])\n",
    "#Display results\n",
    "subcategories_list"
   ]
  },
  {
   "cell_type": "code",
   "execution_count": null,
   "metadata": {},
   "outputs": [],
   "source": [
    "link=f'https://www.grainger.com/product/{first_column}-antistatic-gloves-'\n",
    "print(link)"
   ]
  },
  {
   "cell_type": "code",
   "execution_count": null,
   "metadata": {},
   "outputs": [],
   "source": []
  },
  {
   "cell_type": "code",
   "execution_count": null,
   "metadata": {},
   "outputs": [],
   "source": []
  },
  {
   "cell_type": "code",
   "execution_count": null,
   "metadata": {},
   "outputs": [],
   "source": []
  },
  {
   "cell_type": "code",
   "execution_count": null,
   "metadata": {},
   "outputs": [],
   "source": []
  },
  {
   "cell_type": "code",
   "execution_count": null,
   "metadata": {},
   "outputs": [],
   "source": []
  },
  {
   "cell_type": "code",
   "execution_count": null,
   "metadata": {},
   "outputs": [],
   "source": []
  }
 ],
 "metadata": {
  "hide_input": false,
  "kernelspec": {
   "display_name": "Python 3",
   "language": "python",
   "name": "python3"
  },
  "language_info": {
   "codemirror_mode": {
    "name": "ipython",
    "version": 3
   },
   "file_extension": ".py",
   "mimetype": "text/x-python",
   "name": "python",
   "nbconvert_exporter": "python",
   "pygments_lexer": "ipython3",
   "version": "3.7.1"
  },
  "toc": {
   "base_numbering": 1,
   "nav_menu": {},
   "number_sections": true,
   "sideBar": true,
   "skip_h1_title": true,
   "title_cell": "Table of Contents",
   "title_sidebar": "Contents",
   "toc_cell": false,
   "toc_position": {},
   "toc_section_display": true,
   "toc_window_display": false
  },
  "varInspector": {
   "cols": {
    "lenName": 16,
    "lenType": 16,
    "lenVar": 40
   },
   "kernels_config": {
    "python": {
     "delete_cmd_postfix": "",
     "delete_cmd_prefix": "del ",
     "library": "var_list.py",
     "varRefreshCmd": "print(var_dic_list())"
    },
    "r": {
     "delete_cmd_postfix": ") ",
     "delete_cmd_prefix": "rm(",
     "library": "var_list.r",
     "varRefreshCmd": "cat(var_dic_list()) "
    }
   },
   "types_to_exclude": [
    "module",
    "function",
    "builtin_function_or_method",
    "instance",
    "_Feature"
   ],
   "window_display": false
  }
 },
 "nbformat": 4,
 "nbformat_minor": 2
}
