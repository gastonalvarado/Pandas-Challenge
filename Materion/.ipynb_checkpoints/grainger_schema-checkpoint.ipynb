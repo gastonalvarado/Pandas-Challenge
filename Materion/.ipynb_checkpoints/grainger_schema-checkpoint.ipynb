{
 "cells": [
  {
   "cell_type": "markdown",
   "metadata": {},
   "source": [
    "# Grainger - Category Chart "
   ]
  },
  {
   "cell_type": "markdown",
   "metadata": {},
   "source": [
    "Code developed to build the category chart for the Fastenal website. The objective is to collect all of the urls for each one of the product categories and subcategories and their names so we can build the hierarchy and also use the urls for the data scraping of all of the part numbers "
   ]
  },
  {
   "cell_type": "markdown",
   "metadata": {},
   "source": [
    "## Import all dependencies and start selenium "
   ]
  },
  {
   "cell_type": "markdown",
   "metadata": {},
   "source": [
    "We are using selenium and BeautifulSoup for the scraping process"
   ]
  },
  {
   "cell_type": "code",
   "execution_count": null,
   "metadata": {},
   "outputs": [],
   "source": [
    "#Finding the location of chromedriver.exe\n",
    "#https://splinter.readthedocs.io/en/latest/drivers/chrome.html\n",
    "!which chromedriver"
   ]
  },
  {
   "cell_type": "code",
   "execution_count": 1,
   "metadata": {
    "code_folding": [],
    "run_control": {
     "marked": false
    }
   },
   "outputs": [],
   "source": [
    "# Import your newly installed selenium package\n",
    "from selenium import webdriver\n",
    "from splinter import Browser\n",
    "from selenium.webdriver.common.keys import Keys\n",
    "import time\n",
    "time.sleep(3)\n",
    "from splinter.exceptions import ElementDoesNotExist\n",
    "from bs4 import BeautifulSoup\n",
    "\n",
    "# Now create an 'instance' of your driver\n",
    "WebDriver = {'executable_path': 'chromedriver'}\n",
    "# A new Chrome (or other browser) window should open up\n",
    "browser = Browser('chrome', **WebDriver, headless=False)\n",
    "# Defining width and height of the browser\n",
    "browser.driver.set_window_size(1750, 1250)\n",
    "#For Mac users - Opening the targer url\n",
    "#driver.get(\"https://www.fastenal.com/product/abrasives/coated-and-non-woven-abrasives/fiber-and-sanding-discs/609478?categoryId=609478&level=3&isExpanded=true&productFamilyId=26373&view=2\")\n",
    "#For Windows users - Opening the target url\n",
    "url ='https://www.grainger.com/category?analytics=nav'\n",
    "browser.visit(url)"
   ]
  },
  {
   "cell_type": "markdown",
   "metadata": {},
   "source": [
    "## Initialize searches "
   ]
  },
  {
   "cell_type": "markdown",
   "metadata": {},
   "source": [
    "#### All Products"
   ]
  },
  {
   "cell_type": "markdown",
   "metadata": {},
   "source": [
    "Inspecting the website, we found that the Product category information is in a div inside the class 'col-xs-12 category-list margin--top-0', and it is consistent across all the pages, so we can create a function that gives us access to that div initially "
   ]
  },
  {
   "cell_type": "code",
   "execution_count": null,
   "metadata": {
    "scrolled": true
   },
   "outputs": [],
   "source": [
    "#activating soup\n",
    "html = browser.html\n",
    "soup = BeautifulSoup(html, 'html.parser')\n",
    "\n",
    "products = soup.findAll('ul',class_='categories__list')\n",
    "all_products_urls=[i['href'] for i in (products[0]('a'))]\n",
    "all_products_urls"
   ]
  },
  {
   "cell_type": "markdown",
   "metadata": {},
   "source": [
    "Safety Categories - all Categories"
   ]
  },
  {
   "cell_type": "code",
   "execution_count": null,
   "metadata": {},
   "outputs": [],
   "source": [
    "#For Windows users - Opening the target url\n",
    "url2 ='https://www.grainger.com/category/safety'\n",
    "browser.visit(url2)\n",
    "\n",
    "#activating soup\n",
    "html = browser.html\n",
    "soup = BeautifulSoup(html, 'html.parser')"
   ]
  },
  {
   "cell_type": "code",
   "execution_count": null,
   "metadata": {
    "scrolled": true
   },
   "outputs": [],
   "source": [
    "spans = soup.findAll('span', class_='category-text')\n",
    "subcategories_list=[span.text.strip() for span in spans]\n",
    "    \n",
    "subcategories_list"
   ]
  },
  {
   "cell_type": "markdown",
   "metadata": {},
   "source": [
    "Gloves and Hand Protection - all subcategories"
   ]
  },
  {
   "cell_type": "code",
   "execution_count": 12,
   "metadata": {},
   "outputs": [],
   "source": [
    "#For Windows users - Opening the target url\n",
    "url2 ='https://www.grainger.com/category/safety/gloves-and-hand-protection'\n",
    "browser.visit(url2)\n",
    "\n",
    "#activating soup\n",
    "html = browser.html\n",
    "soup = BeautifulSoup(html, 'html.parser')"
   ]
  },
  {
   "cell_type": "code",
   "execution_count": 13,
   "metadata": {
    "scrolled": true
   },
   "outputs": [
    {
     "data": {
      "text/plain": [
       "['https://www.grainger.com/category/safety/gloves-and-hand-protection/Antistatic-Gloves',\n",
       " 'https://www.grainger.com/category/safety/gloves-and-hand-protection/Arc-Flash-Gloves',\n",
       " 'https://www.grainger.com/category/safety/gloves-and-hand-protection/Chemical-Resistant-Gloves',\n",
       " 'https://www.grainger.com/category/safety/gloves-and-hand-protection/Coated-Gloves',\n",
       " 'https://www.grainger.com/category/safety/gloves-and-hand-protection/Cold-Condition-Gloves',\n",
       " 'https://www.grainger.com/category/safety/gloves-and-hand-protection/Cryogenic-Gloves',\n",
       " 'https://www.grainger.com/category/safety/gloves-and-hand-protection/Cut-Resistant-Gloves',\n",
       " 'https://www.grainger.com/category/safety/gloves-and-hand-protection/Disposable-Gloves',\n",
       " 'https://www.grainger.com/category/safety/gloves-and-hand-protection/Electrical-Glove-Accessories',\n",
       " 'https://www.grainger.com/category/safety/gloves-and-hand-protection/Electrical-Gloves',\n",
       " 'https://www.grainger.com/category/safety/gloves-and-hand-protection/Extrication-and-Rescue-Gloves',\n",
       " 'https://www.grainger.com/category/safety/gloves-and-hand-protection/Finger-Cots',\n",
       " 'https://www.grainger.com/category/safety/gloves-and-hand-protection/Firefighter-Gloves',\n",
       " 'https://www.grainger.com/category/safety/gloves-and-hand-protection/Flame-Retardant-Gloves',\n",
       " 'https://www.grainger.com/category/safety/gloves-and-hand-protection/General-Purpose-Gloves',\n",
       " 'https://www.grainger.com/category/safety/gloves-and-hand-protection/Glove-Box-Gloves',\n",
       " 'https://www.grainger.com/category/safety/gloves-and-hand-protection/Glove-Dispensers',\n",
       " 'https://www.grainger.com/category/safety/gloves-and-hand-protection/Glove-Holder-Clips',\n",
       " 'https://www.grainger.com/category/safety/gloves-and-hand-protection/Hand-and-Finger-Guards',\n",
       " 'https://www.grainger.com/category/safety/gloves-and-hand-protection/Heat-Resistant-Gloves',\n",
       " 'https://www.grainger.com/category/safety/gloves-and-hand-protection/Heated-Gloves-and-Hand-Warmers',\n",
       " 'https://www.grainger.com/category/safety/gloves-and-hand-protection/Impact-Resistant-and-Anti-Vibration-Gloves',\n",
       " 'https://www.grainger.com/category/safety/gloves-and-hand-protection/Inspection-Gloves-and-Glove-Liners',\n",
       " 'https://www.grainger.com/category/safety/gloves-and-hand-protection/Leather-Work-and-Drivers-Gloves',\n",
       " 'https://www.grainger.com/category/safety/gloves-and-hand-protection/Mechanics-Gloves',\n",
       " 'https://www.grainger.com/category/safety/gloves-and-hand-protection/Military,-Police-and-Tactical-Gloves',\n",
       " 'https://www.grainger.com/category/safety/gloves-and-hand-protection/Welding-Gloves']"
      ]
     },
     "execution_count": 13,
     "metadata": {},
     "output_type": "execute_result"
    }
   ],
   "source": [
    "#Extract the categories from the span tag\n",
    "spans = soup.findAll('span', class_='category-text')\n",
    "#List comprehension to extract the text from the span class\n",
    "subcategories_list=[span.text.strip() for span in spans] \n",
    "#Function to add hypen between words and use it to build the next url\n",
    "def replace_runs_of_whitespace_with_hyphen(word):\n",
    "    return '-'.join(word.split())\n",
    "#List comprehension to insert the hyphen between words\n",
    "hyphrases = [replace_runs_of_whitespace_with_hyphen(w) for w in subcategories_list]\n",
    "#List comprehension to build the next url using the new hyphened words\n",
    "gloves_and_hand_protection=[f'https://www.grainger.com/category/safety/gloves-and-hand-protection/{link}' for link in hyphrases]\n",
    "gloves_and_hand_protection"
   ]
  },
  {
   "cell_type": "markdown",
   "metadata": {},
   "source": [
    "Antistatic Gloves - end urls"
   ]
  },
  {
   "cell_type": "code",
   "execution_count": 16,
   "metadata": {},
   "outputs": [],
   "source": [
    "#For Windows users - Opening the target url\n",
    "url3 ='https://www.grainger.com/category/safety/gloves-and-hand-protection/antistatic-gloves'\n",
    "browser.visit(url3)\n",
    "\n",
    "#activating soup\n",
    "html = browser.html\n",
    "soup = BeautifulSoup(html, 'html.parser')"
   ]
  },
  {
   "cell_type": "code",
   "execution_count": 180,
   "metadata": {
    "scrolled": true
   },
   "outputs": [
    {
     "data": {
      "text/plain": [
       "[{'https://www.grainger.com/product/19L033',\n",
       "  'https://www.grainger.com/product/19L034',\n",
       "  'https://www.grainger.com/product/19L035',\n",
       "  'https://www.grainger.com/product/19L036',\n",
       "  'https://www.grainger.com/product/19L037',\n",
       "  'https://www.grainger.com/product/19L038',\n",
       "  'https://www.grainger.com/product/19L039',\n",
       "  'https://www.grainger.com/product/19L040',\n",
       "  'https://www.grainger.com/product/19L041',\n",
       "  'https://www.grainger.com/product/19L042',\n",
       "  'https://www.grainger.com/product/19L043',\n",
       "  'https://www.grainger.com/product/1DPF5',\n",
       "  'https://www.grainger.com/product/1DPF6',\n",
       "  'https://www.grainger.com/product/1DPF7',\n",
       "  'https://www.grainger.com/product/1DPF8',\n",
       "  'https://www.grainger.com/product/1DPF9',\n",
       "  'https://www.grainger.com/product/1DPG1',\n",
       "  'https://www.grainger.com/product/3JFP3',\n",
       "  'https://www.grainger.com/product/3JFP4',\n",
       "  'https://www.grainger.com/product/3NGY2',\n",
       "  'https://www.grainger.com/product/8CAW1',\n",
       "  'https://www.grainger.com/product/9WRN3'}]"
      ]
     },
     "execution_count": 180,
     "metadata": {},
     "output_type": "execute_result"
    }
   ],
   "source": [
    "#Extract all values from the tr tag\n",
    "bs=soup.findAll('tr',class_='search-table-view__web-parent-table-row')\n",
    "#Extract the brand values from the tag\n",
    "brand=[row.findAll('td')[4].contents[0].strip() for row in bs]\n",
    "#Extract the sku values from the tag\n",
    "sku=[row.findAll('button')[0].text.strip() for row in bs]\n",
    "#Extract all category values from tag\n",
    "cat=[row.findAll('td')[0].contents[0].strip() for row in bs]\n",
    "\n",
    "#Function to add hypen between words and use it to build the next url\n",
    "def replace_runs_of_whitespace_with_hyphen(word):\n",
    "    return '-'.join(word.split())\n",
    "#List comprehension to insert the hyphen between words\n",
    "hyphrases = [replace_runs_of_whitespace_with_hyphen(w) for w in cat]\n",
    "\n",
    "#List comprehension to create the end url\n",
    "partial_link=[f'https://www.grainger.com/product/{i}' for i in sku]\n",
    "\n",
    "\n",
    "for b in brand:\n",
    "    link3=[]\n",
    "    link2={f'https://www.grainger.com/product/{i}'for i in sku}\n",
    "    link3.append(link2)\n",
    "link3"
   ]
  },
  {
   "cell_type": "code",
   "execution_count": null,
   "metadata": {},
   "outputs": [],
   "source": [
    "max_len = []\n",
    "for word in fourier_dict:\n",
    "    word = fourier_dict[word]\n",
    "    for occur in word:\n",
    "        max_len.append(len(occur))"
   ]
  },
  {
   "cell_type": "code",
   "execution_count": null,
   "metadata": {},
   "outputs": [],
   "source": [
    "max_len = [len(occur) for word in fourier_dict for occur in fourier_dict[word]]"
   ]
  },
  {
   "cell_type": "code",
   "execution_count": null,
   "metadata": {},
   "outputs": [],
   "source": [
    "partial_link=[f'https://www.grainger.com/product/{b}-{c}-{i}' for b in brand for c in hyphrases for i in sku]"
   ]
  },
  {
   "cell_type": "code",
   "execution_count": 137,
   "metadata": {},
   "outputs": [
    {
     "data": {
      "text/plain": [
       "['https://www.grainger.com/product/HONEYWELL']"
      ]
     },
     "execution_count": 137,
     "metadata": {},
     "output_type": "execute_result"
    }
   ],
   "source": []
  },
  {
   "cell_type": "markdown",
   "metadata": {},
   "source": [
    "Extract the detailed sku information"
   ]
  },
  {
   "cell_type": "code",
   "execution_count": null,
   "metadata": {},
   "outputs": [],
   "source": [
    "#For Windows users - Opening the target url\n",
    "urlsku ='https://www.grainger.com/product/HONEYWELL-antistatic-gloves-3JFP3'\n",
    "browser.visit(urlsku)\n",
    "\n",
    "#activating soup\n",
    "html = browser.html\n",
    "soup = BeautifulSoup(html, 'html.parser')"
   ]
  },
  {
   "cell_type": "code",
   "execution_count": null,
   "metadata": {},
   "outputs": [],
   "source": [
    "articles = soup.find('span', class_='gcprice-value')\n",
    "skus=soup.find('div',class_='price-replace-wrapper')\n",
    "lis=soup.findAll('div',class_='head-container clearfix')\n",
    "\n",
    "price=articles.text.strip()\n",
    "sku=skus.attrs['data-sku']\n",
    "definition=soup.find('h1').text.strip()\n",
    "item=lis[0]('span')[0].text\n",
    "mfr_model=lis[0]('span')[2].text\n",
    "brand=lis[0]('a')[0].text\n",
    "cat_group=lis[0]('a')[1].text\n",
    "unspsc=lis[0]('span')[5].text\n",
    "item_link=lis[0]('a')[1]['href']\n",
    "item_link"
   ]
  },
  {
   "cell_type": "code",
   "execution_count": null,
   "metadata": {},
   "outputs": [],
   "source": [
    "price_list=[]\n",
    "sku_list=[]\n",
    "definition_list=[]\n",
    "item_list=[]\n",
    "mfr_model_list=[]\n",
    "brand_list=[]\n",
    "cat_group_list=[]\n",
    "unspsc_list=[]\n",
    "item_link_list=[]\n",
    "\n",
    "# Iterate through all pages\n",
    "for x in partial_link:\n",
    "    #For Windows users - Opening the target url\n",
    "    browser.visit(x)\n",
    "\n",
    "    #activating soup\n",
    "    html = browser.html\n",
    "    soup = BeautifulSoup(html, 'html.parser')\n",
    "    \n",
    "    # Retrieve all elements that contain book information\n",
    "    articles = soup.find_all('span', class_='gcprice-value')\n",
    "    \n",
    "    price=articles.text.strip()\n",
    "    price_list.append(price)\n",
    "    \n",
    "price_list"
   ]
  },
  {
   "cell_type": "code",
   "execution_count": null,
   "metadata": {},
   "outputs": [],
   "source": []
  },
  {
   "cell_type": "code",
   "execution_count": null,
   "metadata": {},
   "outputs": [],
   "source": []
  },
  {
   "cell_type": "code",
   "execution_count": null,
   "metadata": {},
   "outputs": [],
   "source": []
  },
  {
   "cell_type": "code",
   "execution_count": null,
   "metadata": {},
   "outputs": [],
   "source": []
  },
  {
   "cell_type": "code",
   "execution_count": null,
   "metadata": {},
   "outputs": [],
   "source": []
  },
  {
   "cell_type": "code",
   "execution_count": null,
   "metadata": {},
   "outputs": [],
   "source": []
  },
  {
   "cell_type": "code",
   "execution_count": null,
   "metadata": {},
   "outputs": [],
   "source": []
  },
  {
   "cell_type": "code",
   "execution_count": null,
   "metadata": {},
   "outputs": [],
   "source": []
  },
  {
   "cell_type": "code",
   "execution_count": null,
   "metadata": {},
   "outputs": [],
   "source": []
  },
  {
   "cell_type": "code",
   "execution_count": null,
   "metadata": {},
   "outputs": [],
   "source": []
  },
  {
   "cell_type": "markdown",
   "metadata": {},
   "source": [
    "Testing blocks"
   ]
  },
  {
   "cell_type": "code",
   "execution_count": null,
   "metadata": {},
   "outputs": [],
   "source": []
  },
  {
   "cell_type": "code",
   "execution_count": 138,
   "metadata": {
    "scrolled": true
   },
   "outputs": [
    {
     "data": {
      "text/plain": [
       "['https://www.grainger.com/product/HONEYWELL-antistatic-gloves-3JFP3',\n",
       " 'https://www.grainger.com/product/HONEYWELL-antistatic-gloves-9WRN3',\n",
       " 'https://www.grainger.com/product/HONEYWELL-antistatic-gloves-3JFP4',\n",
       " 'https://www.grainger.com/product/HONEYWELL-antistatic-gloves-8CAW1',\n",
       " 'https://www.grainger.com/product/HONEYWELL-antistatic-gloves-3NGY2',\n",
       " 'https://www.grainger.com/product/HONEYWELL-antistatic-gloves-19L033',\n",
       " 'https://www.grainger.com/product/HONEYWELL-antistatic-gloves-19L034',\n",
       " 'https://www.grainger.com/product/HONEYWELL-antistatic-gloves-19L035',\n",
       " 'https://www.grainger.com/product/HONEYWELL-antistatic-gloves-19L036',\n",
       " 'https://www.grainger.com/product/HONEYWELL-antistatic-gloves-19L037',\n",
       " 'https://www.grainger.com/product/HONEYWELL-antistatic-gloves-19L038',\n",
       " 'https://www.grainger.com/product/HONEYWELL-antistatic-gloves-19L039',\n",
       " 'https://www.grainger.com/product/HONEYWELL-antistatic-gloves-19L040',\n",
       " 'https://www.grainger.com/product/HONEYWELL-antistatic-gloves-19L041',\n",
       " 'https://www.grainger.com/product/HONEYWELL-antistatic-gloves-19L042',\n",
       " 'https://www.grainger.com/product/HONEYWELL-antistatic-gloves-19L043',\n",
       " 'https://www.grainger.com/product/HONEYWELL-antistatic-gloves-1DPF5',\n",
       " 'https://www.grainger.com/product/HONEYWELL-antistatic-gloves-1DPF6',\n",
       " 'https://www.grainger.com/product/HONEYWELL-antistatic-gloves-1DPF7',\n",
       " 'https://www.grainger.com/product/HONEYWELL-antistatic-gloves-1DPF8',\n",
       " 'https://www.grainger.com/product/HONEYWELL-antistatic-gloves-1DPF9',\n",
       " 'https://www.grainger.com/product/HONEYWELL-antistatic-gloves-1DPG1']"
      ]
     },
     "execution_count": 138,
     "metadata": {},
     "output_type": "execute_result"
    }
   ],
   "source": [
    "#Create an empty list that will hold the partial urls\n",
    "partial_link=[]\n",
    "#For loop to iterate all the urls and add brand and category\n",
    "for link in brand:\n",
    "        #Store the partial link to be created into a variable\n",
    "        rec_link=f'https://www.grainger.com/product/{link}-antistatic-gloves-'\n",
    "        #Appending the partial link created to the empty list\n",
    "        partial_link.append(rec_link)\n",
    "        #Create an empty list that will hold the full end url\n",
    "        sku_links=[]\n",
    "        #For loop to iterate each partial link and add the sku number\n",
    "        for i in sku:  \n",
    "            #Store the full link to be created into a variable and adding sku number\n",
    "            sku_li=f'{rec_link}{i}'\n",
    "            #Appending the full url to the empty list\n",
    "            sku_links.append(sku_li)\n",
    "#Display urls in the list\n",
    "sku_links"
   ]
  },
  {
   "cell_type": "code",
   "execution_count": null,
   "metadata": {},
   "outputs": [],
   "source": [
    "#Extracting all categories\n",
    "#Set up an empty list\n",
    "subcategories_list=[]\n",
    "#Find all the text contained in span tags\n",
    "spans = soup.findAll('tr', class_='search-table-view__web-parent-table-row')\n",
    "spans\n",
    "#spans2=spans[0].attrs['data-sku']\n",
    "#spans2"
   ]
  },
  {
   "cell_type": "code",
   "execution_count": null,
   "metadata": {
    "scrolled": true
   },
   "outputs": [],
   "source": [
    "#For loop to iterate through all the list\n",
    "for span in spans:\n",
    "    #Get each text from each tag, and strip blank spaces\n",
    "    #subcategories=spans.attrs['data-sku']\n",
    "    #Append each list to the general list\n",
    "    subcategories_list.append(span.attrs['data-sku'])\n",
    "#Display results\n",
    "subcategories_list"
   ]
  },
  {
   "cell_type": "code",
   "execution_count": null,
   "metadata": {},
   "outputs": [],
   "source": [
    "link=f'https://www.grainger.com/product/{first_column}-antistatic-gloves-'\n",
    "print(link)"
   ]
  },
  {
   "cell_type": "code",
   "execution_count": null,
   "metadata": {},
   "outputs": [],
   "source": []
  },
  {
   "cell_type": "code",
   "execution_count": null,
   "metadata": {},
   "outputs": [],
   "source": []
  },
  {
   "cell_type": "code",
   "execution_count": null,
   "metadata": {},
   "outputs": [],
   "source": []
  },
  {
   "cell_type": "code",
   "execution_count": null,
   "metadata": {},
   "outputs": [],
   "source": []
  },
  {
   "cell_type": "code",
   "execution_count": null,
   "metadata": {},
   "outputs": [],
   "source": []
  },
  {
   "cell_type": "code",
   "execution_count": null,
   "metadata": {},
   "outputs": [],
   "source": []
  }
 ],
 "metadata": {
  "hide_input": false,
  "kernelspec": {
   "display_name": "Python 3",
   "language": "python",
   "name": "python3"
  },
  "language_info": {
   "codemirror_mode": {
    "name": "ipython",
    "version": 3
   },
   "file_extension": ".py",
   "mimetype": "text/x-python",
   "name": "python",
   "nbconvert_exporter": "python",
   "pygments_lexer": "ipython3",
   "version": "3.7.1"
  },
  "toc": {
   "base_numbering": 1,
   "nav_menu": {},
   "number_sections": true,
   "sideBar": true,
   "skip_h1_title": true,
   "title_cell": "Table of Contents",
   "title_sidebar": "Contents",
   "toc_cell": false,
   "toc_position": {},
   "toc_section_display": true,
   "toc_window_display": false
  },
  "varInspector": {
   "cols": {
    "lenName": 16,
    "lenType": 16,
    "lenVar": 40
   },
   "kernels_config": {
    "python": {
     "delete_cmd_postfix": "",
     "delete_cmd_prefix": "del ",
     "library": "var_list.py",
     "varRefreshCmd": "print(var_dic_list())"
    },
    "r": {
     "delete_cmd_postfix": ") ",
     "delete_cmd_prefix": "rm(",
     "library": "var_list.r",
     "varRefreshCmd": "cat(var_dic_list()) "
    }
   },
   "types_to_exclude": [
    "module",
    "function",
    "builtin_function_or_method",
    "instance",
    "_Feature"
   ],
   "window_display": false
  }
 },
 "nbformat": 4,
 "nbformat_minor": 2
}
