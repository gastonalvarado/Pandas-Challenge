{
 "cells": [
  {
   "cell_type": "code",
   "execution_count": 3,
   "metadata": {
    "run_control": {
     "marked": true
    }
   },
   "outputs": [],
   "source": [
    "from splinter import Browser\n",
    "from splinter.exceptions import ElementDoesNotExist\n",
    "from bs4 import BeautifulSoup\n",
    "from selenium import webdriver\n",
    "from selenium.webdriver.common.keys import Keys\n",
    "#from selenium.common.exceptions import [TheNameOfTheExceptionClass]"
   ]
  },
  {
   "cell_type": "markdown",
   "metadata": {},
   "source": [
    "# Mac Users"
   ]
  },
  {
   "cell_type": "code",
   "execution_count": 4,
   "metadata": {},
   "outputs": [],
   "source": [
    "#https://splinter.readthedocs.io/en/latest/drivers/chrome.html\n",
    "#!which chromedriver"
   ]
  },
  {
   "cell_type": "code",
   "execution_count": 5,
   "metadata": {},
   "outputs": [],
   "source": [
    "#driver = webdriver.Chrome(executable_path= r'C:/usr/local/bin/chromedriver')\n",
    "#executable_path = {'executable_path': '/usr/local/bin/chromedriver'}\n",
    "#browser = Browser('chrome', **executable_path, headless=False)\n"
   ]
  },
  {
   "cell_type": "markdown",
   "metadata": {},
   "source": [
    "# Windows Users"
   ]
  },
  {
   "cell_type": "code",
   "execution_count": 7,
   "metadata": {},
   "outputs": [],
   "source": [
    "driver = {'executable_path': 'chromedriver.exe'}\n",
    "browser = Browser('chrome', **driver, headless=False)"
   ]
  },
  {
   "cell_type": "code",
   "execution_count": 8,
   "metadata": {},
   "outputs": [],
   "source": [
    "url ='https://www.fastenal.com/product/abrasives/coated-and-non-woven-abrasives/fiber-and-sanding-discs/609478?categoryId=609478&level=3&isExpanded=true&productFamilyId=26373&view=1'\n",
    "browser.visit(url)"
   ]
  },
  {
   "cell_type": "code",
   "execution_count": 9,
   "metadata": {},
   "outputs": [],
   "source": [
    "html = browser.html\n",
    "soup = BeautifulSoup(html, 'html.parser')"
   ]
  },
  {
   "cell_type": "code",
   "execution_count": 10,
   "metadata": {},
   "outputs": [],
   "source": [
    "grid_view = soup.findAll('div',class_='gridview__prd--desc')"
   ]
  },
  {
   "cell_type": "code",
   "execution_count": 11,
   "metadata": {
    "scrolled": true
   },
   "outputs": [
    {
     "data": {
      "text/plain": [
       "[<div class=\"gridview__prd--desc\" title='5\" x 7/8\" 36+ 982C 3M CUBITRON II Fiber Disc'>5\" x 7/8\" 36+ 982C 3M CUBITRON II Fiber Disc</div>,\n",
       " <div class=\"gridview__prd--desc\" title='7\" x 7/8\" 36+ 982C 3M CUBITRON II Fiber Disc'>7\" x 7/8\" 36+ 982C 3M CUBITRON II Fiber Disc</div>,\n",
       " <div class=\"gridview__prd--desc\" title='4-1/2\" x 7/8\" Brown 36 Grit Aluminum Oxide Blackstone&amp;reg; Fiber Sanding Disc'>4-1/2\" x 7/8\" Brown 36 Grit Aluminum Oxide Blackstone® Fiber Sanding Disc</div>,\n",
       " <div class=\"gridview__prd--desc\" title='4-1/2\" x 7/8\" Red/Pink 36 Grit Ceramic Blackstone&amp;reg; Fiber Disc'>4-1/2\" x 7/8\" Red/Pink 36 Grit Ceramic Blackstone® Fiber Disc</div>,\n",
       " <div class=\"gridview__prd--desc\" title='4-1/2\" x 7/8\" 36+ 982C 3M CUBITRON II Fiber Disc'>4-1/2\" x 7/8\" 36+ 982C 3M CUBITRON II Fiber Disc</div>,\n",
       " <div class=\"gridview__prd--desc\" title='TRIM KUT 36 Grit 4-1/2\" Red Depressed Center AlumOxide Disc'>TRIM KUT 36 Grit 4-1/2\" Red Depressed Center AlumOxide Disc</div>,\n",
       " <div class=\"gridview__prd--desc\" title='4-1/2\" x 7/8\" Brown 60 Grit Aluminum Oxide Blackstone&amp;reg; Fiber Sanding Disc'>4-1/2\" x 7/8\" Brown 60 Grit Aluminum Oxide Blackstone® Fiber Sanding Disc</div>,\n",
       " <div class=\"gridview__prd--desc\" title='4-1/2\" x 7/8\" Blue 36 Grit Zirconia Blackstone&amp;reg; Fiber Sanding Disc'>4-1/2\" x 7/8\" Blue 36 Grit Zirconia Blackstone® Fiber Sanding Disc</div>,\n",
       " <div class=\"gridview__prd--desc\" title='5\" x 7/8\" 36 Grit Zirconia Fiber Sanding Disc'>5\" x 7/8\" 36 Grit Zirconia Fiber Sanding Disc</div>,\n",
       " <div class=\"gridview__prd--desc\" title='5\" x 7/8\" Blue 36 Grit Zirconia Blackstone&amp;reg; Fiber Sanding Disc'>5\" x 7/8\" Blue 36 Grit Zirconia Blackstone® Fiber Sanding Disc</div>,\n",
       " <div class=\"gridview__prd--desc\" title='4-1/2\" x 7/8\" Brown 80 Grit Aluminum Oxide Blackstone&amp;reg; Fiber Sanding Disc'>4-1/2\" x 7/8\" Brown 80 Grit Aluminum Oxide Blackstone® Fiber Sanding Disc</div>,\n",
       " <div class=\"gridview__prd--desc\" title='5\" x 7/8\" Brown 36 Grit Aluminum Oxide Blackstone&amp;reg; Fiber Sanding Disc'>5\" x 7/8\" Brown 36 Grit Aluminum Oxide Blackstone® Fiber Sanding Disc</div>]"
      ]
     },
     "execution_count": 11,
     "metadata": {},
     "output_type": "execute_result"
    }
   ],
   "source": [
    "grid_view"
   ]
  },
  {
   "cell_type": "code",
   "execution_count": 12,
   "metadata": {},
   "outputs": [
    {
     "name": "stdout",
     "output_type": "stream",
     "text": [
      "5\" x 7/8\" 36+ 982C 3M CUBITRON II Fiber Disc\n",
      "7\" x 7/8\" 36+ 982C 3M CUBITRON II Fiber Disc\n",
      "4-1/2\" x 7/8\" Brown 36 Grit Aluminum Oxide Blackstone&reg; Fiber Sanding Disc\n",
      "4-1/2\" x 7/8\" Red/Pink 36 Grit Ceramic Blackstone&reg; Fiber Disc\n",
      "4-1/2\" x 7/8\" 36+ 982C 3M CUBITRON II Fiber Disc\n",
      "TRIM KUT 36 Grit 4-1/2\" Red Depressed Center AlumOxide Disc\n",
      "4-1/2\" x 7/8\" Brown 60 Grit Aluminum Oxide Blackstone&reg; Fiber Sanding Disc\n",
      "4-1/2\" x 7/8\" Blue 36 Grit Zirconia Blackstone&reg; Fiber Sanding Disc\n",
      "5\" x 7/8\" 36 Grit Zirconia Fiber Sanding Disc\n",
      "5\" x 7/8\" Blue 36 Grit Zirconia Blackstone&reg; Fiber Sanding Disc\n",
      "4-1/2\" x 7/8\" Brown 80 Grit Aluminum Oxide Blackstone&reg; Fiber Sanding Disc\n",
      "5\" x 7/8\" Brown 36 Grit Aluminum Oxide Blackstone&reg; Fiber Sanding Disc\n"
     ]
    },
    {
     "ename": "AttributeError",
     "evalue": "'dict' object has no attribute 'find_element_by_css_selector'",
     "output_type": "error",
     "traceback": [
      "\u001b[1;31m---------------------------------------------------------------------------\u001b[0m",
      "\u001b[1;31mAttributeError\u001b[0m                            Traceback (most recent call last)",
      "\u001b[1;32m<ipython-input-12-50ca0006dd40>\u001b[0m in \u001b[0;36m<module>\u001b[1;34m\u001b[0m\n\u001b[0;32m     34\u001b[0m \u001b[1;33m\u001b[0m\u001b[0m\n\u001b[0;32m     35\u001b[0m \u001b[1;33m\u001b[0m\u001b[0m\n\u001b[1;32m---> 36\u001b[1;33m \u001b[0mmenu\u001b[0m \u001b[1;33m=\u001b[0m \u001b[0mdriver\u001b[0m\u001b[1;33m.\u001b[0m\u001b[0mfind_element_by_css_selector\u001b[0m\u001b[1;33m(\u001b[0m\u001b[1;34m\".btn.btn-pagination.js-btn-pagination\"\u001b[0m\u001b[1;33m)\u001b[0m\u001b[1;33m\u001b[0m\u001b[1;33m\u001b[0m\u001b[0m\n\u001b[0m\u001b[0;32m     37\u001b[0m \u001b[0mhidden_submenu\u001b[0m \u001b[1;33m=\u001b[0m \u001b[0mdriver\u001b[0m\u001b[1;33m.\u001b[0m\u001b[0mfind_element_by_css_selector\u001b[0m\u001b[1;33m(\u001b[0m\u001b[1;34m\".btn.btn-pagination.js-btn-pagination #submenu1\"\u001b[0m\u001b[1;33m)\u001b[0m\u001b[1;33m\u001b[0m\u001b[1;33m\u001b[0m\u001b[0m\n\u001b[0;32m     38\u001b[0m \u001b[1;33m\u001b[0m\u001b[0m\n",
      "\u001b[1;31mAttributeError\u001b[0m: 'dict' object has no attribute 'find_element_by_css_selector'"
     ]
    }
   ],
   "source": [
    "# Iterate through each book\n",
    "all_titles=[]\n",
    "for view in grid_view:\n",
    "        # Use Beautiful Soup's find() method to navigate and retrieve attributes\n",
    "        h3 = view['title']\n",
    "        all_titles.append(h3)\n",
    "        print(h3)\n",
    "\n",
    "        all_titles\n",
    "\n",
    "#page_url = \"https://www.fastenal.com/product/abrasives/coated-and-non-woven-abrasives/fiber-and-sanding-discs/609478?categoryId=609478&level=3&isExpanded=true&productFamilyId=26373&view=1\"\n",
    "#last_page = soup.find('ul', class_='pagination-list productlist-pagination-list').find('li', class_='pagination-item').a['href'].split('=')[1]\n",
    "\n",
    "#dept_page_url = [page_url.format(i) for i in range(1, int(last_page)+1)]\n",
    "        \n",
    "\n",
    "#Finding the CSS element to click on\n",
    "#browser.is_element_present_by_name('a.btn btn-pagination js-btn-pagination')\n",
    "#browser.is_element_present_by_css('.btn.btn-pagination.js-btn-pagination')\n",
    "#browser.is_element_present_by_text('>>')\n",
    "\n",
    "\n",
    "# Click the 'Next' button on each page\n",
    "#button = browser.find_by_css('li[href]')\n",
    "#button.first.click()\n",
    "#button=browser.click_link_by_partial_href('my_https://www.fastenal.com/product/abrasives/coated-and-non-woven-abrasives/fiber-and-sanding-discs/609478?categoryId=609478&level=3&isExpanded=true&productFamilyId=26373&view=1link')\n",
    "#button.first.click()\n",
    "#browser.click_link_by_text('>>')\n",
    "#assert browser.find_by_css('.btn.btn-pagination.js-btn-pagination').first.visible\n",
    "#browser.click_link_by_partial_href('/product/abrasives/coated-and-non-woven-abrasives/fiber-and-sanding-discs/609478?categoryId=609478&level=3&isExpanded=true&productFamilyId=26373&page=2&pageSize=12&exactSkuMatchLevel=useData&view=1')\n",
    "#browser.find_by_css('.btn.btn-pagination.js-btn-pagination').first.value\n",
    "#browser.find_by_css('a.btn.btn-pagination.js-btn-pagination').first.click()\n",
    "#browser.find_by_css('li.pagination-item').first.click()\n",
    "\n",
    "\n",
    "menu = driver.find_element_by_css_selector(\".btn.btn-pagination.js-btn-pagination\")\n",
    "hidden_submenu = driver.find_element_by_css_selector(\".btn.btn-pagination.js-btn-pagination #submenu1\")\n",
    "\n",
    "ActionChains(driver).move_to_element(menu).click(hidden_submenu).perform()"
   ]
  },
  {
   "cell_type": "code",
   "execution_count": null,
   "metadata": {},
   "outputs": [],
   "source": []
  },
  {
   "cell_type": "code",
   "execution_count": null,
   "metadata": {},
   "outputs": [],
   "source": [
    "title_list = []\n",
    "\n",
    "for view in grid_view:\n",
    "    catalog_url = bar['title']\n",
    "    title_list.append(catalog_url)\n",
    "\n",
    "#try:\n",
    "    #for title in title_list:\n",
    "        #browser.click_link_by_partial_text('next')\n",
    "#except ElementDoesNotExist:\n",
    "    #print(\"Scraping Complete\")\n",
    "    print(title_list)"
   ]
  },
  {
   "cell_type": "code",
   "execution_count": null,
   "metadata": {},
   "outputs": [],
   "source": []
  },
  {
   "cell_type": "code",
   "execution_count": null,
   "metadata": {},
   "outputs": [],
   "source": [
    "html = browser.html\n",
    "soup = BeautifulSoup(html, 'html.parser')\n",
    "\n",
    "sidebar = soup.find('div',class_='category-grid-item-name')\n",
    "\n",
    "categories = sidebar.find_all('a')\n",
    "#liga=categories['href']\n",
    "\n",
    "#category_list = []\n",
    "url_list = []\n",
    "catalog_url_list = []\n",
    "for category in categories:\n",
    "    #title = category.text.strip()\n",
    "    #category_list.append(title)\n",
    "    catalog_url = category['href']\n",
    "    url_list.append(catalog_url)\n",
    "\n",
    "catalog_url_list = ['https://www.fastenal.com/' + url for url in url_list]\n",
    "\n",
    "urls = catalog_url_list\n",
    "\n",
    "try:\n",
    "    for title_url in urls:\n",
    "        browser.click_link_by_partial_text('next')\n",
    "except ElementDoesNotExist:\n",
    "    print(\"Scraping Complete\")"
   ]
  },
  {
   "cell_type": "code",
   "execution_count": null,
   "metadata": {},
   "outputs": [],
   "source": [
    "urls"
   ]
  },
  {
   "cell_type": "code",
   "execution_count": null,
   "metadata": {},
   "outputs": [],
   "source": []
  },
  {
   "cell_type": "code",
   "execution_count": null,
   "metadata": {},
   "outputs": [],
   "source": []
  },
  {
   "cell_type": "code",
   "execution_count": null,
   "metadata": {},
   "outputs": [],
   "source": []
  },
  {
   "cell_type": "code",
   "execution_count": null,
   "metadata": {},
   "outputs": [],
   "source": []
  },
  {
   "cell_type": "code",
   "execution_count": null,
   "metadata": {},
   "outputs": [],
   "source": []
  },
  {
   "cell_type": "code",
   "execution_count": null,
   "metadata": {},
   "outputs": [],
   "source": []
  },
  {
   "cell_type": "code",
   "execution_count": null,
   "metadata": {},
   "outputs": [],
   "source": []
  },
  {
   "cell_type": "code",
   "execution_count": null,
   "metadata": {},
   "outputs": [],
   "source": []
  }
 ],
 "metadata": {
  "hide_input": false,
  "kernelspec": {
   "display_name": "Python 3",
   "language": "python",
   "name": "python3"
  },
  "language_info": {
   "codemirror_mode": {
    "name": "ipython",
    "version": 3
   },
   "file_extension": ".py",
   "mimetype": "text/x-python",
   "name": "python",
   "nbconvert_exporter": "python",
   "pygments_lexer": "ipython3",
   "version": "3.7.1"
  },
  "toc": {
   "base_numbering": 1,
   "nav_menu": {},
   "number_sections": true,
   "sideBar": true,
   "skip_h1_title": true,
   "title_cell": "Table of Contents",
   "title_sidebar": "Contents",
   "toc_cell": false,
   "toc_position": {},
   "toc_section_display": true,
   "toc_window_display": false
  },
  "varInspector": {
   "cols": {
    "lenName": 16,
    "lenType": 16,
    "lenVar": 40
   },
   "kernels_config": {
    "python": {
     "delete_cmd_postfix": "",
     "delete_cmd_prefix": "del ",
     "library": "var_list.py",
     "varRefreshCmd": "print(var_dic_list())"
    },
    "r": {
     "delete_cmd_postfix": ") ",
     "delete_cmd_prefix": "rm(",
     "library": "var_list.r",
     "varRefreshCmd": "cat(var_dic_list()) "
    }
   },
   "types_to_exclude": [
    "module",
    "function",
    "builtin_function_or_method",
    "instance",
    "_Feature"
   ],
   "window_display": false
  }
 },
 "nbformat": 4,
 "nbformat_minor": 2
}
