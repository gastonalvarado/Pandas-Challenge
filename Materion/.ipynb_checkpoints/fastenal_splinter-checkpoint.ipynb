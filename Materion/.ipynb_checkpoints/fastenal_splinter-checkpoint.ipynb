{
 "cells": [
  {
   "cell_type": "code",
   "execution_count": 1,
   "metadata": {
    "run_control": {
     "marked": true
    }
   },
   "outputs": [],
   "source": [
    "from splinter import Browser\n",
    "from splinter.exceptions import ElementDoesNotExist\n",
    "from bs4 import BeautifulSoup\n",
    "from selenium import webdriver\n",
    "from selenium.webdriver.common.keys import Keys\n",
    "#from selenium.common.exceptions import [TheNameOfTheExceptionClass]"
   ]
  },
  {
   "cell_type": "markdown",
   "metadata": {},
   "source": [
    "# Mac Users"
   ]
  },
  {
   "cell_type": "code",
   "execution_count": 2,
   "metadata": {},
   "outputs": [
    {
     "name": "stdout",
     "output_type": "stream",
     "text": [
      "/usr/local/bin/chromedriver\r\n"
     ]
    }
   ],
   "source": [
    "#https://splinter.readthedocs.io/en/latest/drivers/chrome.html\n",
    "!which chromedriver\n"
   ]
  },
  {
   "cell_type": "code",
   "execution_count": 3,
   "metadata": {},
   "outputs": [],
   "source": [
    "#driver = webdriver.Chrome(executable_path= r'C:/usr/local/bin/chromedriver')\n",
    "executable_path = {'executable_path': '/usr/local/bin/chromedriver'}\n",
    "browser = Browser('chrome', **executable_path, headless=False)\n"
   ]
  },
  {
   "cell_type": "markdown",
   "metadata": {},
   "source": [
    "# Windows Users"
   ]
  },
  {
   "cell_type": "code",
   "execution_count": 4,
   "metadata": {},
   "outputs": [],
   "source": [
    "#driver = {'executable_path': 'chromedriver.exe'}\n",
    "#browser = Browser('chrome', **driver, headless=False)\n"
   ]
  },
  {
   "cell_type": "code",
   "execution_count": 5,
   "metadata": {},
   "outputs": [],
   "source": [
    "url ='https://www.fastenal.com/product/abrasives/coated-and-non-woven-abrasives/600955?categoryId=600955&level=2&isExpanded=true'\n",
    "browser.visit(url)\n",
    "html = browser.html\n",
    "soup = BeautifulSoup(html, 'html.parser')"
   ]
  },
  {
   "cell_type": "code",
   "execution_count": 6,
   "metadata": {
    "scrolled": true
   },
   "outputs": [
    {
     "name": "stdout",
     "output_type": "stream",
     "text": [
      "/product/abrasives/600948;jsessionid=AFeu+9hJvjTza8K-bW6f6iZ6.713728dc-d653-355a-a89c-3e45dac6e990?categoryId=600948&level=1&fsi=1\n",
      "/product/adhesives-sealants-and-tape/613850;jsessionid=AFeu+9hJvjTza8K-bW6f6iZ6.713728dc-d653-355a-a89c-3e45dac6e990?categoryId=613850&level=1&fsi=1\n",
      "/product/cutting-tools-and-metalworking/601071;jsessionid=AFeu+9hJvjTza8K-bW6f6iZ6.713728dc-d653-355a-a89c-3e45dac6e990?categoryId=601071&level=1&fsi=1\n",
      "/product/electrical/601280;jsessionid=AFeu+9hJvjTza8K-bW6f6iZ6.713728dc-d653-355a-a89c-3e45dac6e990?categoryId=601280&level=1&fsi=1\n",
      "/product/electronics-and-batteries/613851;jsessionid=AFeu+9hJvjTza8K-bW6f6iZ6.713728dc-d653-355a-a89c-3e45dac6e990?categoryId=613851&level=1&fsi=1\n",
      "/product/fasteners/600000;jsessionid=AFeu+9hJvjTza8K-bW6f6iZ6.713728dc-d653-355a-a89c-3e45dac6e990?categoryId=600000&level=1&fsi=1\n",
      "/product/fleet-and-automotive/609389;jsessionid=AFeu+9hJvjTza8K-bW6f6iZ6.713728dc-d653-355a-a89c-3e45dac6e990?categoryId=609389&level=1&fsi=1\n",
      "/product/hvac-and-refrigeration/600583;jsessionid=AFeu+9hJvjTza8K-bW6f6iZ6.713728dc-d653-355a-a89c-3e45dac6e990?categoryId=600583&level=1&fsi=1\n",
      "/product/hardware/600206;jsessionid=AFeu+9hJvjTza8K-bW6f6iZ6.713728dc-d653-355a-a89c-3e45dac6e990?categoryId=600206&level=1&fsi=1\n",
      "/product/hydraulics/603388;jsessionid=AFeu+9hJvjTza8K-bW6f6iZ6.713728dc-d653-355a-a89c-3e45dac6e990?categoryId=603388&level=1&fsi=1\n",
      "/product/janitorial-and-cleaning/601490;jsessionid=AFeu+9hJvjTza8K-bW6f6iZ6.713728dc-d653-355a-a89c-3e45dac6e990?categoryId=601490&level=1&fsi=1\n",
      "/product/lighting/601281;jsessionid=AFeu+9hJvjTza8K-bW6f6iZ6.713728dc-d653-355a-a89c-3e45dac6e990?categoryId=601281&level=1&fsi=1\n",
      "/product/lubricants-coolants-and-fluids/613918;jsessionid=AFeu+9hJvjTza8K-bW6f6iZ6.713728dc-d653-355a-a89c-3e45dac6e990?categoryId=613918&level=1&fsi=1\n",
      "/product/machinery/613852;jsessionid=AFeu+9hJvjTza8K-bW6f6iZ6.713728dc-d653-355a-a89c-3e45dac6e990?categoryId=613852&level=1&fsi=1\n",
      "/product/material-handling-lifting-and-rigging/601813;jsessionid=AFeu+9hJvjTza8K-bW6f6iZ6.713728dc-d653-355a-a89c-3e45dac6e990?categoryId=601813&level=1&fsi=1\n",
      "/product/motors/613961;jsessionid=AFeu+9hJvjTza8K-bW6f6iZ6.713728dc-d653-355a-a89c-3e45dac6e990?categoryId=613961&level=1&fsi=1\n",
      "/product/office-and-breakroom-supplies/609525;jsessionid=AFeu+9hJvjTza8K-bW6f6iZ6.713728dc-d653-355a-a89c-3e45dac6e990?categoryId=609525&level=1&fsi=1\n",
      "/product/outdoor-products-and-equipment/613853;jsessionid=AFeu+9hJvjTza8K-bW6f6iZ6.713728dc-d653-355a-a89c-3e45dac6e990?categoryId=613853&level=1&fsi=1\n",
      "/product/packaging-and-shipping-products/613854;jsessionid=AFeu+9hJvjTza8K-bW6f6iZ6.713728dc-d653-355a-a89c-3e45dac6e990?categoryId=613854&level=1&fsi=1\n",
      "/product/paint-and-painting-supplies/613960;jsessionid=AFeu+9hJvjTza8K-bW6f6iZ6.713728dc-d653-355a-a89c-3e45dac6e990?categoryId=613960&level=1&fsi=1\n",
      "/product/plumbing/610686;jsessionid=AFeu+9hJvjTza8K-bW6f6iZ6.713728dc-d653-355a-a89c-3e45dac6e990?categoryId=610686&level=1&fsi=1\n",
      "/product/pneumatics/613855;jsessionid=AFeu+9hJvjTza8K-bW6f6iZ6.713728dc-d653-355a-a89c-3e45dac6e990?categoryId=613855&level=1&fsi=1\n",
      "/product/power-transmission/603582;jsessionid=AFeu+9hJvjTza8K-bW6f6iZ6.713728dc-d653-355a-a89c-3e45dac6e990?categoryId=603582&level=1&fsi=1\n",
      "/product/pumps/613856;jsessionid=AFeu+9hJvjTza8K-bW6f6iZ6.713728dc-d653-355a-a89c-3e45dac6e990?categoryId=613856&level=1&fsi=1\n",
      "/product/raw-materials/600930;jsessionid=AFeu+9hJvjTza8K-bW6f6iZ6.713728dc-d653-355a-a89c-3e45dac6e990?categoryId=600930&level=1&fsi=1\n",
      "/product/safety/600616;jsessionid=AFeu+9hJvjTza8K-bW6f6iZ6.713728dc-d653-355a-a89c-3e45dac6e990?categoryId=600616&level=1&fsi=1\n",
      "/product/security/613857;jsessionid=AFeu+9hJvjTza8K-bW6f6iZ6.713728dc-d653-355a-a89c-3e45dac6e990?categoryId=613857&level=1&fsi=1\n",
      "/product/test-and-measurement/613858;jsessionid=AFeu+9hJvjTza8K-bW6f6iZ6.713728dc-d653-355a-a89c-3e45dac6e990?categoryId=613858&level=1&fsi=1\n",
      "/product/tools-and-equipment/600241;jsessionid=AFeu+9hJvjTza8K-bW6f6iZ6.713728dc-d653-355a-a89c-3e45dac6e990?categoryId=600241&level=1&fsi=1\n",
      "/product/welding/600974;jsessionid=AFeu+9hJvjTza8K-bW6f6iZ6.713728dc-d653-355a-a89c-3e45dac6e990?categoryId=600974&level=1&fsi=1\n"
     ]
    }
   ],
   "source": [
    "grid_view = soup.findAll('a',class_='category-menu-listitem')\n",
    "\n",
    "for view in grid_view:\n",
    "    h3 = view['href']\n",
    "    print(h3)"
   ]
  },
  {
   "cell_type": "code",
   "execution_count": 7,
   "metadata": {},
   "outputs": [],
   "source": [
    "url2 ='https://www.fastenal.com/product/abrasives/600948;jsessionid=5zHSra9AoK-kglNDNjr4wCFE.443d7b2e-1555-3602-a586-c0d73327934b?categoryId=600948&level=1&fsi=1'\n",
    "browser.visit(url2)\n",
    "html = browser.html\n",
    "soup = BeautifulSoup(html, 'html.parser')"
   ]
  },
  {
   "cell_type": "code",
   "execution_count": 34,
   "metadata": {
    "scrolled": true
   },
   "outputs": [
    {
     "name": "stdout",
     "output_type": "stream",
     "text": [
      "/product/abrasives/coated-and-non-woven-abrasives/600955?categoryId=600955&level=2&isExpanded=true\n",
      "/product/abrasives/brushes-and-deburring-products/600967?categoryId=600967&level=2&isExpanded=true\n",
      "/product/abrasives/bonded-abrasives/600949?categoryId=600949&level=2&isExpanded=true\n",
      "/product/abrasives/carbide-burr-products/609175?categoryId=609175&level=2&isExpanded=true\n",
      "/product/abrasives/diamond-abrasives/611202?categoryId=611202&level=2&isExpanded=true\n",
      "/product/abrasives/abrasive-accessories/604166?categoryId=604166&level=2&isExpanded=true\n",
      "/product/abrasives/files-and-rasps/600973?categoryId=600973&level=2&isExpanded=true\n",
      "/product/abrasives/sand-blasters-and-accessories/605050?categoryId=605050&level=2&isExpanded=true\n",
      "/product/abrasives/production-abrasives/600963?categoryId=600963&level=2&isExpanded=true\n",
      "/product/abrasives/buffing-and-polishing-products/609482?categoryId=609482&level=2&isExpanded=true\n"
     ]
    }
   ],
   "source": [
    "category_body = soup.findAll('div',class_='col-xs-12 category-list category-body')\n",
    "level=category_body[0].findAll('a')\n",
    "\n",
    "for levels in level:\n",
    "    h4 = levels['href']\n",
    "    print(h4)"
   ]
  },
  {
   "cell_type": "code",
   "execution_count": null,
   "metadata": {},
   "outputs": [],
   "source": []
  },
  {
   "cell_type": "code",
   "execution_count": null,
   "metadata": {},
   "outputs": [],
   "source": []
  },
  {
   "cell_type": "code",
   "execution_count": null,
   "metadata": {},
   "outputs": [],
   "source": []
  },
  {
   "cell_type": "code",
   "execution_count": null,
   "metadata": {},
   "outputs": [],
   "source": []
  },
  {
   "cell_type": "code",
   "execution_count": null,
   "metadata": {},
   "outputs": [],
   "source": []
  },
  {
   "cell_type": "code",
   "execution_count": null,
   "metadata": {},
   "outputs": [],
   "source": []
  },
  {
   "cell_type": "code",
   "execution_count": null,
   "metadata": {},
   "outputs": [],
   "source": []
  },
  {
   "cell_type": "code",
   "execution_count": null,
   "metadata": {},
   "outputs": [],
   "source": []
  },
  {
   "cell_type": "code",
   "execution_count": null,
   "metadata": {},
   "outputs": [],
   "source": [
    "# Iterate through each book\n",
    "all_titles=[]\n",
    "for view in grid_view:\n",
    "        # Use Beautiful Soup's find() method to navigate and retrieve attributes\n",
    "        h3 = view.a['href']\n",
    "        all_titles.append(h3)\n",
    "        print(h3)\n",
    "\n",
    "        all_titles\n",
    "\n",
    "#page_url = \"https://www.fastenal.com/product/abrasives/coated-and-non-woven-abrasives/fiber-and-sanding-discs/609478?categoryId=609478&level=3&isExpanded=true&productFamilyId=26373&view=1\"\n",
    "#last_page = soup.find('ul', class_='pagination-list productlist-pagination-list').find('li', class_='pagination-item').a['href'].split('=')[1]\n",
    "\n",
    "#dept_page_url = [page_url.format(i) for i in range(1, int(last_page)+1)]\n",
    "        \n",
    "\n",
    "#Finding the CSS element to click on\n",
    "#browser.is_element_present_by_name('a.btn btn-pagination js-btn-pagination')\n",
    "#browser.is_element_present_by_css('.btn.btn-pagination.js-btn-pagination')\n",
    "#browser.is_element_present_by_text('>>')\n",
    "\n",
    "\n",
    "# Click the 'Next' button on each page\n",
    "#button = browser.find_by_css('li[href]')\n",
    "#button.first.click()\n",
    "#button=browser.click_link_by_partial_href('my_https://www.fastenal.com/product/abrasives/coated-and-non-woven-abrasives/fiber-and-sanding-discs/609478?categoryId=609478&level=3&isExpanded=true&productFamilyId=26373&view=1link')\n",
    "#button.first.click()\n",
    "#browser.click_link_by_text('>>')\n",
    "#assert browser.find_by_css('.btn.btn-pagination.js-btn-pagination').first.visible\n",
    "#browser.click_link_by_partial_href('/product/abrasives/coated-and-non-woven-abrasives/fiber-and-sanding-discs/609478?categoryId=609478&level=3&isExpanded=true&productFamilyId=26373&page=2&pageSize=12&exactSkuMatchLevel=useData&view=1')\n",
    "#browser.find_by_css('.btn.btn-pagination.js-btn-pagination').first.value\n",
    "#browser.find_by_css('a.btn.btn-pagination.js-btn-pagination').first.click()\n",
    "#browser.find_by_css('li.pagination-item').first.click()\n"
   ]
  },
  {
   "cell_type": "code",
   "execution_count": null,
   "metadata": {},
   "outputs": [],
   "source": []
  },
  {
   "cell_type": "code",
   "execution_count": null,
   "metadata": {},
   "outputs": [],
   "source": []
  },
  {
   "cell_type": "code",
   "execution_count": null,
   "metadata": {},
   "outputs": [],
   "source": []
  },
  {
   "cell_type": "code",
   "execution_count": null,
   "metadata": {},
   "outputs": [],
   "source": []
  },
  {
   "cell_type": "code",
   "execution_count": null,
   "metadata": {},
   "outputs": [],
   "source": []
  },
  {
   "cell_type": "code",
   "execution_count": null,
   "metadata": {},
   "outputs": [],
   "source": []
  },
  {
   "cell_type": "code",
   "execution_count": null,
   "metadata": {},
   "outputs": [],
   "source": []
  },
  {
   "cell_type": "code",
   "execution_count": null,
   "metadata": {},
   "outputs": [],
   "source": []
  },
  {
   "cell_type": "code",
   "execution_count": null,
   "metadata": {},
   "outputs": [],
   "source": []
  },
  {
   "cell_type": "code",
   "execution_count": null,
   "metadata": {},
   "outputs": [],
   "source": []
  }
 ],
 "metadata": {
  "hide_input": false,
  "kernelspec": {
   "display_name": "Python 3",
   "language": "python",
   "name": "python3"
  },
  "language_info": {
   "codemirror_mode": {
    "name": "ipython",
    "version": 3
   },
   "file_extension": ".py",
   "mimetype": "text/x-python",
   "name": "python",
   "nbconvert_exporter": "python",
   "pygments_lexer": "ipython3",
   "version": "3.7.1"
  },
  "toc": {
   "base_numbering": 1,
   "nav_menu": {},
   "number_sections": true,
   "sideBar": true,
   "skip_h1_title": true,
   "title_cell": "Table of Contents",
   "title_sidebar": "Contents",
   "toc_cell": false,
   "toc_position": {},
   "toc_section_display": true,
   "toc_window_display": false
  },
  "varInspector": {
   "cols": {
    "lenName": 16,
    "lenType": 16,
    "lenVar": 40
   },
   "kernels_config": {
    "python": {
     "delete_cmd_postfix": "",
     "delete_cmd_prefix": "del ",
     "library": "var_list.py",
     "varRefreshCmd": "print(var_dic_list())"
    },
    "r": {
     "delete_cmd_postfix": ") ",
     "delete_cmd_prefix": "rm(",
     "library": "var_list.r",
     "varRefreshCmd": "cat(var_dic_list()) "
    }
   },
   "types_to_exclude": [
    "module",
    "function",
    "builtin_function_or_method",
    "instance",
    "_Feature"
   ],
   "window_display": false
  }
 },
 "nbformat": 4,
 "nbformat_minor": 2
}
