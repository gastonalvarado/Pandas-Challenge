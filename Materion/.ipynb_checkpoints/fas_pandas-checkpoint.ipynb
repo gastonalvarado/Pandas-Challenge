{
 "cells": [
  {
   "cell_type": "markdown",
   "metadata": {
    "slideshow": {
     "slide_type": "slide"
    }
   },
   "source": [
    "# Doctor Decoder\n",
    "\n",
    "Use Pandas scraping to help decode the medical abbreviations that a doctor might use."
   ]
  },
  {
   "cell_type": "code",
   "execution_count": 10,
   "metadata": {
    "slideshow": {
     "slide_type": "slide"
    }
   },
   "outputs": [],
   "source": [
    "import pandas as pd"
   ]
  },
  {
   "cell_type": "markdown",
   "metadata": {},
   "source": [
    "Use Pandas to scrape the following site and decode the medical abbreviations in the list"
   ]
  },
  {
   "cell_type": "code",
   "execution_count": 11,
   "metadata": {
    "slideshow": {
     "slide_type": "fragment"
    }
   },
   "outputs": [],
   "source": [
    "url = 'https://www.fastenal.com/product/abrasives/coated-and-non-woven-abrasives/fiber-and-sanding-discs/609478?categoryId=609478&level=3&isExpanded=true&productFamilyId=26373&view=1'\n"
   ]
  },
  {
   "cell_type": "code",
   "execution_count": 12,
   "metadata": {
    "nbgrader": {
     "grade": false,
     "grade_id": "cell-a71ede958957992c",
     "locked": false,
     "schema_version": 1,
     "solution": true
    },
    "slideshow": {
     "slide_type": "fragment"
    }
   },
   "outputs": [
    {
     "data": {
      "text/plain": [
       "[                                              Item(s)               UOM  \\\n",
       "                                               Item(s)               UOM   \n",
       " 0   Compare  Fastenal Part No. (SKU)  0826359  5\" ...         UOM  each   \n",
       " 1   Compare  Fastenal Part No. (SKU)  0826362  7\" ...         UOM  each   \n",
       " 2   Compare  Fastenal Part No. (SKU)  0812730  4-1...         UOM  each   \n",
       " 3   Compare  Fastenal Part No. (SKU)  0812777  4-1...         UOM  each   \n",
       " 4   Compare  Fastenal Part No. (SKU)  0826357  4-1...         UOM  each   \n",
       " 5   Compare  Fastenal Part No. (SKU)  0802678  TRI...  UOM  case of 100   \n",
       " 6   Compare  Fastenal Part No. (SKU)  0812732  4-1...         UOM  each   \n",
       " 7   Compare  Fastenal Part No. (SKU)  0812762  4-1...         UOM  each   \n",
       " 8   Compare  Fastenal Part No. (SKU)  0200175  5\" ...         UOM  each   \n",
       " 9   Compare  Fastenal Part No. (SKU)  0812767  5\" ...         UOM  each   \n",
       " 10  Compare  Fastenal Part No. (SKU)  0812733  4-1...         UOM  each   \n",
       " 11  Compare  Fastenal Part No. (SKU)  0812738  5\" ...         UOM  each   \n",
       " \n",
       "                                                 Price  \\\n",
       "                                                 Price   \n",
       " 0                    Price  Wholesale:  $7.52 /  each   \n",
       " 1                    Price  Wholesale:  $9.04 /  each   \n",
       " 2                    Price  Wholesale:  $1.58 /  each   \n",
       " 3                    Price  Wholesale:  $4.92 /  each   \n",
       " 4                    Price  Wholesale:  $7.52 /  each   \n",
       " 5   Price  Wholesale:  $324.00 /  case of 100  Uni...   \n",
       " 6                    Price  Wholesale:  $1.19 /  each   \n",
       " 7                    Price  Wholesale:  $1.99 /  each   \n",
       " 8                    Price  Wholesale:  $2.67 /  each   \n",
       " 9                    Price  Wholesale:  $1.82 /  each   \n",
       " 10                   Price  Wholesale:  $1.11 /  each   \n",
       " 11                   Price  Wholesale:  $1.82 /  each   \n",
       " \n",
       "                          Availability               Qty  \n",
       "                          Availability               Qty  \n",
       " 0   Availability  Available Inventory  Qty  ADD TO CART  \n",
       " 1   Availability  Available Inventory  Qty  ADD TO CART  \n",
       " 2   Availability  Available Inventory  Qty  ADD TO CART  \n",
       " 3   Availability  Available Inventory  Qty  ADD TO CART  \n",
       " 4   Availability  Available Inventory  Qty  ADD TO CART  \n",
       " 5     Availability  Ships from Manuf.  Qty  ADD TO CART  \n",
       " 6   Availability  Available Inventory  Qty  ADD TO CART  \n",
       " 7   Availability  Available Inventory  Qty  ADD TO CART  \n",
       " 8   Availability  Available Inventory  Qty  ADD TO CART  \n",
       " 9   Availability  Available Inventory  Qty  ADD TO CART  \n",
       " 10  Availability  Available Inventory  Qty  ADD TO CART  \n",
       " 11  Availability  Available Inventory  Qty  ADD TO CART  ]"
      ]
     },
     "execution_count": 12,
     "metadata": {},
     "output_type": "execute_result"
    }
   ],
   "source": [
    "# Use Panda's `read_html` to parse the url\n",
    "### BEGIN SOLUTION\n",
    "tables = pd.read_html(url)\n",
    "tables\n",
    "### END SOLUTION"
   ]
  },
  {
   "cell_type": "code",
   "execution_count": 21,
   "metadata": {
    "nbgrader": {
     "grade": false,
     "grade_id": "cell-316da8cb3354a1e2",
     "locked": false,
     "schema_version": 1,
     "solution": true
    },
    "slideshow": {
     "slide_type": "fragment"
    }
   },
   "outputs": [
    {
     "data": {
      "text/html": [
       "<div>\n",
       "<style scoped>\n",
       "    .dataframe tbody tr th:only-of-type {\n",
       "        vertical-align: middle;\n",
       "    }\n",
       "\n",
       "    .dataframe tbody tr th {\n",
       "        vertical-align: top;\n",
       "    }\n",
       "\n",
       "    .dataframe thead tr th {\n",
       "        text-align: left;\n",
       "    }\n",
       "</style>\n",
       "<table border=\"1\" class=\"dataframe\">\n",
       "  <thead>\n",
       "    <tr>\n",
       "      <th></th>\n",
       "      <th>Item(s)</th>\n",
       "      <th>UOM</th>\n",
       "      <th>Price</th>\n",
       "      <th>Availability</th>\n",
       "      <th>Qty</th>\n",
       "    </tr>\n",
       "    <tr>\n",
       "      <th></th>\n",
       "      <th>Item(s)</th>\n",
       "      <th>UOM</th>\n",
       "      <th>Price</th>\n",
       "      <th>Availability</th>\n",
       "      <th>Qty</th>\n",
       "    </tr>\n",
       "  </thead>\n",
       "  <tbody>\n",
       "    <tr>\n",
       "      <th>0</th>\n",
       "      <td>Compare  Fastenal Part No. (SKU)  0826359  5\" ...</td>\n",
       "      <td>UOM  each</td>\n",
       "      <td>Price  Wholesale:  $7.52 /  each</td>\n",
       "      <td>Availability  Available Inventory</td>\n",
       "      <td>Qty  ADD TO CART</td>\n",
       "    </tr>\n",
       "    <tr>\n",
       "      <th>1</th>\n",
       "      <td>Compare  Fastenal Part No. (SKU)  0826362  7\" ...</td>\n",
       "      <td>UOM  each</td>\n",
       "      <td>Price  Wholesale:  $9.04 /  each</td>\n",
       "      <td>Availability  Available Inventory</td>\n",
       "      <td>Qty  ADD TO CART</td>\n",
       "    </tr>\n",
       "    <tr>\n",
       "      <th>2</th>\n",
       "      <td>Compare  Fastenal Part No. (SKU)  0812730  4-1...</td>\n",
       "      <td>UOM  each</td>\n",
       "      <td>Price  Wholesale:  $1.58 /  each</td>\n",
       "      <td>Availability  Available Inventory</td>\n",
       "      <td>Qty  ADD TO CART</td>\n",
       "    </tr>\n",
       "    <tr>\n",
       "      <th>3</th>\n",
       "      <td>Compare  Fastenal Part No. (SKU)  0812777  4-1...</td>\n",
       "      <td>UOM  each</td>\n",
       "      <td>Price  Wholesale:  $4.92 /  each</td>\n",
       "      <td>Availability  Available Inventory</td>\n",
       "      <td>Qty  ADD TO CART</td>\n",
       "    </tr>\n",
       "    <tr>\n",
       "      <th>4</th>\n",
       "      <td>Compare  Fastenal Part No. (SKU)  0826357  4-1...</td>\n",
       "      <td>UOM  each</td>\n",
       "      <td>Price  Wholesale:  $7.52 /  each</td>\n",
       "      <td>Availability  Available Inventory</td>\n",
       "      <td>Qty  ADD TO CART</td>\n",
       "    </tr>\n",
       "  </tbody>\n",
       "</table>\n",
       "</div>"
      ],
      "text/plain": [
       "                                             Item(s)        UOM  \\\n",
       "                                             Item(s)        UOM   \n",
       "0  Compare  Fastenal Part No. (SKU)  0826359  5\" ...  UOM  each   \n",
       "1  Compare  Fastenal Part No. (SKU)  0826362  7\" ...  UOM  each   \n",
       "2  Compare  Fastenal Part No. (SKU)  0812730  4-1...  UOM  each   \n",
       "3  Compare  Fastenal Part No. (SKU)  0812777  4-1...  UOM  each   \n",
       "4  Compare  Fastenal Part No. (SKU)  0826357  4-1...  UOM  each   \n",
       "\n",
       "                              Price                       Availability  \\\n",
       "                              Price                       Availability   \n",
       "0  Price  Wholesale:  $7.52 /  each  Availability  Available Inventory   \n",
       "1  Price  Wholesale:  $9.04 /  each  Availability  Available Inventory   \n",
       "2  Price  Wholesale:  $1.58 /  each  Availability  Available Inventory   \n",
       "3  Price  Wholesale:  $4.92 /  each  Availability  Available Inventory   \n",
       "4  Price  Wholesale:  $7.52 /  each  Availability  Available Inventory   \n",
       "\n",
       "                Qty  \n",
       "                Qty  \n",
       "0  Qty  ADD TO CART  \n",
       "1  Qty  ADD TO CART  \n",
       "2  Qty  ADD TO CART  \n",
       "3  Qty  ADD TO CART  \n",
       "4  Qty  ADD TO CART  "
      ]
     },
     "execution_count": 21,
     "metadata": {},
     "output_type": "execute_result"
    }
   ],
   "source": [
    "# Find the medical abbreviations DataFrame in the list of DataFrames as assign it to `df`\n",
    "# Assign the columns `['abb', 'full_name', 'other']`\n",
    "### BEGIN SOLUTION\n",
    "df = tables[0]\n",
    "#df.columns = ['abb', 'full_name', 'other']\n",
    "df.head()\n",
    "### END SOLUTION"
   ]
  },
  {
   "cell_type": "code",
   "execution_count": 19,
   "metadata": {},
   "outputs": [],
   "source": [
    "df.to_csv('file_name.csv', sep='\\t', encoding='utf-8')"
   ]
  },
  {
   "cell_type": "markdown",
   "metadata": {
    "nbgrader": {
     "grade": false,
     "grade_id": "cell-20d93171b74375bb",
     "locked": true,
     "schema_version": 1,
     "solution": false
    },
    "slideshow": {
     "slide_type": "subslide"
    }
   },
   "source": [
    "Cleanup of extra row"
   ]
  },
  {
   "cell_type": "code",
   "execution_count": 7,
   "metadata": {
    "nbgrader": {
     "grade": false,
     "grade_id": "cell-cde33910996decbd",
     "locked": false,
     "schema_version": 1,
     "solution": true
    }
   },
   "outputs": [],
   "source": [
    "# drop the `other` column\n",
    "### BEGIN SOLUTION\n",
    "#del df['other']\n",
    "### END SOLUTION"
   ]
  },
  {
   "cell_type": "code",
   "execution_count": 9,
   "metadata": {
    "nbgrader": {
     "grade": false,
     "grade_id": "cell-1df09a2e03a3b973",
     "locked": false,
     "schema_version": 1,
     "solution": true
    },
    "slideshow": {
     "slide_type": "fragment"
    }
   },
   "outputs": [
    {
     "data": {
      "text/html": [
       "<div>\n",
       "<style scoped>\n",
       "    .dataframe tbody tr th:only-of-type {\n",
       "        vertical-align: middle;\n",
       "    }\n",
       "\n",
       "    .dataframe tbody tr th {\n",
       "        vertical-align: top;\n",
       "    }\n",
       "\n",
       "    .dataframe thead tr th {\n",
       "        text-align: left;\n",
       "    }\n",
       "\n",
       "    .dataframe thead tr:last-of-type th {\n",
       "        text-align: right;\n",
       "    }\n",
       "</style>\n",
       "<table border=\"1\" class=\"dataframe\">\n",
       "  <thead>\n",
       "    <tr>\n",
       "      <th></th>\n",
       "      <th>Abrasive Material</th>\n",
       "      <th>Operating Speed</th>\n",
       "      <th>Number of Holes</th>\n",
       "      <th>Color</th>\n",
       "      <th>SKU</th>\n",
       "      <th>Price/UOM</th>\n",
       "    </tr>\n",
       "    <tr>\n",
       "      <th></th>\n",
       "      <th>Abrasive Material</th>\n",
       "      <th>Operating Speed</th>\n",
       "      <th>Number of Holes</th>\n",
       "      <th>Color</th>\n",
       "      <th>SKU</th>\n",
       "      <th>Price/UOM</th>\n",
       "    </tr>\n",
       "    <tr>\n",
       "      <th>Grit</th>\n",
       "      <th></th>\n",
       "      <th></th>\n",
       "      <th></th>\n",
       "      <th></th>\n",
       "      <th></th>\n",
       "      <th></th>\n",
       "    </tr>\n",
       "  </thead>\n",
       "  <tbody>\n",
       "    <tr>\n",
       "      <th>(24,)</th>\n",
       "      <td>Ceramic</td>\n",
       "      <td>10200 rpm</td>\n",
       "      <td>1</td>\n",
       "      <td>Orange</td>\n",
       "      <td>877469.0</td>\n",
       "      <td>6.82/EA</td>\n",
       "    </tr>\n",
       "    <tr>\n",
       "      <th>(36,)</th>\n",
       "      <td>Ceramic</td>\n",
       "      <td>10200 rpm</td>\n",
       "      <td>1</td>\n",
       "      <td>Orange</td>\n",
       "      <td>877470.0</td>\n",
       "      <td>6.07/EA</td>\n",
       "    </tr>\n",
       "    <tr>\n",
       "      <th>(50,)</th>\n",
       "      <td>Ceramic</td>\n",
       "      <td>10200 rpm</td>\n",
       "      <td>1</td>\n",
       "      <td>Orange</td>\n",
       "      <td>877471.0</td>\n",
       "      <td>5.92/EA</td>\n",
       "    </tr>\n",
       "    <tr>\n",
       "      <th>(60,)</th>\n",
       "      <td>Ceramic</td>\n",
       "      <td>10200 rpm</td>\n",
       "      <td>1</td>\n",
       "      <td>Orange</td>\n",
       "      <td>877472.0</td>\n",
       "      <td>5.92/EA</td>\n",
       "    </tr>\n",
       "    <tr>\n",
       "      <th>(80,)</th>\n",
       "      <td>Ceramic</td>\n",
       "      <td>10200 rpm</td>\n",
       "      <td>1</td>\n",
       "      <td>Orange</td>\n",
       "      <td>877473.0</td>\n",
       "      <td>5.17/EA</td>\n",
       "    </tr>\n",
       "  </tbody>\n",
       "</table>\n",
       "</div>"
      ],
      "text/plain": [
       "      Abrasive Material Operating Speed Number of Holes   Color       SKU  \\\n",
       "      Abrasive Material Operating Speed Number of Holes   Color       SKU   \n",
       "Grit                                                                        \n",
       "(24,)           Ceramic       10200 rpm               1  Orange  877469.0   \n",
       "(36,)           Ceramic       10200 rpm               1  Orange  877470.0   \n",
       "(50,)           Ceramic       10200 rpm               1  Orange  877471.0   \n",
       "(60,)           Ceramic       10200 rpm               1  Orange  877472.0   \n",
       "(80,)           Ceramic       10200 rpm               1  Orange  877473.0   \n",
       "\n",
       "      Price/UOM  \n",
       "      Price/UOM  \n",
       "Grit             \n",
       "(24,)   6.82/EA  \n",
       "(36,)   6.07/EA  \n",
       "(50,)   5.92/EA  \n",
       "(60,)   5.92/EA  \n",
       "(80,)   5.17/EA  "
      ]
     },
     "execution_count": 9,
     "metadata": {},
     "output_type": "execute_result"
    }
   ],
   "source": [
    "# Drop the first row and set the index to the `abb` column\n",
    "### BEGIN SOLUTION\n",
    "df = df.iloc[1:]\n",
    "df.set_index('Grit', inplace=True)\n",
    "df.head()\n",
    "### END SOLUTION"
   ]
  },
  {
   "cell_type": "code",
   "execution_count": 7,
   "metadata": {
    "nbgrader": {
     "grade": false,
     "grade_id": "cell-3e6a547da7c5f934",
     "locked": false,
     "schema_version": 1,
     "solution": true
    }
   },
   "outputs": [
    {
     "name": "stdout",
     "output_type": "stream",
     "text": [
      "BMR basal metabolic rate\n",
      "BP blood pressure\n",
      "ECG electrocardiogram\n",
      "MRI magnetic resonance imaging\n",
      "qid 4 times a day\n",
      "WBC white blood cell\n"
     ]
    }
   ],
   "source": [
    "# Loop through the list of medical abbreviations and print the abbreviation\n",
    "# along with the full description.\n",
    "# Use the DataFrame to perform the lookup.\n",
    "### BEGIN SOLUTION\n",
    "for abb in med_abbreviations:\n",
    "    print(abb, df.loc[abb].full_name)\n",
    "### END SOLUTION"
   ]
  }
 ],
 "metadata": {
  "celltoolbar": "Create Assignment",
  "hide_input": false,
  "kernelspec": {
   "display_name": "Python 3",
   "language": "python",
   "name": "python3"
  },
  "language_info": {
   "codemirror_mode": {
    "name": "ipython",
    "version": 3
   },
   "file_extension": ".py",
   "mimetype": "text/x-python",
   "name": "python",
   "nbconvert_exporter": "python",
   "pygments_lexer": "ipython3",
   "version": "3.7.1"
  },
  "toc": {
   "base_numbering": 1,
   "nav_menu": {},
   "number_sections": true,
   "sideBar": true,
   "skip_h1_title": true,
   "title_cell": "Table of Contents",
   "title_sidebar": "Contents",
   "toc_cell": false,
   "toc_position": {},
   "toc_section_display": true,
   "toc_window_display": false
  },
  "varInspector": {
   "cols": {
    "lenName": 16,
    "lenType": 16,
    "lenVar": 40
   },
   "kernels_config": {
    "python": {
     "delete_cmd_postfix": "",
     "delete_cmd_prefix": "del ",
     "library": "var_list.py",
     "varRefreshCmd": "print(var_dic_list())"
    },
    "r": {
     "delete_cmd_postfix": ") ",
     "delete_cmd_prefix": "rm(",
     "library": "var_list.r",
     "varRefreshCmd": "cat(var_dic_list()) "
    }
   },
   "types_to_exclude": [
    "module",
    "function",
    "builtin_function_or_method",
    "instance",
    "_Feature"
   ],
   "window_display": false
  }
 },
 "nbformat": 4,
 "nbformat_minor": 2
}
