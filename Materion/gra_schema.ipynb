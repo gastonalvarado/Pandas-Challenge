{
 "cells": [
  {
   "cell_type": "markdown",
   "metadata": {},
   "source": [
    "# Grainger - Category Chart "
   ]
  },
  {
   "cell_type": "markdown",
   "metadata": {},
   "source": [
    "Code developed to build the category chart for the Fastenal website. The objective is to collect all of the urls for each one of the product categories and subcategories and their names so we can build the hierarchy and also use the urls for the data scraping of all of the part numbers "
   ]
  },
  {
   "cell_type": "markdown",
   "metadata": {},
   "source": [
    "## Import all dependencies and start selenium "
   ]
  },
  {
   "cell_type": "markdown",
   "metadata": {},
   "source": [
    "We are using selenium and BeautifulSoup for the scraping process"
   ]
  },
  {
   "cell_type": "code",
   "execution_count": 1,
   "metadata": {},
   "outputs": [
    {
     "name": "stdout",
     "output_type": "stream",
     "text": [
      "/usr/local/bin/chromedriver\r\n"
     ]
    }
   ],
   "source": [
    "#Finding the location of chromedriver.exe\n",
    "#https://splinter.readthedocs.io/en/latest/drivers/chrome.html\n",
    "!which chromedriver"
   ]
  },
  {
   "cell_type": "code",
   "execution_count": 2,
   "metadata": {
    "code_folding": [],
    "run_control": {
     "marked": false
    }
   },
   "outputs": [],
   "source": [
    "# Import your newly installed selenium package\n",
    "from selenium import webdriver\n",
    "from splinter import Browser\n",
    "from selenium.webdriver.common.keys import Keys\n",
    "import time\n",
    "time.sleep(3)\n",
    "from splinter.exceptions import ElementDoesNotExist\n",
    "from bs4 import BeautifulSoup\n",
    "import pandas as pd\n",
    "\n",
    "# Now create an 'instance' of your driver\n",
    "WebDriver = {'executable_path': 'chromedriver'}\n",
    "# A new Chrome (or other browser) window should open up\n",
    "browser = Browser('chrome', **WebDriver, headless=False)\n",
    "# Defining width and height of the browser\n",
    "browser.driver.set_window_size(1750, 1250)\n",
    "#For Mac users - Opening the targer url\n",
    "#driver.get(\"https://www.fastenal.com/product/abrasives/coated-and-non-woven-abrasives/fiber-and-sanding-discs/609478?categoryId=609478&level=3&isExpanded=true&productFamilyId=26373&view=2\")\n",
    "#For Windows users - Opening the target url\n",
    "url ='https://www.grainger.com/category?analytics=nav'\n",
    "browser.visit(url)"
   ]
  },
  {
   "cell_type": "markdown",
   "metadata": {},
   "source": [
    "## Initialize searches "
   ]
  },
  {
   "cell_type": "markdown",
   "metadata": {},
   "source": [
    "#### All Products"
   ]
  },
  {
   "cell_type": "markdown",
   "metadata": {},
   "source": [
    "Inspecting the website, we found that the Product category information is in a div inside the class 'col-xs-12 category-list margin--top-0', and it is consistent across all the pages, so we can create a function that gives us access to that div initially "
   ]
  },
  {
   "cell_type": "code",
   "execution_count": 3,
   "metadata": {
    "scrolled": true
   },
   "outputs": [
    {
     "data": {
      "text/plain": [
       "['/category/abrasives',\n",
       " '/category/adhesives-sealants-and-tape',\n",
       " '/category/cleaning-and-janitorial',\n",
       " '/category/electrical',\n",
       " '/category/electronics-appliances-and-batteries',\n",
       " '/category/fasteners',\n",
       " '/category/fleet-and-vehicle-maintenance',\n",
       " '/category/furniture-hospitality-and-food-service',\n",
       " '/category/hvac-and-refrigeration',\n",
       " '/category/hardware',\n",
       " '/category/hydraulics',\n",
       " '/category/lab-supplies',\n",
       " '/category/lighting',\n",
       " '/category/lubrication',\n",
       " '/category/machining',\n",
       " '/category/material-handling',\n",
       " '/category/motors',\n",
       " '/category/office-supplies',\n",
       " '/category/outdoor-equipment',\n",
       " '/category/paint-equipment-and-supplies',\n",
       " '/category/plumbing',\n",
       " '/category/pneumatics',\n",
       " '/category/power-transmission',\n",
       " '/category/pumps',\n",
       " '/category/raw-materials',\n",
       " '/category/reference-and-learning-supplies',\n",
       " '/category/safety',\n",
       " '/category/security',\n",
       " '/category/test-instruments',\n",
       " '/category/tools',\n",
       " '/category/welding']"
      ]
     },
     "execution_count": 3,
     "metadata": {},
     "output_type": "execute_result"
    }
   ],
   "source": [
    "#activating soup\n",
    "html = browser.html\n",
    "soup = BeautifulSoup(html, 'html.parser')\n",
    "\n",
    "products = soup.findAll('ul',class_='categories__list')\n",
    "all_products_urls=[i['href'] for i in (products[0]('a'))]\n",
    "all_products_urls"
   ]
  },
  {
   "cell_type": "markdown",
   "metadata": {},
   "source": [
    "Safety Categories - all Categories"
   ]
  },
  {
   "cell_type": "code",
   "execution_count": null,
   "metadata": {},
   "outputs": [],
   "source": [
    "#For Windows users - Opening the target url\n",
    "url2 ='https://www.grainger.com/category/safety'\n",
    "browser.visit(url2)\n",
    "\n",
    "#activating soup\n",
    "html = browser.html\n",
    "soup = BeautifulSoup(html, 'html.parser')"
   ]
  },
  {
   "cell_type": "code",
   "execution_count": null,
   "metadata": {
    "scrolled": true
   },
   "outputs": [],
   "source": [
    "spans = soup.findAll('span', class_='category-text')\n",
    "subcategories_list=[span.text.strip() for span in spans]\n",
    "    \n",
    "subcategories_list"
   ]
  },
  {
   "cell_type": "markdown",
   "metadata": {},
   "source": [
    "Gloves and Hand Protection - all subcategories"
   ]
  },
  {
   "cell_type": "code",
   "execution_count": null,
   "metadata": {},
   "outputs": [],
   "source": [
    "#For Windows users - Opening the target url\n",
    "url2 ='https://www.grainger.com/category/safety/gloves-and-hand-protection'\n",
    "browser.visit(url2)\n",
    "\n",
    "#activating soup\n",
    "html = browser.html\n",
    "soup = BeautifulSoup(html, 'html.parser')"
   ]
  },
  {
   "cell_type": "code",
   "execution_count": null,
   "metadata": {
    "scrolled": true
   },
   "outputs": [],
   "source": [
    "#Extract the categories from the span tag\n",
    "spans = soup.findAll('span', class_='category-text')\n",
    "#List comprehension to extract the text from the span class\n",
    "subcategories_list=[span.text.strip() for span in spans] \n",
    "#Function to add hypen between words and use it to build the next url\n",
    "def replace_runs_of_whitespace_with_hyphen(word):\n",
    "    return '-'.join(word.split())\n",
    "#List comprehension to insert the hyphen between words\n",
    "hyphrases = [replace_runs_of_whitespace_with_hyphen(w) for w in subcategories_list]\n",
    "#List comprehension to build the next url using the new hyphened words\n",
    "gloves_and_hand_protection=[f'https://www.grainger.com/category/safety/gloves-and-hand-protection/{link}' for link in hyphrases]\n",
    "gloves_and_hand_protection"
   ]
  },
  {
   "cell_type": "markdown",
   "metadata": {},
   "source": [
    "Antistatic Gloves - end urls"
   ]
  },
  {
   "cell_type": "code",
   "execution_count": 8,
   "metadata": {},
   "outputs": [],
   "source": [
    "#For Windows users - Opening the target url\n",
    "url3 ='https://www.grainger.com/category/safety/gloves-and-hand-protection/antistatic-gloves'\n",
    "browser.visit(url3)\n",
    "\n",
    "#activating soup\n",
    "html = browser.html\n",
    "soup = BeautifulSoup(html, 'html.parser')"
   ]
  },
  {
   "cell_type": "code",
   "execution_count": 9,
   "metadata": {
    "scrolled": true
   },
   "outputs": [
    {
     "data": {
      "text/plain": [
       "['https://www.grainger.com/product/3JFP3',\n",
       " 'https://www.grainger.com/product/9WRN3',\n",
       " 'https://www.grainger.com/product/3JFP4',\n",
       " 'https://www.grainger.com/product/8CAW1',\n",
       " 'https://www.grainger.com/product/3NGY2',\n",
       " 'https://www.grainger.com/product/19L033',\n",
       " 'https://www.grainger.com/product/19L034',\n",
       " 'https://www.grainger.com/product/19L035',\n",
       " 'https://www.grainger.com/product/19L036',\n",
       " 'https://www.grainger.com/product/19L037',\n",
       " 'https://www.grainger.com/product/19L038',\n",
       " 'https://www.grainger.com/product/19L039',\n",
       " 'https://www.grainger.com/product/19L040',\n",
       " 'https://www.grainger.com/product/19L041',\n",
       " 'https://www.grainger.com/product/19L042',\n",
       " 'https://www.grainger.com/product/19L043',\n",
       " 'https://www.grainger.com/product/1DPF5',\n",
       " 'https://www.grainger.com/product/1DPF6',\n",
       " 'https://www.grainger.com/product/1DPF7',\n",
       " 'https://www.grainger.com/product/1DPF8',\n",
       " 'https://www.grainger.com/product/1DPF9',\n",
       " 'https://www.grainger.com/product/1DPG1']"
      ]
     },
     "execution_count": 9,
     "metadata": {},
     "output_type": "execute_result"
    }
   ],
   "source": [
    "#Extract all values from the tr tag\n",
    "bs=soup.findAll('tr',class_='search-table-view__web-parent-table-row')\n",
    "#Extract the brand values from the tag\n",
    "brand=[row.findAll('td')[4].contents[0].strip() for row in bs]\n",
    "#Extract the sku values from the tag\n",
    "sku=[row.findAll('button')[0].text.strip() for row in bs]\n",
    "#Extract all category values from tag\n",
    "cat=[row.findAll('td')[0].contents[0].strip() for row in bs]\n",
    "\n",
    "#Function to add hypen between words and use it to build the next url\n",
    "def replace_runs_of_whitespace_with_hyphen(word):\n",
    "    return '-'.join(word.split())\n",
    "#List comprehension to insert the hyphen between words\n",
    "hyphrases = [replace_runs_of_whitespace_with_hyphen(w) for w in cat]\n",
    "\n",
    "#List comprehension to create the end url\n",
    "antistatic_gloves=[f'https://www.grainger.com/product/{i}' for i in sku]\n",
    "antistatic_gloves"
   ]
  },
  {
   "cell_type": "markdown",
   "metadata": {},
   "source": [
    "Extract the detailed sku information"
   ]
  },
  {
   "cell_type": "code",
   "execution_count": null,
   "metadata": {},
   "outputs": [],
   "source": [
    "#For Windows users - Opening the target url\n",
    "url3 ='https://www.grainger.com/product/ANSELL-Antistatic-Gloves-3JFP3'\n",
    "browser.visit(url3)\n",
    "\n",
    "#activating soup\n",
    "html = browser.html\n",
    "soup = BeautifulSoup(html, 'html.parser')"
   ]
  },
  {
   "cell_type": "code",
   "execution_count": null,
   "metadata": {},
   "outputs": [],
   "source": [
    "#Extract technical specs\n",
    "spe=soup.findAll('span',class_='specValue')\n",
    "itemspec=spe[0].text\n",
    "material=spe[1].text\n",
    "size=spe[2].text\n",
    "lenght=spe[3].text\n",
    "coating=spe[4].text\n",
    "coverage=spe[5].text\n",
    "color=spe[6].text\n",
    "cuff=spe[7].text\n",
    "standard=spe[8].text\n",
    "application=spe[9].text\n",
    "application"
   ]
  },
  {
   "cell_type": "code",
   "execution_count": 21,
   "metadata": {
    "scrolled": true
   },
   "outputs": [
    {
     "name": "stdout",
     "output_type": "stream",
     "text": [
      "Table has less values available\n",
      "N/A\n",
      "Table has less values available\n",
      "N/A\n",
      "Table has less values available\n",
      "N/A\n",
      "Table has less values available\n",
      "N/A\n",
      "Table has less values available\n",
      "N/A\n",
      "Table has less values available\n",
      "N/A\n",
      "Table has less values available\n",
      "N/A\n",
      "Table has less values available\n",
      "N/A\n",
      "Table has less values available\n",
      "N/A\n",
      "Table has less values available\n",
      "N/A\n",
      "N/A\n",
      "N/A\n",
      "N/A\n",
      "N/A\n",
      "N/A\n",
      "N/A\n",
      "N/A\n",
      "N/A\n",
      "N/A\n",
      "N/A\n",
      "N/A\n",
      "N/A\n"
     ]
    },
    {
     "data": {
      "text/plain": [
       "['Nitrile',\n",
       " 'Nitrile',\n",
       " 'Nitrile',\n",
       " 'Nitrile',\n",
       " 'Nitrile',\n",
       " '7-11/16\"',\n",
       " '8-1/16\"',\n",
       " '8-1/2\"',\n",
       " '8-7/8\"',\n",
       " '9-1/4\"',\n",
       " '7-11/16\"',\n",
       " '8-1/16\"',\n",
       " '8-1/2\"',\n",
       " '8-7/8\"',\n",
       " '9-1/4\"',\n",
       " '9-5/8\"',\n",
       " '20-1/2\"',\n",
       " '20-1/2\"',\n",
       " '20-1/2\"',\n",
       " '20-1/2\"',\n",
       " '20-1/2\"',\n",
       " '20-1/2\"']"
      ]
     },
     "execution_count": 21,
     "metadata": {},
     "output_type": "execute_result"
    }
   ],
   "source": [
    "# Retrieve all elements that contain item information from tags\n",
    "\n",
    "#Opening the target url and activating soup\n",
    "item_spec_list=[]\n",
    "material_list=[]\n",
    "size_list=[]\n",
    "lenght_list=[]\n",
    "coating_list=[]\n",
    "coverage_list=[]\n",
    "color_list=[]\n",
    "cuff_list=[]\n",
    "standard_list=[]\n",
    "application_list=[]\n",
    "\n",
    "for x in antistatic_gloves:\n",
    "    browser.visit(x)\n",
    "    time.sleep(3)\n",
    "    html = browser.html\n",
    "    soup = BeautifulSoup(html, 'html.parser')\n",
    "    \n",
    "       \n",
    "    try:\n",
    "        spe=soup.findAll('span',class_='specValue')\n",
    "        itemspec=spe[0].text\n",
    "        material=spe[1].text\n",
    "        size=spe[2].text\n",
    "        lenght=spe[3].text\n",
    "        coating=spe[4].text\n",
    "        coverage=spe[5].text\n",
    "        color=spe[6].text\n",
    "        cuff=spe[7].text\n",
    "        standard=spe[8].text\n",
    "        application=spe[9].text\n",
    "\n",
    "    except IndexError:\n",
    "        print(\"Table has less values available\")\n",
    "\n",
    "    finally:\n",
    "        print (\"N/A\")\n",
    "    #else:\n",
    "        lenght_list.append(lenght)\n",
    "lenght_list"
   ]
  },
  {
   "cell_type": "code",
   "execution_count": null,
   "metadata": {},
   "outputs": [],
   "source": [
    "price_list=[]\n",
    "web_price_list=[]\n",
    "uom_list=[]\n",
    "sku_list=[]\n",
    "definition_list=[]\n",
    "item_list=[]\n",
    "mfr_model_list=[]\n",
    "brand_list=[]\n",
    "country_of_origin=[]\n",
    "cat_group_list=[]\n",
    "unspsc_list=[]\n",
    "item_link_list=[]\n",
    "cat_link_list=[]\n",
    "product_text=[]\n",
    "\n",
    "# Iterate through all pages\n",
    "for x in antistatic_gloves:\n",
    "    #Opening the target url and activating soup\n",
    "    browser.visit(x)\n",
    "    time.sleep(3)\n",
    "    html = browser.html\n",
    "    soup = BeautifulSoup(html, 'html.parser')\n",
    "    \n",
    "    # Retrieve all elements that contain item information from tags\n",
    "    articles = soup.find_all('span', class_='gcprice-value')\n",
    "    skus=soup.find('div',class_='price-replace-wrapper')\n",
    "    lis=soup.findAll('div',class_='head-container clearfix')\n",
    "    uoms=soup.find('span',class_='gcprice-unit')\n",
    "    ases=soup.findAll('a',class_='bread-link')\n",
    "    web=soup.findAll('span',class_='gcprice-label')\n",
    "    coun=soup.find('div',class_='countryOfOrigin')\n",
    "    prod=soup.find('div',class_='copyTextSection textSection')\n",
    "    \n",
    "    #Extract the information of each item\n",
    "    price=articles[0].text.strip()\n",
    "    p= web[0].text.split()[0:2]\n",
    "    uom=uoms.text\n",
    "    sku=skus.attrs['data-sku']\n",
    "    definition=soup.find('h1').text.strip()\n",
    "    item=lis[0]('span')[0].text\n",
    "    mfr_model=lis[0]('span')[2].text\n",
    "    marca=lis[0]('a')[0].text\n",
    "    country=coun.text.split()[3]\n",
    "    cat_group=lis[0]('a')[1].text\n",
    "    unspsc=lis[0]('span')[5].text\n",
    "    item_link=lis[0]('a')[1]['href']\n",
    "    lis=ases[2].text\n",
    "    product=prod.text.strip()\n",
    "    \n",
    "try\n",
    "    spe=soup.findAll('span',class_='specValue')\n",
    "    itemspec=spe[0].text\n",
    "    material=spe[1].text\n",
    "    size=spe[2].text\n",
    "    lenght=spe[3].text\n",
    "    coating=spe[4].text\n",
    "    coverage=spe[5].text\n",
    "    color=spe[6].text\n",
    "    cuff=spe[7].text\n",
    "    standard=spe[8].text\n",
    "    application=spe[9].text\n",
    "    application\n",
    "    \n",
    "except IndexError:\n",
    "    print(\"Table has less values available\")\n",
    "    \n",
    "else:\n",
    "    #Append data extracted to the empty lists\n",
    "    price_list.append(price)\n",
    "    web_price_list.append(' '.join(p))\n",
    "    uom_list.append(uom)\n",
    "    sku_list.append(sku)\n",
    "    definition_list.append(definition)\n",
    "    item_list.append(item)\n",
    "    mfr_model_list.append(mfr_model)\n",
    "    brand_list.append(marca)\n",
    "    country_of_origin.append(country)\n",
    "    cat_group_list.append(cat_group)\n",
    "    unspsc_list.append(unspsc)\n",
    "    item_link_list.append(f'https://www.grainger.com/{item_link}')\n",
    "    cat_link_list.append(lis)\n",
    "    product_text.append(product)\n",
    " "
   ]
  },
  {
   "cell_type": "code",
   "execution_count": null,
   "metadata": {
    "scrolled": true
   },
   "outputs": [],
   "source": [
    "#Create dataframe for antistatic gloves\n",
    "df_antistatic_gloves = pd.DataFrame(\n",
    "    {'SKU': sku_list,\n",
    "     'Definition': definition_list,\n",
    "     'Product Description':product_text,\n",
    "     'Manufacturer Model':mfr_model_list,\n",
    "     'Brand': brand_list,\n",
    "     'Category':cat_link_list,\n",
    "     'Category Group':cat_group_list,\n",
    "     'UNSPSC':unspsc_list,\n",
    "     'Price':price_list,\n",
    "     'Price Type':web_price_list,\n",
    "     'Country of Origin':country_of_origin,\n",
    "     'UOM':uom_list,\n",
    "     'Link':item_link_list\n",
    "    })\n",
    "df_antistatic_gloves.to_csv('antistatic_gloves.csv', encoding='utf-8')\n",
    "df_antistatic_gloves"
   ]
  },
  {
   "cell_type": "code",
   "execution_count": null,
   "metadata": {},
   "outputs": [],
   "source": [
    "url = \"http://ergast.com/api/f1/\"\n",
    "year = url.join([str(i) + \"/qualifying?limit=10000\" + \"\\n\" for i in range(1999, 2016)])\n",
    "print(year)\n",
    "\n",
    "url = 'http://ergast.com/api/f1/{0}/qualifying?limit=10000'\n",
    "\n",
    "print('\\n'.join(url.format(year) for year in range(2000, 2016)))\n"
   ]
  },
  {
   "cell_type": "code",
   "execution_count": null,
   "metadata": {},
   "outputs": [],
   "source": []
  },
  {
   "cell_type": "code",
   "execution_count": null,
   "metadata": {},
   "outputs": [],
   "source": []
  },
  {
   "cell_type": "code",
   "execution_count": null,
   "metadata": {},
   "outputs": [],
   "source": []
  },
  {
   "cell_type": "code",
   "execution_count": null,
   "metadata": {},
   "outputs": [],
   "source": []
  },
  {
   "cell_type": "code",
   "execution_count": null,
   "metadata": {},
   "outputs": [],
   "source": []
  },
  {
   "cell_type": "code",
   "execution_count": null,
   "metadata": {},
   "outputs": [],
   "source": []
  },
  {
   "cell_type": "code",
   "execution_count": null,
   "metadata": {},
   "outputs": [],
   "source": []
  },
  {
   "cell_type": "markdown",
   "metadata": {},
   "source": [
    "Testing blocks"
   ]
  },
  {
   "cell_type": "code",
   "execution_count": null,
   "metadata": {},
   "outputs": [],
   "source": []
  },
  {
   "cell_type": "code",
   "execution_count": null,
   "metadata": {},
   "outputs": [],
   "source": [
    "#For Windows users - Opening the target url\n",
    "urlsku ='https://www.grainger.com/product/HONEYWELL-antistatic-gloves-3JFP3'\n",
    "browser.visit(urlsku)\n",
    "\n",
    "#activating soup\n",
    "html = browser.html\n",
    "soup = BeautifulSoup(html, 'html.parser')"
   ]
  },
  {
   "cell_type": "code",
   "execution_count": null,
   "metadata": {},
   "outputs": [],
   "source": [
    "articles = soup.find('span', class_='gcprice-value')\n",
    "skus=soup.find('div',class_='price-replace-wrapper')\n",
    "lis=soup.findAll('div',class_='head-container clearfix')\n",
    "uoms=soup.find('span',class_='gcprice-unit')\n",
    "\n",
    "price=articles.text.strip()\n",
    "uom=uoms.text\n",
    "sku=skus.attrs['data-sku']\n",
    "definition=soup.find('h1').text.strip()\n",
    "item=lis[0]('span')[0].text\n",
    "mfr_model=lis[0]('span')[2].text\n",
    "brand=lis[0]('a')[0].text\n",
    "cat_group=lis[0]('a')[1].text\n",
    "unspsc=lis[0]('span')[5].text\n",
    "item_link=lis[0]('a')[1]['href']\n",
    "mfr_model"
   ]
  },
  {
   "cell_type": "code",
   "execution_count": null,
   "metadata": {
    "scrolled": true
   },
   "outputs": [],
   "source": [
    "#Create an empty list that will hold the partial urls\n",
    "partial_link=[]\n",
    "#For loop to iterate all the urls and add brand and category\n",
    "for link in brand:\n",
    "        #Store the partial link to be created into a variable\n",
    "        rec_link=f'https://www.grainger.com/product/{link}-antistatic-gloves-'\n",
    "        #Appending the partial link created to the empty list\n",
    "        partial_link.append(rec_link)\n",
    "        #Create an empty list that will hold the full end url\n",
    "        sku_links=[]\n",
    "        #For loop to iterate each partial link and add the sku number\n",
    "        for i in sku:  \n",
    "            #Store the full link to be created into a variable and adding sku number\n",
    "            sku_li=f'{rec_link}{i}'\n",
    "            #Appending the full url to the empty list\n",
    "            sku_links.append(sku_li)\n",
    "#Display urls in the list\n",
    "sku_links"
   ]
  },
  {
   "cell_type": "code",
   "execution_count": null,
   "metadata": {},
   "outputs": [],
   "source": [
    "#Extracting all categories\n",
    "#Set up an empty list\n",
    "subcategories_list=[]\n",
    "#Find all the text contained in span tags\n",
    "spans = soup.findAll('tr', class_='search-table-view__web-parent-table-row')\n",
    "spans\n",
    "#spans2=spans[0].attrs['data-sku']\n",
    "#spans2"
   ]
  },
  {
   "cell_type": "code",
   "execution_count": null,
   "metadata": {
    "scrolled": true
   },
   "outputs": [],
   "source": [
    "#For loop to iterate through all the list\n",
    "for span in spans:\n",
    "    #Get each text from each tag, and strip blank spaces\n",
    "    #subcategories=spans.attrs['data-sku']\n",
    "    #Append each list to the general list\n",
    "    subcategories_list.append(span.attrs['data-sku'])\n",
    "#Display results\n",
    "subcategories_list"
   ]
  },
  {
   "cell_type": "code",
   "execution_count": null,
   "metadata": {},
   "outputs": [],
   "source": [
    "link=f'https://www.grainger.com/product/{first_column}-antistatic-gloves-'\n",
    "print(link)"
   ]
  },
  {
   "cell_type": "code",
   "execution_count": null,
   "metadata": {},
   "outputs": [],
   "source": []
  },
  {
   "cell_type": "code",
   "execution_count": null,
   "metadata": {},
   "outputs": [],
   "source": [
    "browser.visit('https://www.fastenal.com/product/abrasives/coated-and-non-woven-abrasives/fiber-and-sanding-discs/609478;jsessionid=kBb4JktuaBd8+ngJiIno0+qd.d36f637b-91a9-3b2b-9fa6-50af87272845?categoryId=609478&level=3&isExpanded=true&productFamilyId=26373&view=2')\n",
    "browser.click_link_by_partial_text('99329957')\n",
    "sleep(5)\n",
    "html = browser.html\n",
    "soup= BeautifulSoup(html, 'html.parser')\n",
    "# print(html)\n",
    "product_info = soup.find(id=\"productTable\")\n",
    "print(product_info)"
   ]
  },
  {
   "cell_type": "code",
   "execution_count": null,
   "metadata": {},
   "outputs": [],
   "source": []
  },
  {
   "cell_type": "code",
   "execution_count": null,
   "metadata": {},
   "outputs": [],
   "source": []
  },
  {
   "cell_type": "code",
   "execution_count": null,
   "metadata": {},
   "outputs": [],
   "source": []
  },
  {
   "cell_type": "code",
   "execution_count": null,
   "metadata": {},
   "outputs": [],
   "source": []
  }
 ],
 "metadata": {
  "hide_input": false,
  "kernelspec": {
   "display_name": "Python 3",
   "language": "python",
   "name": "python3"
  },
  "language_info": {
   "codemirror_mode": {
    "name": "ipython",
    "version": 3
   },
   "file_extension": ".py",
   "mimetype": "text/x-python",
   "name": "python",
   "nbconvert_exporter": "python",
   "pygments_lexer": "ipython3",
   "version": "3.7.1"
  },
  "toc": {
   "base_numbering": 1,
   "nav_menu": {},
   "number_sections": true,
   "sideBar": true,
   "skip_h1_title": true,
   "title_cell": "Table of Contents",
   "title_sidebar": "Contents",
   "toc_cell": false,
   "toc_position": {},
   "toc_section_display": true,
   "toc_window_display": false
  },
  "varInspector": {
   "cols": {
    "lenName": 16,
    "lenType": 16,
    "lenVar": 40
   },
   "kernels_config": {
    "python": {
     "delete_cmd_postfix": "",
     "delete_cmd_prefix": "del ",
     "library": "var_list.py",
     "varRefreshCmd": "print(var_dic_list())"
    },
    "r": {
     "delete_cmd_postfix": ") ",
     "delete_cmd_prefix": "rm(",
     "library": "var_list.r",
     "varRefreshCmd": "cat(var_dic_list()) "
    }
   },
   "types_to_exclude": [
    "module",
    "function",
    "builtin_function_or_method",
    "instance",
    "_Feature"
   ],
   "window_display": false
  }
 },
 "nbformat": 4,
 "nbformat_minor": 2
}
