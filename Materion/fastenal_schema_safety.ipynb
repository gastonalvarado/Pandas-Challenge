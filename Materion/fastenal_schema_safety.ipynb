{
 "cells": [
  {
   "cell_type": "markdown",
   "metadata": {},
   "source": [
    "# Fastenal Category Chart - Safety"
   ]
  },
  {
   "cell_type": "markdown",
   "metadata": {},
   "source": [
    "Code developed to build the category chart for the Fastenal website. The objective is to collect all of the urls for each one of the product categories and subcategories and their names so we can build the hierarchy and also use the urls for the data scraping of all of the part numbers "
   ]
  },
  {
   "cell_type": "markdown",
   "metadata": {},
   "source": [
    "## Import all dependencies and start selenium "
   ]
  },
  {
   "cell_type": "markdown",
   "metadata": {},
   "source": [
    "We are using selenium and BeautifulSoup for the scraping process"
   ]
  },
  {
   "cell_type": "code",
   "execution_count": 1,
   "metadata": {},
   "outputs": [
    {
     "name": "stdout",
     "output_type": "stream",
     "text": [
      "/usr/local/bin/chromedriver\r\n"
     ]
    }
   ],
   "source": [
    "#Finding the location of chromedriver.exe\n",
    "#https://splinter.readthedocs.io/en/latest/drivers/chrome.html\n",
    "!which chromedriver"
   ]
  },
  {
   "cell_type": "code",
   "execution_count": 2,
   "metadata": {
    "code_folding": [],
    "run_control": {
     "marked": false
    }
   },
   "outputs": [],
   "source": [
    "# Import your newly installed selenium package\n",
    "from selenium import webdriver\n",
    "from splinter import Browser\n",
    "from selenium.webdriver.common.keys import Keys\n",
    "import time\n",
    "time.sleep(3)\n",
    "from splinter.exceptions import ElementDoesNotExist\n",
    "from bs4 import BeautifulSoup\n",
    "\n",
    "\n",
    "# Now create an 'instance' of your driver\n",
    "WebDriver = {'executable_path': 'chromedriver'}\n",
    "\n",
    "# A new Chrome (or other browser) window should open up\n",
    "browser = Browser('chrome', **WebDriver, headless=False)\n",
    "\n",
    "# Defining width and height of the browser\n",
    "browser.driver.set_window_size(1750, 1250)\n",
    "\n",
    "#For Mac users - Opening the targer url\n",
    "#driver.get(\"https://www.fastenal.com/product/abrasives/coated-and-non-woven-abrasives/fiber-and-sanding-discs/609478?categoryId=609478&level=3&isExpanded=true&productFamilyId=26373&view=2\")\n",
    "\n",
    "#For Windows users - Opening the target url\n",
    "url ='https://www.fastenal.com/product/safety/600616;jsessionid=4IoxUxWfvjNRaCuKZGUd97n7.c084ef20-e48c-312e-89cb-965ef987d363?categoryId=600616&level=1&fsi=1'\n",
    "browser.visit(url)"
   ]
  },
  {
   "cell_type": "markdown",
   "metadata": {},
   "source": [
    "## Start the browser and making the soup "
   ]
  },
  {
   "cell_type": "code",
   "execution_count": 3,
   "metadata": {
    "scrolled": true
   },
   "outputs": [],
   "source": [
    "#activating soup\n",
    "html = browser.html\n",
    "soup = BeautifulSoup(html, 'html.parser')"
   ]
  },
  {
   "cell_type": "markdown",
   "metadata": {},
   "source": [
    "## Initialize searches "
   ]
  },
  {
   "cell_type": "markdown",
   "metadata": {},
   "source": [
    "All Safety items"
   ]
  },
  {
   "cell_type": "code",
   "execution_count": 4,
   "metadata": {
    "scrolled": true
   },
   "outputs": [
    {
     "data": {
      "text/plain": [
       "['/product/safety/facility-identification/600756;jsessionid=dO+6iB6nBoM7wB2mDB+T3hMO.c084ef20-e48c-312e-89cb-965ef987d363?categoryId=600756&level=2&isExpanded=true',\n",
       " '/product/safety/hand-and-arm-protection/600681;jsessionid=dO+6iB6nBoM7wB2mDB+T3hMO.c084ef20-e48c-312e-89cb-965ef987d363?categoryId=600681&level=2&isExpanded=true',\n",
       " '/product/safety/work-wear/613935;jsessionid=dO+6iB6nBoM7wB2mDB+T3hMO.c084ef20-e48c-312e-89cb-965ef987d363?categoryId=613935&level=2&isExpanded=true',\n",
       " '/product/safety/matting/600789;jsessionid=dO+6iB6nBoM7wB2mDB+T3hMO.c084ef20-e48c-312e-89cb-965ef987d363?categoryId=600789&level=2&isExpanded=true',\n",
       " '/product/safety/arc-flash-and-fr/609698;jsessionid=dO+6iB6nBoM7wB2mDB+T3hMO.c084ef20-e48c-312e-89cb-965ef987d363?categoryId=609698&level=2&isExpanded=true',\n",
       " '/product/safety/high-visibility-garments/604663;jsessionid=dO+6iB6nBoM7wB2mDB+T3hMO.c084ef20-e48c-312e-89cb-965ef987d363?categoryId=604663&level=2&isExpanded=true',\n",
       " '/product/safety/traffic-control-products/600822;jsessionid=dO+6iB6nBoM7wB2mDB+T3hMO.c084ef20-e48c-312e-89cb-965ef987d363?categoryId=600822&level=2&isExpanded=true',\n",
       " '/product/safety/disposable-garments/613962;jsessionid=dO+6iB6nBoM7wB2mDB+T3hMO.c084ef20-e48c-312e-89cb-965ef987d363?categoryId=613962&level=2&isExpanded=true',\n",
       " '/product/safety/eye-protection/600617;jsessionid=dO+6iB6nBoM7wB2mDB+T3hMO.c084ef20-e48c-312e-89cb-965ef987d363?categoryId=600617&level=2&isExpanded=true',\n",
       " '/product/safety/label-maker-and-laminator-accessories/600760;jsessionid=dO+6iB6nBoM7wB2mDB+T3hMO.c084ef20-e48c-312e-89cb-965ef987d363?categoryId=600760&level=2&isExpanded=true',\n",
       " '/product/safety/foot-protection/600705;jsessionid=dO+6iB6nBoM7wB2mDB+T3hMO.c084ef20-e48c-312e-89cb-965ef987d363?categoryId=600705&level=2&isExpanded=true',\n",
       " '/product/safety/fall-protection/600716;jsessionid=dO+6iB6nBoM7wB2mDB+T3hMO.c084ef20-e48c-312e-89cb-965ef987d363?categoryId=600716&level=2&isExpanded=true',\n",
       " '/product/safety/welding-safety-clothing/613933;jsessionid=dO+6iB6nBoM7wB2mDB+T3hMO.c084ef20-e48c-312e-89cb-965ef987d363?categoryId=613933&level=2&isExpanded=true',\n",
       " '/product/safety/head-and-face-protection/600638;jsessionid=dO+6iB6nBoM7wB2mDB+T3hMO.c084ef20-e48c-312e-89cb-965ef987d363?categoryId=600638&level=2&isExpanded=true',\n",
       " '/product/safety/first-aid-and-emergency-products/600858;jsessionid=dO+6iB6nBoM7wB2mDB+T3hMO.c084ef20-e48c-312e-89cb-965ef987d363?categoryId=600858&level=2&isExpanded=true',\n",
       " '/product/safety/spill-containment/600790;jsessionid=dO+6iB6nBoM7wB2mDB+T3hMO.c084ef20-e48c-312e-89cb-965ef987d363?categoryId=600790&level=2&isExpanded=true',\n",
       " '/product/safety/lockout-and-tagout-products/600747;jsessionid=dO+6iB6nBoM7wB2mDB+T3hMO.c084ef20-e48c-312e-89cb-965ef987d363?categoryId=600747&level=2&isExpanded=true',\n",
       " '/product/safety/welding-helmets-and-eye-protection/600975;jsessionid=dO+6iB6nBoM7wB2mDB+T3hMO.c084ef20-e48c-312e-89cb-965ef987d363?categoryId=600975&level=2&isExpanded=true',\n",
       " '/product/safety/chemical-resistant-garments/612633;jsessionid=dO+6iB6nBoM7wB2mDB+T3hMO.c084ef20-e48c-312e-89cb-965ef987d363?categoryId=612633&level=2&isExpanded=true',\n",
       " '/product/safety/rain-wear/612843;jsessionid=dO+6iB6nBoM7wB2mDB+T3hMO.c084ef20-e48c-312e-89cb-965ef987d363?categoryId=612843&level=2&isExpanded=true',\n",
       " '/product/safety/respiratory/600655;jsessionid=dO+6iB6nBoM7wB2mDB+T3hMO.c084ef20-e48c-312e-89cb-965ef987d363?categoryId=600655&level=2&isExpanded=true',\n",
       " '/product/safety/powered-and-supplied-air-system-accessories/611018;jsessionid=dO+6iB6nBoM7wB2mDB+T3hMO.c084ef20-e48c-312e-89cb-965ef987d363?categoryId=611018&level=2&isExpanded=true',\n",
       " '/product/safety/dispensers-and-bags/613929;jsessionid=dO+6iB6nBoM7wB2mDB+T3hMO.c084ef20-e48c-312e-89cb-965ef987d363?categoryId=613929&level=2&isExpanded=true',\n",
       " '/product/safety/hearing-protection/600648;jsessionid=dO+6iB6nBoM7wB2mDB+T3hMO.c084ef20-e48c-312e-89cb-965ef987d363?categoryId=600648&level=2&isExpanded=true',\n",
       " '/product/safety/confined-space-equipment/600732;jsessionid=dO+6iB6nBoM7wB2mDB+T3hMO.c084ef20-e48c-312e-89cb-965ef987d363?categoryId=600732&level=2&isExpanded=true',\n",
       " '/product/safety/safety-storage-cabinets-and-containers/600803;jsessionid=dO+6iB6nBoM7wB2mDB+T3hMO.c084ef20-e48c-312e-89cb-965ef987d363?categoryId=600803&level=2&isExpanded=true',\n",
       " '/product/safety/step-ladders/601973;jsessionid=dO+6iB6nBoM7wB2mDB+T3hMO.c084ef20-e48c-312e-89cb-965ef987d363?categoryId=601973&level=3&isExpanded=true',\n",
       " '/product/safety/fleet-and-automotive-safety-equipment/613936;jsessionid=dO+6iB6nBoM7wB2mDB+T3hMO.c084ef20-e48c-312e-89cb-965ef987d363?categoryId=613936&level=2&isExpanded=true',\n",
       " '/product/safety/joint-support/612632;jsessionid=dO+6iB6nBoM7wB2mDB+T3hMO.c084ef20-e48c-312e-89cb-965ef987d363?categoryId=612632&level=2&isExpanded=true',\n",
       " '/product/safety/hydration-products/600916;jsessionid=dO+6iB6nBoM7wB2mDB+T3hMO.c084ef20-e48c-312e-89cb-965ef987d363?categoryId=600916&level=2&isExpanded=true',\n",
       " '/product/safety/storm-water-management/612805;jsessionid=dO+6iB6nBoM7wB2mDB+T3hMO.c084ef20-e48c-312e-89cb-965ef987d363?categoryId=612805&level=2&isExpanded=true',\n",
       " '/product/safety/heat-stress-products/612634;jsessionid=dO+6iB6nBoM7wB2mDB+T3hMO.c084ef20-e48c-312e-89cb-965ef987d363?categoryId=612634&level=2&isExpanded=true',\n",
       " '/product/safety/safety-knives/612884;jsessionid=dO+6iB6nBoM7wB2mDB+T3hMO.c084ef20-e48c-312e-89cb-965ef987d363?categoryId=612884&level=4&isExpanded=true',\n",
       " '/product/safety/intrinsically-safe-lights/600579;jsessionid=dO+6iB6nBoM7wB2mDB+T3hMO.c084ef20-e48c-312e-89cb-965ef987d363?categoryId=600579&level=3&isExpanded=true',\n",
       " '/product/safety/fire-protection/600872;jsessionid=dO+6iB6nBoM7wB2mDB+T3hMO.c084ef20-e48c-312e-89cb-965ef987d363?categoryId=600872&level=2&isExpanded=true',\n",
       " '/product/safety/powered-and-supplied-air-systems/613932;jsessionid=dO+6iB6nBoM7wB2mDB+T3hMO.c084ef20-e48c-312e-89cb-965ef987d363?categoryId=613932&level=2&isExpanded=true',\n",
       " '/product/safety/gas-detectors/612651;jsessionid=dO+6iB6nBoM7wB2mDB+T3hMO.c084ef20-e48c-312e-89cb-965ef987d363?categoryId=612651&level=2&isExpanded=true',\n",
       " '/product/safety/label-makers-and-laminators/613930;jsessionid=dO+6iB6nBoM7wB2mDB+T3hMO.c084ef20-e48c-312e-89cb-965ef987d363?categoryId=613930&level=2&isExpanded=true',\n",
       " '/product/safety/breathing-air-filtration-systems/613595;jsessionid=dO+6iB6nBoM7wB2mDB+T3hMO.c084ef20-e48c-312e-89cb-965ef987d363?categoryId=613595&level=2&isExpanded=true',\n",
       " '/product/safety/water-safety/612792;jsessionid=dO+6iB6nBoM7wB2mDB+T3hMO.c084ef20-e48c-312e-89cb-965ef987d363?categoryId=612792&level=2&isExpanded=true',\n",
       " '/product/safety/gas-detection-accessories/605141;jsessionid=dO+6iB6nBoM7wB2mDB+T3hMO.c084ef20-e48c-312e-89cb-965ef987d363?categoryId=605141&level=2&isExpanded=true',\n",
       " '/product/safety/static-control-products/613121;jsessionid=dO+6iB6nBoM7wB2mDB+T3hMO.c084ef20-e48c-312e-89cb-965ef987d363?categoryId=613121&level=2&isExpanded=true',\n",
       " '/product/safety/safety-knife-accessories/613361;jsessionid=dO+6iB6nBoM7wB2mDB+T3hMO.c084ef20-e48c-312e-89cb-965ef987d363?categoryId=613361&level=4&isExpanded=true',\n",
       " '/product/safety/mobility-aids/613931;jsessionid=dO+6iB6nBoM7wB2mDB+T3hMO.c084ef20-e48c-312e-89cb-965ef987d363?categoryId=613931&level=2&isExpanded=true']"
      ]
     },
     "execution_count": 4,
     "metadata": {},
     "output_type": "execute_result"
    }
   ],
   "source": [
    "#access the urls in the HTML to create the url list\n",
    "safety = soup.findAll('div',class_='col-xs-12 category-list category-body')\n",
    "safety\n",
    "#Create an empty list to hold all the hrefs\n",
    "safety_urls=[]\n",
    "#For loop to extract all href from a tags\n",
    "for i in (safety[0]('a')):\n",
    "    #access each url\n",
    "    products=i['href']\n",
    "    #append the urls found to the empty list we created\n",
    "    safety_urls.append(products)\n",
    "    #print (products)\n",
    "#display the results\n",
    "safety_urls"
   ]
  },
  {
   "cell_type": "markdown",
   "metadata": {},
   "source": [
    "Level - 1: Hand and arm protection"
   ]
  },
  {
   "cell_type": "code",
   "execution_count": 5,
   "metadata": {
    "scrolled": true
   },
   "outputs": [
    {
     "data": {
      "text/plain": [
       "['/product/safety/hand-and-arm-protection/cut-resistant-gloves/600684?categoryId=600684&level=3&isExpanded=true',\n",
       " '/product/safety/hand-and-arm-protection/hi-dexterity-gloves/609690?categoryId=609690&level=3&isExpanded=true',\n",
       " '/product/safety/hand-and-arm-protection/coated-and-dipped-gloves/609689?categoryId=609689&level=3&isExpanded=true',\n",
       " '/product/safety/hand-and-arm-protection/leather-palm-and-drivers-gloves/609692?categoryId=609692&level=3&isExpanded=true',\n",
       " '/product/safety/hand-and-arm-protection/disposable-gloves/600685?categoryId=600685&level=3&isExpanded=true',\n",
       " '/product/safety/hand-and-arm-protection/rubber-insulating-gloves/611853?categoryId=611853&level=3&isExpanded=true',\n",
       " '/product/safety/hand-and-arm-protection/welding-gloves/604142?categoryId=604142&level=3&isExpanded=true',\n",
       " '/product/safety/hand-and-arm-protection/chemical-resistant-gloves/600683?categoryId=600683&level=3&isExpanded=true',\n",
       " '/product/safety/hand-and-arm-protection/cotton-and-string-knit-gloves/609688?categoryId=609688&level=3&isExpanded=true',\n",
       " '/product/safety/hand-and-arm-protection/sleeves/600704?categoryId=600704&level=3&isExpanded=true',\n",
       " '/product/safety/hand-and-arm-protection/leather-protectors-and-liners/611852?categoryId=611852&level=3&isExpanded=true',\n",
       " '/product/safety/hand-and-arm-protection/anti-vibration-gloves/600682?categoryId=600682&level=3&isExpanded=true',\n",
       " '/product/safety/hand-and-arm-protection/high-temperature-gloves/609691?categoryId=609691&level=3&isExpanded=true',\n",
       " '/product/safety/hand-and-arm-protection/cryogenic-gloves/613791?categoryId=613791&level=3&isExpanded=true',\n",
       " '/product/safety/hand-and-arm-protection/hand-and-finger-guards/612118?categoryId=612118&level=3&isExpanded=true',\n",
       " '/product/safety/hand-and-arm-protection/glove-grabbers/605137?categoryId=605137&level=3&isExpanded=true',\n",
       " '/product/safety/hand-and-arm-protection/glove-liners/600688?categoryId=600688&level=3&isExpanded=true',\n",
       " '/product/safety/hand-and-arm-protection/glove-bags/611386?categoryId=611386&level=3&isExpanded=true',\n",
       " '/product/safety/hand-and-arm-protection/hand-warmers/600689?categoryId=600689&level=3&isExpanded=true',\n",
       " '/product/safety/hand-and-arm-protection/finger-cots/603223?categoryId=603223&level=3&isExpanded=true',\n",
       " '/product/safety/hand-and-arm-protection/glove-inflator-accessories/611744?categoryId=611744&level=3&isExpanded=true',\n",
       " '/product/safety/hand-and-arm-protection/heated-gloves/614022?categoryId=614022&level=3&isExpanded=true',\n",
       " '/product/safety/hand-and-arm-protection/glove-dust/611743?categoryId=611743&level=3&isExpanded=true',\n",
       " '/product/safety/hand-and-arm-protection/glove-clips/609878?categoryId=609878&level=3&isExpanded=true']"
      ]
     },
     "execution_count": 5,
     "metadata": {},
     "output_type": "execute_result"
    }
   ],
   "source": [
    "#Url to extract hand protection categories\n",
    "url4 ='https://www.fastenal.com/product/safety/hand-and-arm-protection/600681?categoryId=600681&level=2&isExpanded=true'\n",
    "browser.visit(url4)\n",
    "\n",
    "#activating soup\n",
    "html = browser.html\n",
    "soup = BeautifulSoup(html, 'html.parser')\n",
    "\n",
    "#access the urls in the HTML to create the url list for hand protection sub category\n",
    "handpro = soup.findAll('div',class_='col-xs-12 category-list category-body')\n",
    "handpro\n",
    "#Create an empty list to hold all the hrefs\n",
    "hand_protection_urls=[]\n",
    "#For loop to extract all href from a tags\n",
    "for i in (handpro[0]('a')):\n",
    "    #access each url\n",
    "    products=i['href']\n",
    "    #append the urls found to the empty list we created\n",
    "    hand_protection_urls.append(products)\n",
    "    #print (products)\n",
    "#display the results\n",
    "hand_protection_urls"
   ]
  },
  {
   "cell_type": "markdown",
   "metadata": {
    "run_control": {
     "marked": false
    },
    "scrolled": true
   },
   "source": [
    "Level - 2: Cut resistant gloves"
   ]
  },
  {
   "cell_type": "code",
   "execution_count": 6,
   "metadata": {
    "scrolled": true
   },
   "outputs": [
    {
     "data": {
      "text/plain": [
       "['/product/safety/hand-and-arm-protection/cut-resistant-gloves/600684?categoryId=600684&level=3&isExpanded=true&productFamilyId=30500',\n",
       " '/product/safety/hand-and-arm-protection/cut-resistant-gloves/600684?categoryId=600684&level=3&isExpanded=true&productFamilyId=30501',\n",
       " '/product/safety/hand-and-arm-protection/cut-resistant-gloves/600684?categoryId=600684&level=3&isExpanded=true&productFamilyId=30502',\n",
       " '/product/safety/hand-and-arm-protection/cut-resistant-gloves/600684?categoryId=600684&level=3&isExpanded=true&productFamilyId=30507',\n",
       " '/product/safety/hand-and-arm-protection/cut-resistant-gloves/600684?categoryId=600684&level=3&isExpanded=true&productFamilyId=30508',\n",
       " '/product/safety/hand-and-arm-protection/cut-resistant-gloves/600684?categoryId=600684&level=3&isExpanded=true&productFamilyId=30509',\n",
       " '/product/safety/hand-and-arm-protection/cut-resistant-gloves/600684?categoryId=600684&level=3&isExpanded=true&productFamilyId=30511',\n",
       " '/product/safety/hand-and-arm-protection/cut-resistant-gloves/600684?categoryId=600684&level=3&isExpanded=true&productFamilyId=30516',\n",
       " '/product/safety/hand-and-arm-protection/cut-resistant-gloves/600684?categoryId=600684&level=3&isExpanded=true&productFamilyId=30518',\n",
       " '/product/safety/hand-and-arm-protection/cut-resistant-gloves/600684?categoryId=600684&level=3&isExpanded=true&productFamilyId=30522',\n",
       " '/product/safety/hand-and-arm-protection/cut-resistant-gloves/600684?categoryId=600684&level=3&isExpanded=true&productFamilyId=30524',\n",
       " '/product/safety/hand-and-arm-protection/cut-resistant-gloves/600684?categoryId=600684&level=3&isExpanded=true&productFamilyId=30528',\n",
       " '/product/safety/hand-and-arm-protection/cut-resistant-gloves/600684?categoryId=600684&level=3&isExpanded=true&productFamilyId=30529',\n",
       " '/product/safety/hand-and-arm-protection/cut-resistant-gloves/600684?categoryId=600684&level=3&isExpanded=true&productFamilyId=30533',\n",
       " '/product/safety/hand-and-arm-protection/cut-resistant-gloves/600684?categoryId=600684&level=3&isExpanded=true&productFamilyId=30539',\n",
       " '/product/safety/hand-and-arm-protection/cut-resistant-gloves/600684?categoryId=600684&level=3&isExpanded=true&productFamilyId=30542']"
      ]
     },
     "execution_count": 6,
     "metadata": {},
     "output_type": "execute_result"
    }
   ],
   "source": [
    "#Url to extract cut resistant categories\n",
    "cut_resistant_url='https://www.fastenal.com/product/safety/hand-and-arm-protection/cut-resistant-gloves/600684?categoryId=600684&level=3&isExpanded=true'\n",
    "browser.visit(cut_resistant_url)\n",
    "\n",
    "#activating soup\n",
    "html = browser.html\n",
    "soup = BeautifulSoup(html, 'html.parser')\n",
    "\n",
    "cutresistant = soup.findAll('div',class_='product__family--tile')\n",
    "cutresistant\n",
    "\n",
    "#Create an empty list to hold all the hrefs\n",
    "cut_resistant_urls=[]\n",
    "#For loop to extract all href from a tags\n",
    "for i in (cutresistant):\n",
    "    #access each url\n",
    "    products=i('a')[0]['href']\n",
    "    #append the urls found to the empty list we created\n",
    "    cut_resistant_urls.append(products)\n",
    "    #print (products)\n",
    "#display the results\n",
    "cut_resistant_urls"
   ]
  },
  {
   "cell_type": "markdown",
   "metadata": {},
   "source": [
    "Level - 3: Family 30500"
   ]
  },
  {
   "cell_type": "code",
   "execution_count": 13,
   "metadata": {},
   "outputs": [
    {
     "name": "stdout",
     "output_type": "stream",
     "text": [
      "https://www.fastenal.com/products/details/1318248\n",
      "https://www.fastenal.com/products/details/1318249\n",
      "https://www.fastenal.com/products/details/1318250\n",
      "https://www.fastenal.com/products/details/1318251\n",
      "https://www.fastenal.com/products/details/1318252\n",
      "https://www.fastenal.com/products/details/1318208\n",
      "https://www.fastenal.com/products/details/1318209\n",
      "https://www.fastenal.com/products/details/1318210\n",
      "https://www.fastenal.com/products/details/1318211\n",
      "https://www.fastenal.com/products/details/1318212\n"
     ]
    }
   ],
   "source": [
    "#Url to extract family 30500 items\n",
    "amortex_url ='https://www.fastenal.com/product/safety/hand-and-arm-protection/cut-resistant-gloves/600684?categoryId=600684&level=3&isExpanded=true&productFamilyId=30500'\n",
    "browser.visit(amortex_url)\n",
    "\n",
    "#activating soup\n",
    "html = browser.html\n",
    "soup = BeautifulSoup(html, 'html.parser')\n",
    "\n",
    "#access the urls in the HTML to create the url list for matting sub category\n",
    "amortex = soup.findAll('td',class_='cb-sku')\n",
    "amortex\n",
    "#Create an empty list to hold all the hrefs\n",
    "amortex_urls=[]\n",
    "#For loop to extract all href from a tags\n",
    "for i in (amortex):\n",
    "    #access each url\n",
    "    products=i('a')[0].text.strip().strip('')\n",
    "    #append the urls found to the empty list we created\n",
    "    amortex_urls.append(products)\n",
    "    #print (products)\n",
    "#display the results\n",
    "amortex_urls\n",
    "\n",
    "#loop throught the list to obtain the endpoint url of this category and store in a list\n",
    "list_family_30500=[]\n",
    "for i in range(len(amortex_urls)):\n",
    "    url = 'https://www.fastenal.com/products/details/{}'.format(amortex_urls[i])\n",
    "    list_family_30500.append(url)\n",
    "    print(url)"
   ]
  },
  {
   "cell_type": "markdown",
   "metadata": {},
   "source": [
    "Family 30501"
   ]
  },
  {
   "cell_type": "code",
   "execution_count": 16,
   "metadata": {
    "scrolled": true
   },
   "outputs": [
    {
     "name": "stdout",
     "output_type": "stream",
     "text": [
      "https://www.fastenal.com/products/details/1050446\n",
      "https://www.fastenal.com/products/details/1050447\n",
      "https://www.fastenal.com/products/details/1050448\n",
      "https://www.fastenal.com/products/details/1050449\n",
      "https://www.fastenal.com/products/details/1050450\n",
      "https://www.fastenal.com/products/details/1050451\n",
      "https://www.fastenal.com/products/details/1050472\n",
      "https://www.fastenal.com/products/details/1050473\n",
      "https://www.fastenal.com/products/details/1050474\n",
      "https://www.fastenal.com/products/details/1050475\n",
      "https://www.fastenal.com/products/details/1037888\n",
      "https://www.fastenal.com/products/details/1042611\n",
      "https://www.fastenal.com/products/details/1042610\n",
      "https://www.fastenal.com/products/details/1042609\n",
      "https://www.fastenal.com/products/details/1042612\n",
      "https://www.fastenal.com/products/details/1042613\n",
      "https://www.fastenal.com/products/details/1014072\n",
      "https://www.fastenal.com/products/details/1014071\n",
      "https://www.fastenal.com/products/details/1014031\n",
      "https://www.fastenal.com/products/details/1014073\n",
      "https://www.fastenal.com/products/details/1025951\n",
      "https://www.fastenal.com/products/details/1025950\n",
      "https://www.fastenal.com/products/details/1025949\n",
      "https://www.fastenal.com/products/details/1025952\n",
      "https://www.fastenal.com/products/details/1025953\n",
      "https://www.fastenal.com/products/details/1086173\n",
      "https://www.fastenal.com/products/details/1086174\n",
      "https://www.fastenal.com/products/details/1086175\n",
      "https://www.fastenal.com/products/details/1086176\n",
      "https://www.fastenal.com/products/details/1086177\n"
     ]
    }
   ],
   "source": [
    "#Url to extract matting categories\n",
    "amortex_url ='https://www.fastenal.com/product/safety/hand-and-arm-protection/cut-resistant-gloves/600684?categoryId=600684&level=3&isExpanded=true&productFamilyId=30501'\n",
    "browser.visit(amortex_url)\n",
    "\n",
    "#activating soup\n",
    "html = browser.html\n",
    "soup = BeautifulSoup(html, 'html.parser')\n",
    "\n",
    "#access the urls in the HTML to create the url list for matting sub category\n",
    "amortex = soup.findAll('td',class_='cb-sku')\n",
    "amortex\n",
    "#Create an empty list to hold all the hrefs\n",
    "amortex_urls=[]\n",
    "#For loop to extract all href from a tags\n",
    "for i in (amortex):\n",
    "    #access each url\n",
    "    products=i('a')[0].text.strip().strip('')\n",
    "    #append the urls found to the empty list we created\n",
    "    amortex_urls.append(products)\n",
    "    #print (products)\n",
    "#display the results\n",
    "amortex_urls\n",
    "\n",
    "#loop throught the list to obtain the endpoint url of this category and store in a list\n",
    "list_family_30501=[]\n",
    "for i in range(len(amortex_urls)):\n",
    "    url = 'https://www.fastenal.com/products/details/{}'.format(amortex_urls[i])\n",
    "    list_family_30500.append(url)\n",
    "    print(url)"
   ]
  },
  {
   "cell_type": "code",
   "execution_count": null,
   "metadata": {},
   "outputs": [],
   "source": []
  },
  {
   "cell_type": "code",
   "execution_count": null,
   "metadata": {},
   "outputs": [],
   "source": []
  },
  {
   "cell_type": "code",
   "execution_count": null,
   "metadata": {},
   "outputs": [],
   "source": []
  },
  {
   "cell_type": "code",
   "execution_count": null,
   "metadata": {},
   "outputs": [],
   "source": []
  },
  {
   "cell_type": "code",
   "execution_count": null,
   "metadata": {},
   "outputs": [],
   "source": []
  },
  {
   "cell_type": "code",
   "execution_count": null,
   "metadata": {},
   "outputs": [],
   "source": []
  }
 ],
 "metadata": {
  "hide_input": false,
  "kernelspec": {
   "display_name": "Python 3",
   "language": "python",
   "name": "python3"
  },
  "language_info": {
   "codemirror_mode": {
    "name": "ipython",
    "version": 3
   },
   "file_extension": ".py",
   "mimetype": "text/x-python",
   "name": "python",
   "nbconvert_exporter": "python",
   "pygments_lexer": "ipython3",
   "version": "3.7.1"
  },
  "toc": {
   "base_numbering": 1,
   "nav_menu": {},
   "number_sections": true,
   "sideBar": true,
   "skip_h1_title": true,
   "title_cell": "Table of Contents",
   "title_sidebar": "Contents",
   "toc_cell": false,
   "toc_position": {},
   "toc_section_display": true,
   "toc_window_display": false
  },
  "varInspector": {
   "cols": {
    "lenName": 16,
    "lenType": 16,
    "lenVar": 40
   },
   "kernels_config": {
    "python": {
     "delete_cmd_postfix": "",
     "delete_cmd_prefix": "del ",
     "library": "var_list.py",
     "varRefreshCmd": "print(var_dic_list())"
    },
    "r": {
     "delete_cmd_postfix": ") ",
     "delete_cmd_prefix": "rm(",
     "library": "var_list.r",
     "varRefreshCmd": "cat(var_dic_list()) "
    }
   },
   "types_to_exclude": [
    "module",
    "function",
    "builtin_function_or_method",
    "instance",
    "_Feature"
   ],
   "window_display": false
  }
 },
 "nbformat": 4,
 "nbformat_minor": 2
}
