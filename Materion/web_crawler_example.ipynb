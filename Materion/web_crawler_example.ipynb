{
 "cells": [
  {
   "cell_type": "code",
   "execution_count": 1,
   "metadata": {},
   "outputs": [],
   "source": [
    "from bs4 import BeautifulSoup \n",
    "import requests \n",
    "import requests.exceptions \n",
    "from urllib.parse import urlsplit \n",
    "from urllib.parse import urlparse \n",
    "from collections import deque"
   ]
  },
  {
   "cell_type": "code",
   "execution_count": 2,
   "metadata": {},
   "outputs": [],
   "source": [
    "url ='https://scrapethissite.com'\n",
    "\n",
    "# a queue of urls to be crawled \n",
    "nextnew_urls = deque([url])\n",
    "\n",
    "# a set of urls that we have already processed \n",
    "processed_urls = set()\n",
    "\n",
    "# a set of domains inside the target \n",
    "local_urls = set()\n",
    "\n",
    "# a set of domains outside the target \n",
    "websiteforeign_urls = set()\n",
    "\n",
    "# a set of broken \n",
    "urlsbroken_urls = set()"
   ]
  },
  {
   "cell_type": "code",
   "execution_count": 3,
   "metadata": {},
   "outputs": [
    {
     "name": "stdout",
     "output_type": "stream",
     "text": [
      "Processing https://scrapethissite.com\n"
     ]
    }
   ],
   "source": [
    "# process urls one by one until we exhaust the queue\n",
    "while len(nextnew_urls):\n",
    "\n",
    "     # move next url from the queue to the set of processed urls\n",
    "    url = nextnew_urls.popleft()\n",
    "    processed_urls.add(url)\n",
    "    # get url's content\n",
    "    print(\"Processing %s\" % url)\n",
    "    try:\n",
    "        response = requests.get(url)\n",
    "    except (requests.exceptions.MissingSchema, requests.exceptions.ConnectionError, requests.exceptions.InvalidURL, requests.exceptions.InvalidSchema):\n",
    "        # add broken urls to it's own set, then continue\n",
    "        broken_urls.add(url)\n",
    "        continue"
   ]
  },
  {
   "cell_type": "code",
   "execution_count": 4,
   "metadata": {},
   "outputs": [],
   "source": [
    "# extract base url to resolve relative \n",
    "parts = urlsplit(url)\n",
    "base = \"{0.netloc}\".format(parts)\n",
    "strip_base = base.replace(\"www.\", \"\")\n",
    "base_url = \"{0.scheme}://{0.netloc}\".format(parts)\n",
    "path = url[:url.rfind('/')+1] if '/' in parts.path else url\n"
   ]
  },
  {
   "cell_type": "code",
   "execution_count": 5,
   "metadata": {},
   "outputs": [],
   "source": [
    "soup = BeautifulSoup(response.text, \"lxml\")"
   ]
  },
  {
   "cell_type": "code",
   "execution_count": 6,
   "metadata": {},
   "outputs": [],
   "source": [
    "for link in soup.find_all('a'):\n",
    "                # extract link url from the anchor\n",
    "                anchor = link.attrs[\"href\"] if \"href\" in link.attrs else ''"
   ]
  },
  {
   "cell_type": "code",
   "execution_count": 7,
   "metadata": {},
   "outputs": [],
   "source": [
    "for link in soup.find_all('a'):\n",
    "                # extract link url from the anchor\n",
    "                anchor = link.attrs[\"href\"] if \"href\" in link.attrs else ''\n",
    "\n",
    "                if anchor.startswith('/'):\n",
    "                    local_link = base_url + anchor\n",
    "                    local_urls.add(local_link)\n",
    "                elif strip_base in anchor:\n",
    "                    local_urls.add(anchor)\n",
    "                elif not anchor.startswith('http'):\n",
    "                    local_link = path + anchor\n",
    "                    local_urls.add(local_link)\n",
    "                else:\n",
    "                    foreign_urls.add(anchor)"
   ]
  },
  {
   "cell_type": "code",
   "execution_count": 12,
   "metadata": {},
   "outputs": [],
   "source": [
    "for i in local_urls:    \n",
    "    if not i in nextnew_urls and not i in processed_urls:        \n",
    "        nextnew_urls.append(i)\n",
    "       "
   ]
  },
  {
   "cell_type": "code",
   "execution_count": null,
   "metadata": {},
   "outputs": [],
   "source": [
    "#if not link in new_urls and not link in processed_urls:    \n",
    "   # new_urls.append(link)"
   ]
  },
  {
   "cell_type": "code",
   "execution_count": null,
   "metadata": {},
   "outputs": [],
   "source": []
  },
  {
   "cell_type": "code",
   "execution_count": null,
   "metadata": {},
   "outputs": [],
   "source": []
  }
 ],
 "metadata": {
  "hide_input": false,
  "kernelspec": {
   "display_name": "Python 3",
   "language": "python",
   "name": "python3"
  },
  "language_info": {
   "codemirror_mode": {
    "name": "ipython",
    "version": 3
   },
   "file_extension": ".py",
   "mimetype": "text/x-python",
   "name": "python",
   "nbconvert_exporter": "python",
   "pygments_lexer": "ipython3",
   "version": "3.7.1"
  },
  "toc": {
   "base_numbering": 1,
   "nav_menu": {},
   "number_sections": true,
   "sideBar": true,
   "skip_h1_title": true,
   "title_cell": "Table of Contents",
   "title_sidebar": "Contents",
   "toc_cell": false,
   "toc_position": {},
   "toc_section_display": true,
   "toc_window_display": false
  }
 },
 "nbformat": 4,
 "nbformat_minor": 2
}
