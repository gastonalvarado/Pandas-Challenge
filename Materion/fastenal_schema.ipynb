{
 "cells": [
  {
   "cell_type": "markdown",
   "metadata": {},
   "source": [
    "# Fastenal - Category Chart "
   ]
  },
  {
   "cell_type": "markdown",
   "metadata": {},
   "source": [
    "Code developed to build the category chart for the Fastenal website. The objective is to collect all of the urls for each one of the product categories and subcategories and their names so we can build the hierarchy and also use the urls for the data scraping of all of the part numbers "
   ]
  },
  {
   "cell_type": "markdown",
   "metadata": {},
   "source": [
    "## Import all dependencies and start selenium "
   ]
  },
  {
   "cell_type": "markdown",
   "metadata": {},
   "source": [
    "We are using selenium and BeautifulSoup for the scraping process"
   ]
  },
  {
   "cell_type": "code",
   "execution_count": 1,
   "metadata": {},
   "outputs": [
    {
     "name": "stderr",
     "output_type": "stream",
     "text": [
      "'which' is not recognized as an internal or external command,\n",
      "operable program or batch file.\n"
     ]
    }
   ],
   "source": [
    "#Finding the location of chromedriver.exe\n",
    "#https://splinter.readthedocs.io/en/latest/drivers/chrome.html\n",
    "!which chromedriver"
   ]
  },
  {
   "cell_type": "code",
   "execution_count": 2,
   "metadata": {
    "code_folding": [],
    "run_control": {
     "marked": false
    }
   },
   "outputs": [],
   "source": [
    "# Import your newly installed selenium package\n",
    "from selenium import webdriver\n",
    "from splinter import Browser\n",
    "from selenium.webdriver.common.keys import Keys\n",
    "import time\n",
    "time.sleep(3)\n",
    "from splinter.exceptions import ElementDoesNotExist\n",
    "from bs4 import BeautifulSoup\n",
    "\n",
    "\n",
    "# Now create an 'instance' of your driver\n",
    "WebDriver = {'executable_path': 'chromedriver'}\n",
    "\n",
    "# A new Chrome (or other browser) window should open up\n",
    "browser = Browser('chrome', **WebDriver, headless=False)\n",
    "\n",
    "# Defining width and height of the browser\n",
    "browser.driver.set_window_size(1750, 1250)\n",
    "\n",
    "#For Mac users - Opening the targer url\n",
    "#driver.get(\"https://www.fastenal.com/product/abrasives/coated-and-non-woven-abrasives/fiber-and-sanding-discs/609478?categoryId=609478&level=3&isExpanded=true&productFamilyId=26373&view=2\")\n",
    "\n",
    "#For Windows users - Opening the target url\n",
    "url ='https://www.fastenal.com/product/all'\n",
    "browser.visit(url)"
   ]
  },
  {
   "cell_type": "markdown",
   "metadata": {},
   "source": [
    "## Start the browser and making the soup "
   ]
  },
  {
   "cell_type": "code",
   "execution_count": 3,
   "metadata": {
    "scrolled": true
   },
   "outputs": [],
   "source": [
    "#activating soup\n",
    "html = browser.html\n",
    "soup = BeautifulSoup(html, 'html.parser')"
   ]
  },
  {
   "cell_type": "markdown",
   "metadata": {},
   "source": [
    "## Initialize searches "
   ]
  },
  {
   "cell_type": "markdown",
   "metadata": {},
   "source": [
    "### First we need to create the searches for the initial page that contains all of the Product categories  "
   ]
  },
  {
   "cell_type": "markdown",
   "metadata": {},
   "source": [
    "#### All Products"
   ]
  },
  {
   "cell_type": "markdown",
   "metadata": {},
   "source": [
    "Inspecting the website, we found that the Product category information is in a div inside the class 'col-xs-12 category-list margin--top-0', and it is consistent across all the pages, so we can create a function that gives us access to that div initially "
   ]
  },
  {
   "cell_type": "code",
   "execution_count": 4,
   "metadata": {
    "run_control": {
     "marked": false
    },
    "scrolled": true
   },
   "outputs": [
    {
     "data": {
      "text/plain": [
       "['/product/abrasives/600948;jsessionid=e2uE83t0ENClB2D9Ny2fXr+U.38536438-9c19-3947-9017-bf77ad0514fd?categoryId=600948&level=1&isExpanded=true&fsi=1',\n",
       " '/product/adhesives-sealants-and-tape/613850;jsessionid=e2uE83t0ENClB2D9Ny2fXr+U.38536438-9c19-3947-9017-bf77ad0514fd?categoryId=613850&level=1&isExpanded=true&fsi=1',\n",
       " '/product/cutting-tools-and-metalworking/601071;jsessionid=e2uE83t0ENClB2D9Ny2fXr+U.38536438-9c19-3947-9017-bf77ad0514fd?categoryId=601071&level=1&isExpanded=true&fsi=1',\n",
       " '/product/electrical/601280;jsessionid=e2uE83t0ENClB2D9Ny2fXr+U.38536438-9c19-3947-9017-bf77ad0514fd?categoryId=601280&level=1&isExpanded=true&fsi=1',\n",
       " '/product/electronics-and-batteries/613851;jsessionid=e2uE83t0ENClB2D9Ny2fXr+U.38536438-9c19-3947-9017-bf77ad0514fd?categoryId=613851&level=1&isExpanded=true&fsi=1',\n",
       " '/product/fasteners/600000;jsessionid=e2uE83t0ENClB2D9Ny2fXr+U.38536438-9c19-3947-9017-bf77ad0514fd?categoryId=600000&level=1&isExpanded=true&fsi=1',\n",
       " '/product/fleet-and-automotive/609389;jsessionid=e2uE83t0ENClB2D9Ny2fXr+U.38536438-9c19-3947-9017-bf77ad0514fd?categoryId=609389&level=1&isExpanded=true&fsi=1',\n",
       " '/product/hvac-and-refrigeration/600583;jsessionid=e2uE83t0ENClB2D9Ny2fXr+U.38536438-9c19-3947-9017-bf77ad0514fd?categoryId=600583&level=1&isExpanded=true&fsi=1',\n",
       " '/product/hardware/600206;jsessionid=e2uE83t0ENClB2D9Ny2fXr+U.38536438-9c19-3947-9017-bf77ad0514fd?categoryId=600206&level=1&isExpanded=true&fsi=1',\n",
       " '/product/hydraulics/603388;jsessionid=e2uE83t0ENClB2D9Ny2fXr+U.38536438-9c19-3947-9017-bf77ad0514fd?categoryId=603388&level=1&isExpanded=true&fsi=1',\n",
       " '/product/janitorial-and-cleaning/601490;jsessionid=e2uE83t0ENClB2D9Ny2fXr+U.38536438-9c19-3947-9017-bf77ad0514fd?categoryId=601490&level=1&isExpanded=true&fsi=1',\n",
       " '/product/lighting/601281;jsessionid=e2uE83t0ENClB2D9Ny2fXr+U.38536438-9c19-3947-9017-bf77ad0514fd?categoryId=601281&level=1&isExpanded=true&fsi=1',\n",
       " '/product/lubricants-coolants-and-fluids/613918;jsessionid=e2uE83t0ENClB2D9Ny2fXr+U.38536438-9c19-3947-9017-bf77ad0514fd?categoryId=613918&level=1&isExpanded=true&fsi=1',\n",
       " '/product/machinery/613852;jsessionid=e2uE83t0ENClB2D9Ny2fXr+U.38536438-9c19-3947-9017-bf77ad0514fd?categoryId=613852&level=1&isExpanded=true&fsi=1',\n",
       " '/product/material-handling-lifting-and-rigging/601813;jsessionid=e2uE83t0ENClB2D9Ny2fXr+U.38536438-9c19-3947-9017-bf77ad0514fd?categoryId=601813&level=1&isExpanded=true&fsi=1',\n",
       " '/product/motors/613961;jsessionid=e2uE83t0ENClB2D9Ny2fXr+U.38536438-9c19-3947-9017-bf77ad0514fd?categoryId=613961&level=1&isExpanded=true&fsi=1',\n",
       " '/product/office-and-breakroom-supplies/609525;jsessionid=e2uE83t0ENClB2D9Ny2fXr+U.38536438-9c19-3947-9017-bf77ad0514fd?categoryId=609525&level=1&isExpanded=true&fsi=1',\n",
       " '/product/outdoor-products-and-equipment/613853;jsessionid=e2uE83t0ENClB2D9Ny2fXr+U.38536438-9c19-3947-9017-bf77ad0514fd?categoryId=613853&level=1&isExpanded=true&fsi=1',\n",
       " '/product/packaging-and-shipping-products/613854;jsessionid=e2uE83t0ENClB2D9Ny2fXr+U.38536438-9c19-3947-9017-bf77ad0514fd?categoryId=613854&level=1&isExpanded=true&fsi=1',\n",
       " '/product/paint-and-painting-supplies/613960;jsessionid=e2uE83t0ENClB2D9Ny2fXr+U.38536438-9c19-3947-9017-bf77ad0514fd?categoryId=613960&level=1&isExpanded=true&fsi=1',\n",
       " '/product/plumbing/610686;jsessionid=e2uE83t0ENClB2D9Ny2fXr+U.38536438-9c19-3947-9017-bf77ad0514fd?categoryId=610686&level=1&isExpanded=true&fsi=1',\n",
       " '/product/pneumatics/613855;jsessionid=e2uE83t0ENClB2D9Ny2fXr+U.38536438-9c19-3947-9017-bf77ad0514fd?categoryId=613855&level=1&isExpanded=true&fsi=1',\n",
       " '/product/power-transmission/603582;jsessionid=e2uE83t0ENClB2D9Ny2fXr+U.38536438-9c19-3947-9017-bf77ad0514fd?categoryId=603582&level=1&isExpanded=true&fsi=1',\n",
       " '/product/pumps/613856;jsessionid=e2uE83t0ENClB2D9Ny2fXr+U.38536438-9c19-3947-9017-bf77ad0514fd?categoryId=613856&level=1&isExpanded=true&fsi=1',\n",
       " '/product/raw-materials/600930;jsessionid=e2uE83t0ENClB2D9Ny2fXr+U.38536438-9c19-3947-9017-bf77ad0514fd?categoryId=600930&level=1&isExpanded=true&fsi=1',\n",
       " '/product/safety/600616;jsessionid=e2uE83t0ENClB2D9Ny2fXr+U.38536438-9c19-3947-9017-bf77ad0514fd?categoryId=600616&level=1&isExpanded=true&fsi=1',\n",
       " '/product/security/613857;jsessionid=e2uE83t0ENClB2D9Ny2fXr+U.38536438-9c19-3947-9017-bf77ad0514fd?categoryId=613857&level=1&isExpanded=true&fsi=1',\n",
       " '/product/test-and-measurement/613858;jsessionid=e2uE83t0ENClB2D9Ny2fXr+U.38536438-9c19-3947-9017-bf77ad0514fd?categoryId=613858&level=1&isExpanded=true&fsi=1',\n",
       " '/product/tools-and-equipment/600241;jsessionid=e2uE83t0ENClB2D9Ny2fXr+U.38536438-9c19-3947-9017-bf77ad0514fd?categoryId=600241&level=1&isExpanded=true&fsi=1',\n",
       " '/product/welding/600974;jsessionid=e2uE83t0ENClB2D9Ny2fXr+U.38536438-9c19-3947-9017-bf77ad0514fd?categoryId=600974&level=1&isExpanded=true&fsi=1']"
      ]
     },
     "execution_count": 4,
     "metadata": {},
     "output_type": "execute_result"
    }
   ],
   "source": [
    "#access the urls in the HTML to create the url list\n",
    "sku_list = soup.findAll('div',class_='col-xs-12 category-list margin--top-0')\n",
    "\n",
    "#Create an empty list to hold all the hrefs\n",
    "all_product_urls=[]\n",
    "#For loop to extract all href from a tags\n",
    "for i in (sku_list[0]('a')):\n",
    "    #access each url\n",
    "    products=i['href']\n",
    "    #append the urls found to the empty list we created\n",
    "    all_product_urls.append(products)\n",
    "    #print (products)\n",
    "#display the results\n",
    "all_product_urls"
   ]
  },
  {
   "cell_type": "code",
   "execution_count": 5,
   "metadata": {},
   "outputs": [
    {
     "data": {
      "text/plain": [
       "[' We do not use Cookies for the processing, collection, or storage of personal data under any circumstances. If you would like to prevent our website from using Cookies or remove existing ones, you will need to adjust the Cookies settings in your browser. Changing this setting will alter the functionality of this website and your user experience could be diminished.\\n        ',\n",
       " 'Abrasives',\n",
       " 'Adhesives, Sealants, and Tape',\n",
       " 'Cutting Tools and Metalworking',\n",
       " 'Electrical',\n",
       " 'Electronics and Batteries',\n",
       " 'Fasteners',\n",
       " 'Fleet and Automotive',\n",
       " 'HVAC and Refrigeration',\n",
       " 'Hardware',\n",
       " 'Hydraulics',\n",
       " 'Janitorial and Cleaning',\n",
       " 'Lighting',\n",
       " 'Lubricants, Coolants, and Fluids',\n",
       " 'Machinery',\n",
       " 'Material Handling, Lifting and Rigging',\n",
       " 'Motors',\n",
       " 'Office and Breakroom Supplies',\n",
       " 'Outdoor Products and Equipment',\n",
       " 'Packaging and Shipping Products',\n",
       " 'Paint and Painting Supplies',\n",
       " 'Plumbing',\n",
       " 'Pneumatics',\n",
       " 'Power Transmission',\n",
       " 'Pumps',\n",
       " 'Raw Materials',\n",
       " 'Safety',\n",
       " 'Security',\n",
       " 'Test and Measurement',\n",
       " 'Tools and Equipment',\n",
       " 'Welding']"
      ]
     },
     "execution_count": 5,
     "metadata": {},
     "output_type": "execute_result"
    }
   ],
   "source": [
    "#access the urls in the HTML to create the url list\n",
    "product_list = soup.findAll('p')\n",
    "\n",
    "#Create an empty list to hold all the hrefs\n",
    "all_product_list=[]\n",
    "#For loop to extract all text from p tags\n",
    "for i in (product_list):\n",
    "    #access each url\n",
    "    p_list=i.text\n",
    "    #append the urls found to the empty list we created\n",
    "    all_product_list.append(p_list)\n",
    "    #print (p_list)\n",
    "#display the results\n",
    "all_product_list   "
   ]
  },
  {
   "cell_type": "code",
   "execution_count": 6,
   "metadata": {},
   "outputs": [],
   "source": [
    "url ='https://www.fastenal.com/product/safety/600616?categoryId=600616&level=1&isExpanded=true&fsi=1'\n",
    "browser.visit(url)"
   ]
  },
  {
   "cell_type": "code",
   "execution_count": 9,
   "metadata": {},
   "outputs": [
    {
     "data": {
      "text/plain": [
       "[<div class=\"category-image-wrapper\">\n",
       " <img alt=\"\" class=\"category-image\" id=\"\" src=\"//img3.fastenal.com/productimages/0894023.jpg\" title=\"Abrasives\"/>\n",
       " </div>, <div class=\"category-image-wrapper\">\n",
       " <img alt=\"\" class=\"category-image\" id=\"\" src=\"//img0.fastenal.com/productimages/0617168.jpg\" title=\"Adhesives, Sealants, and Tape\"/>\n",
       " </div>, <div class=\"category-image-wrapper\">\n",
       " <img alt=\"\" class=\"category-image\" id=\"\" src=\"//img1.fastenal.com/productimages/0303044_hr4c.jpg\" title=\"Cutting Tools and Metalworking\"/>\n",
       " </div>, <div class=\"category-image-wrapper\">\n",
       " <img alt=\"\" class=\"category-image\" id=\"\" src=\"//img0.fastenal.com/productimages/0736193.jpg\" title=\"Electrical\"/>\n",
       " </div>, <div class=\"category-image-wrapper\">\n",
       " <img alt=\"\" class=\"category-image\" id=\"\" src=\"//img1.fastenal.com/productimages/0225012.jpg\" title=\"Electronics and Batteries\"/>\n",
       " </div>, <div class=\"category-image-wrapper\">\n",
       " <img alt=\"\" class=\"category-image\" id=\"\" src=\"//img0.fastenal.com/productimages/CapScrewsHexBolts_600003_CatImg.jpg\" title=\"Fasteners\"/>\n",
       " </div>, <div class=\"category-image-wrapper\">\n",
       " <img alt=\"\" class=\"category-image\" id=\"\" src=\"//img4.fastenal.com/productimages/0590039_hr4c.jpg\" title=\"Fleet and Automotive\"/>\n",
       " </div>, <div class=\"category-image-wrapper\">\n",
       " <img alt=\"\" class=\"category-image\" id=\"\" src=\"//img3.fastenal.com/productimages/4305846.jpg\" title=\"HVAC and Refrigeration\"/>\n",
       " </div>, <div class=\"category-image-wrapper\">\n",
       " <img alt=\"\" class=\"category-image\" id=\"\" src=\"//img1.fastenal.com/productimages/11102023.jpg\" title=\"Hardware\"/>\n",
       " </div>, <div class=\"category-image-wrapper\">\n",
       " <img alt=\"\" class=\"category-image\" id=\"\" src=\"//img3.fastenal.com/productimages/412473-131280.jpg\" title=\"Hydraulics\"/>\n",
       " </div>, <div class=\"category-image-wrapper\">\n",
       " <img alt=\"\" class=\"category-image\" id=\"\" src=\"//img0.fastenal.com/productimages/0606761.jpg\" title=\"Janitorial and Cleaning\"/>\n",
       " </div>, <div class=\"category-image-wrapper\">\n",
       " <img alt=\"\" class=\"category-image\" id=\"\" src=\"//img1.fastenal.com/productimages/0763350.jpg\" title=\"Lighting\"/>\n",
       " </div>, <div class=\"category-image-wrapper\">\n",
       " <img alt=\"\" class=\"category-image\" id=\"\" src=\"//img3.fastenal.com/productimages/0409874.jpg\" title=\"Lubricants, Coolants, and Fluids\"/>\n",
       " </div>, <div class=\"category-image-wrapper\">\n",
       " <img alt=\"\" class=\"category-image\" id=\"\" src=\"//img2.fastenal.com/productimages/3222222.jpg\" title=\"Machinery\"/>\n",
       " </div>, <div class=\"category-image-wrapper\">\n",
       " <img alt=\"\" class=\"category-image\" id=\"\" src=\"//img3.fastenal.com/productimages/0519133.jpg\" title=\"Material Handling, Lifting and Rigging\"/>\n",
       " </div>, <div class=\"category-image-wrapper\">\n",
       " <img alt=\"\" class=\"category-image\" id=\"\" src=\"//img1.fastenal.com/productimages/4130731.jpg\" title=\"Motors\"/>\n",
       " </div>, <div class=\"category-image-wrapper\">\n",
       " <img alt=\"\" class=\"category-image\" id=\"\" src=\"//img0.fastenal.com/productimages/0530113.jpg\" title=\"Office and Breakroom Supplies\"/>\n",
       " </div>, <div class=\"category-image-wrapper\">\n",
       " <img alt=\"\" class=\"category-image\" id=\"\" src=\"//img3.fastenal.com/productimages/0254532_hr4c.jpg\" title=\"Outdoor Products and Equipment\"/>\n",
       " </div>, <div class=\"category-image-wrapper\">\n",
       " <img alt=\"\" class=\"category-image\" id=\"\" src=\"//img4.fastenal.com/productimages/05006044.jpg\" title=\"Packaging and Shipping Products\"/>\n",
       " </div>, <div class=\"category-image-wrapper\">\n",
       " <img alt=\"\" class=\"category-image\" id=\"\" src=\"//img0.fastenal.com/productimages/0602131.jpg\" title=\"Paint and Painting Supplies\"/>\n",
       " </div>, <div class=\"category-image-wrapper\">\n",
       " <img alt=\"\" class=\"category-image\" id=\"\" src=\"//img1.fastenal.com/productimages/0473534.jpg\" title=\"Plumbing\"/>\n",
       " </div>, <div class=\"category-image-wrapper\">\n",
       " <img alt=\"\" class=\"category-image\" id=\"\" src=\"//img0.fastenal.com/productimages/0419721.jpg\" title=\"Pneumatics\"/>\n",
       " </div>, <div class=\"category-image-wrapper\">\n",
       " <img alt=\"\" class=\"category-image\" id=\"\" src=\"//img2.fastenal.com/productimages/4126119.jpg\" title=\"Power Transmission\"/>\n",
       " </div>, <div class=\"category-image-wrapper\">\n",
       " <img alt=\"\" class=\"category-image\" id=\"\" src=\"//img1.fastenal.com/productimages/4203911.jpg\" title=\"Pumps\"/>\n",
       " </div>, <div class=\"category-image-wrapper\">\n",
       " <img alt=\"\" class=\"category-image\" id=\"\" src=\"//img0.fastenal.com/productimages/0961256.jpg\" title=\"Raw Materials\"/>\n",
       " </div>, <div class=\"category-image-wrapper\">\n",
       " <img alt=\"\" class=\"category-image\" id=\"\" src=\"//img1.fastenal.com/productimages/111024818.jpg\" title=\"Safety\"/>\n",
       " </div>, <div class=\"category-image-wrapper\">\n",
       " <img alt=\"\" class=\"category-image\" id=\"\" src=\"//img2.fastenal.com/productimages/0224292.jpg\" title=\"Security\"/>\n",
       " </div>, <div class=\"category-image-wrapper\">\n",
       " <img alt=\"\" class=\"category-image\" id=\"\" src=\"//img3.fastenal.com/productimages/3299183.jpg\" title=\"Test and Measurement\"/>\n",
       " </div>, <div class=\"category-image-wrapper\">\n",
       " <img alt=\"\" class=\"category-image\" id=\"\" src=\"//img1.fastenal.com/productimages/2116051.jpg\" title=\"Tools and Equipment\"/>\n",
       " </div>, <div class=\"category-image-wrapper\">\n",
       " <img alt=\"\" class=\"category-image\" id=\"\" src=\"//img4.fastenal.com/productimages/0801955_hr4c.jpg\" title=\"Welding\"/>\n",
       " </div>]"
      ]
     },
     "execution_count": 9,
     "metadata": {},
     "output_type": "execute_result"
    }
   ],
   "source": [
    "#access the urls in the HTML to create the url list\n",
    "safety = soup.findAll('div',class_='category-image-wrapper')\n",
    "safety\n",
    "#Create an empty list to hold all the hrefs\n",
    "#safety_urls=[]\n",
    "#For loop to extract all href from a tags\n",
    "#for i in (safety[0]('a')):\n",
    "    #access each url\n",
    "    #products=i['href']\n",
    "    #append the urls found to the empty list we created\n",
    "    #safety_urls.append(products)\n",
    "    #print (products)\n",
    "#display the results\n",
    "#safety_urls"
   ]
  },
  {
   "cell_type": "code",
   "execution_count": null,
   "metadata": {},
   "outputs": [],
   "source": []
  },
  {
   "cell_type": "code",
   "execution_count": null,
   "metadata": {},
   "outputs": [],
   "source": []
  },
  {
   "cell_type": "code",
   "execution_count": null,
   "metadata": {},
   "outputs": [],
   "source": []
  },
  {
   "cell_type": "code",
   "execution_count": null,
   "metadata": {
    "run_control": {
     "marked": false
    }
   },
   "outputs": [],
   "source": []
  },
  {
   "cell_type": "code",
   "execution_count": null,
   "metadata": {},
   "outputs": [],
   "source": []
  },
  {
   "cell_type": "code",
   "execution_count": null,
   "metadata": {},
   "outputs": [],
   "source": []
  },
  {
   "cell_type": "code",
   "execution_count": null,
   "metadata": {},
   "outputs": [],
   "source": []
  },
  {
   "cell_type": "code",
   "execution_count": null,
   "metadata": {},
   "outputs": [],
   "source": []
  },
  {
   "cell_type": "code",
   "execution_count": null,
   "metadata": {},
   "outputs": [],
   "source": []
  },
  {
   "cell_type": "code",
   "execution_count": null,
   "metadata": {},
   "outputs": [],
   "source": []
  },
  {
   "cell_type": "code",
   "execution_count": null,
   "metadata": {},
   "outputs": [],
   "source": []
  },
  {
   "cell_type": "code",
   "execution_count": null,
   "metadata": {},
   "outputs": [],
   "source": []
  },
  {
   "cell_type": "code",
   "execution_count": null,
   "metadata": {},
   "outputs": [],
   "source": []
  },
  {
   "cell_type": "code",
   "execution_count": null,
   "metadata": {},
   "outputs": [],
   "source": []
  },
  {
   "cell_type": "code",
   "execution_count": null,
   "metadata": {},
   "outputs": [],
   "source": []
  },
  {
   "cell_type": "code",
   "execution_count": null,
   "metadata": {},
   "outputs": [],
   "source": []
  },
  {
   "cell_type": "code",
   "execution_count": null,
   "metadata": {},
   "outputs": [],
   "source": []
  }
 ],
 "metadata": {
  "hide_input": false,
  "kernelspec": {
   "display_name": "Python 3",
   "language": "python",
   "name": "python3"
  },
  "language_info": {
   "codemirror_mode": {
    "name": "ipython",
    "version": 3
   },
   "file_extension": ".py",
   "mimetype": "text/x-python",
   "name": "python",
   "nbconvert_exporter": "python",
   "pygments_lexer": "ipython3",
   "version": "3.7.1"
  },
  "toc": {
   "base_numbering": 1,
   "nav_menu": {},
   "number_sections": true,
   "sideBar": true,
   "skip_h1_title": true,
   "title_cell": "Table of Contents",
   "title_sidebar": "Contents",
   "toc_cell": false,
   "toc_position": {},
   "toc_section_display": true,
   "toc_window_display": false
  },
  "varInspector": {
   "cols": {
    "lenName": 16,
    "lenType": 16,
    "lenVar": 40
   },
   "kernels_config": {
    "python": {
     "delete_cmd_postfix": "",
     "delete_cmd_prefix": "del ",
     "library": "var_list.py",
     "varRefreshCmd": "print(var_dic_list())"
    },
    "r": {
     "delete_cmd_postfix": ") ",
     "delete_cmd_prefix": "rm(",
     "library": "var_list.r",
     "varRefreshCmd": "cat(var_dic_list()) "
    }
   },
   "types_to_exclude": [
    "module",
    "function",
    "builtin_function_or_method",
    "instance",
    "_Feature"
   ],
   "window_display": false
  }
 },
 "nbformat": 4,
 "nbformat_minor": 2
}
