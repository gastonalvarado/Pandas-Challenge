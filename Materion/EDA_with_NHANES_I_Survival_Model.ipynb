{
 "cells": [
  {
   "cell_type": "markdown",
   "metadata": {
    "colab_type": "text",
    "id": "hHYkv7vQN0eG"
   },
   "source": [
    "# Exploring data with Python\n",
    "This notebook is a copy of the [NHANES Survival I model notebook](https://github.com/slundberg/shap/blob/master/notebooks/tree_explainer/NHANES%20I%20Survival%20Model.ipynb) from the creators of SHAP, with sections added for data exploration. This dataset has a variety of medical data, and so should be nice and familiar to physicians. The SHAP creators have also provided an easy function to download the dataset, so you do not have to worry about getting a file yourself.\n",
    "\n",
    "\n",
    "We'll be using Pandas, Pandas-summary,  TableOne, Matplotlib,  and SHAP to explore the data.\n"
   ]
  },
  {
   "cell_type": "markdown",
   "metadata": {
    "colab_type": "text",
    "id": "seMtarfpjaKd"
   },
   "source": [
    "## Outline\n",
    "Here's the basic plan:\n",
    "1. Load data and look at it\n",
    "1. Do some exploratory data analysis\n",
    "  1. Get summary statistics for every column\n",
    "  1. Make summary plots for every column\n",
    "  1. Make Table 1, or a semblance of it\n",
    "1. Train the model\n",
    "1. Use SHAP to explore the model's predictions, including relationships between variables\n"
   ]
  },
  {
   "cell_type": "markdown",
   "metadata": {
    "colab_type": "text",
    "id": "2omBq9zrjgY8"
   },
   "source": [
    "## General Ideas\n",
    "\n",
    "A few principles:\n",
    "- I like to make things as general as possible, as often as possible. That way I can reuse code. \n",
    "  - For example, instead of manually selecting all of the numeric columns to make histograms, use a little bit of code to automatically detect which columns are numeric.\n",
    "  - If the script is properly built, all you should have to do is clean the data to the point where you are comfortable creating a dataframe called \"df\", then let the code rock and roll on its own.\n",
    "  - This also explains the `try/except` statements littered throughout - if one thing fails, we don't want the whole script to stop running. We'll make a log of what failed, so we can go back later and see if something is worth fixing or not.\n",
    "  - The goal is to produce a whole grip of output that you can pick through at your leisure, to reveal places that would warrant a deeper dive. The images could also be optimized for publication, e.g. you may want to set your own number of bins for the histograms, but the automatic output for this code is surprisingly serviceable. \n",
    "- Prefer pdf images over all other types. They are infinitely scalable, have real text, and can be easily converted into jpg/png/tiff/whatever. Despite these advantages, they are much, much smaller on disk than rasterized images (jpg/png/etc.). At the end of this notebook you will have a zip file with tons of pdf images and csv files, all of which will likely amount to less than a megabyte."
   ]
  },
  {
   "cell_type": "markdown",
   "metadata": {
    "colab_type": "text",
    "id": "xYOgwEZmv5gX"
   },
   "source": [
    "# Setup\n",
    "## Install missing libraries and import\n",
    "\n",
    "Using `pip` with the `-q` option to silence the extra output."
   ]
  },
  {
   "cell_type": "code",
   "execution_count": 1,
   "metadata": {
    "colab": {
     "base_uri": "https://localhost:8080/",
     "height": 51
    },
    "colab_type": "code",
    "executionInfo": {
     "elapsed": 15631,
     "status": "ok",
     "timestamp": 1561381984438,
     "user": {
      "displayName": "Beau Hilton",
      "photoUrl": "https://lh5.googleusercontent.com/-MjY82id8Sds/AAAAAAAAAAI/AAAAAAAAABE/K4BVfSOlPfE/s64/photo.jpg",
      "userId": "13815686168076873680"
     },
     "user_tz": 240
    },
    "id": "eBAL1mGfuJFV",
    "outputId": "27b18df2-585a-4a3a-b38a-22d24f4d7c74"
   },
   "outputs": [
    {
     "name": "stdout",
     "output_type": "stream",
     "text": [
      "\u001b[?25l\r",
      "\u001b[K     |█▍                              | 10kB 16.2MB/s eta 0:00:01\r",
      "\u001b[K     |██▉                             | 20kB 3.4MB/s eta 0:00:01\r",
      "\u001b[K     |████▎                           | 30kB 4.9MB/s eta 0:00:01\r",
      "\u001b[K     |█████▊                          | 40kB 3.1MB/s eta 0:00:01\r",
      "\u001b[K     |███████                         | 51kB 3.8MB/s eta 0:00:01\r",
      "\u001b[K     |████████▌                       | 61kB 4.5MB/s eta 0:00:01\r",
      "\u001b[K     |██████████                      | 71kB 5.2MB/s eta 0:00:01\r",
      "\u001b[K     |███████████▍                    | 81kB 5.8MB/s eta 0:00:01\r",
      "\u001b[K     |████████████▉                   | 92kB 6.5MB/s eta 0:00:01\r",
      "\u001b[K     |██████████████▏                 | 102kB 5.0MB/s eta 0:00:01\r",
      "\u001b[K     |███████████████▋                | 112kB 5.0MB/s eta 0:00:01\r",
      "\u001b[K     |█████████████████               | 122kB 5.0MB/s eta 0:00:01\r",
      "\u001b[K     |██████████████████▌             | 133kB 5.0MB/s eta 0:00:01\r",
      "\u001b[K     |████████████████████            | 143kB 5.0MB/s eta 0:00:01\r",
      "\u001b[K     |█████████████████████▎          | 153kB 5.0MB/s eta 0:00:01\r",
      "\u001b[K     |██████████████████████▊         | 163kB 5.0MB/s eta 0:00:01\r",
      "\u001b[K     |████████████████████████▏       | 174kB 5.0MB/s eta 0:00:01\r",
      "\u001b[K     |█████████████████████████▋      | 184kB 5.0MB/s eta 0:00:01\r",
      "\u001b[K     |███████████████████████████     | 194kB 5.0MB/s eta 0:00:01\r",
      "\u001b[K     |████████████████████████████▍   | 204kB 5.0MB/s eta 0:00:01\r",
      "\u001b[K     |█████████████████████████████▉  | 215kB 5.0MB/s eta 0:00:01\r",
      "\u001b[K     |███████████████████████████████▎| 225kB 5.0MB/s eta 0:00:01\r",
      "\u001b[K     |████████████████████████████████| 235kB 5.0MB/s \n",
      "\u001b[?25h  Building wheel for shap (setup.py) ... \u001b[?25l\u001b[?25hdone\n"
     ]
    }
   ],
   "source": [
    "!pip install shap -q\n",
    "!pip install pandas-summary -q\n",
    "!pip install tableone -q"
   ]
  },
  {
   "cell_type": "code",
   "execution_count": 0,
   "metadata": {
    "colab": {},
    "colab_type": "code",
    "id": "r0whhCObuBau"
   },
   "outputs": [],
   "source": [
    "import shap\n",
    "import xgboost\n",
    "from sklearn.model_selection import train_test_split\n",
    "import pandas as pd\n",
    "import matplotlib.pylab as pl\n",
    "import matplotlib.pyplot as plt\n",
    "from tableone import TableOne\n",
    "import modality\n",
    "import numpy as np\n",
    "import sys\n",
    "import os\n",
    "import traceback # for error handling\n",
    "import shutil \n",
    "# we're going to use shutil to make a zip file of all of our explorations\n",
    "# so we can easily take it with us/email it to a colleague/etc.\n",
    "%matplotlib inline"
   ]
  },
  {
   "cell_type": "code",
   "execution_count": 0,
   "metadata": {
    "colab": {},
    "colab_type": "code",
    "id": "vY5sDC2vOe0R"
   },
   "outputs": [],
   "source": [
    "# A little function to save the exceptions (errors) to file\n",
    "# and print them to the terminal.\n",
    "# The only problem I can find with this function is that \n",
    "# Jupyter notebooks restart their numbering in every cell, \n",
    "# making it a little harder to find exactly where the error occurred.\n",
    "# If you use it in a vanilla .py script, that problem disappears.\n",
    "\n",
    "def exhandler(ex):\n",
    "    exfile = open(\"exceptions.txt\",\"a\")\n",
    "    print('#' * 80) # a line of `#` to make a clear delineation bw errors\n",
    "    exfile.write(f\"Error on line {sys.exc_info()[-1].tb_lineno}:\")\n",
    "    exfile.write(f\"\\n {str(ex)} \\n\")\n",
    "    exfile.write(traceback.format_exc())\n",
    "    print('#' * 80)\n",
    "    exfile.close() \n",
    "    print(ex)\n",
    "    print(traceback.format_exc())\n"
   ]
  },
  {
   "cell_type": "markdown",
   "metadata": {
    "colab_type": "text",
    "id": "0wucQ6vVQtR7"
   },
   "source": [
    "## Load and clean data"
   ]
  },
  {
   "cell_type": "code",
   "execution_count": 0,
   "metadata": {
    "colab": {},
    "colab_type": "code",
    "id": "uUwRku-kuBay"
   },
   "outputs": [],
   "source": [
    "# the SHAP \"datasets\" functions just grab csv files from the SHAP github account\n",
    "# and read them into pandas dataframes\n",
    "\n",
    "X,y = shap.datasets.nhanesi()\n",
    "X_display,y_display = shap.datasets.nhanesi(display=True) \n",
    "# human readable feature values \n",
    "# - all they did was convert \"Sex\" from 1/0 to Female/Male\n",
    "\n",
    "# the SHAP people split off the survival data for prediction. \n",
    "# Let's stick it back on for description\n",
    "df = X_display.copy()\n",
    "df[\"survival\"] = y\n",
    "\n",
    "# A little cleaning:\n",
    "# Unnamed: 0 is a duplicate axis, drop it here\n",
    "df.drop([\"Unnamed: 0\"], axis=1, inplace=True)\n",
    "\n",
    "# The \"Race\" column was converted from discrete racial types into numbers\n",
    "# I don't know which number corresponds to which race for sure,\n",
    "# but based on frequency I'm guessing it's \n",
    "# the standard \"White,\" \"African American\", \"Other\" schema.\n",
    "\n",
    "df.replace({'Race': {1: \"White\", 2: \"African_American\", 3: \"Other\"}}, inplace=True)\n",
    "df[\"Race\"] = df[\"Race\"].astype('category')\n",
    "\n",
    "# The \"Sex\" column should also be categorical\n",
    "df[\"Sex\"] = df[\"Sex\"].astype('category')"
   ]
  },
  {
   "cell_type": "markdown",
   "metadata": {
    "colab_type": "text",
    "id": "rlRpVOW8abWe"
   },
   "source": [
    "# Exploratory Data Analysis (EDA)"
   ]
  },
  {
   "cell_type": "markdown",
   "metadata": {
    "colab_type": "text",
    "id": "y_rt80QXai0C"
   },
   "source": [
    "## Take a peek\n",
    "I think the best way to start exploring data is to actually look at it. If you have a csv file, Excel doc, or whatever, open it up and poke around. One equivalent in Pandas is to load the data and call `dataset_name.head(x)`, with whatever number of rows you want to see in `(x)`. "
   ]
  },
  {
   "cell_type": "code",
   "execution_count": 5,
   "metadata": {
    "colab": {
     "base_uri": "https://localhost:8080/",
     "height": 413
    },
    "colab_type": "code",
    "executionInfo": {
     "elapsed": 19300,
     "status": "ok",
     "timestamp": 1561381988149,
     "user": {
      "displayName": "Beau Hilton",
      "photoUrl": "https://lh5.googleusercontent.com/-MjY82id8Sds/AAAAAAAAAAI/AAAAAAAAABE/K4BVfSOlPfE/s64/photo.jpg",
      "userId": "13815686168076873680"
     },
     "user_tz": 240
    },
    "id": "k0mDtTQyaCrt",
    "outputId": "48aa11a1-5191-45fb-83c3-23065179c1c2"
   },
   "outputs": [
    {
     "data": {
      "text/html": [
       "<div>\n",
       "<style scoped>\n",
       "    .dataframe tbody tr th:only-of-type {\n",
       "        vertical-align: middle;\n",
       "    }\n",
       "\n",
       "    .dataframe tbody tr th {\n",
       "        vertical-align: top;\n",
       "    }\n",
       "\n",
       "    .dataframe thead th {\n",
       "        text-align: right;\n",
       "    }\n",
       "</style>\n",
       "<table border=\"1\" class=\"dataframe\">\n",
       "  <thead>\n",
       "    <tr style=\"text-align: right;\">\n",
       "      <th></th>\n",
       "      <th>Age</th>\n",
       "      <th>Diastolic BP</th>\n",
       "      <th>Poverty index</th>\n",
       "      <th>Race</th>\n",
       "      <th>Red blood cells</th>\n",
       "      <th>Sedimentation rate</th>\n",
       "      <th>Serum Albumin</th>\n",
       "      <th>Serum Cholesterol</th>\n",
       "      <th>Serum Iron</th>\n",
       "      <th>Serum Magnesium</th>\n",
       "      <th>Serum Protein</th>\n",
       "      <th>Sex</th>\n",
       "      <th>Systolic BP</th>\n",
       "      <th>TIBC</th>\n",
       "      <th>TS</th>\n",
       "      <th>White blood cells</th>\n",
       "      <th>BMI</th>\n",
       "      <th>Pulse pressure</th>\n",
       "      <th>survival</th>\n",
       "    </tr>\n",
       "  </thead>\n",
       "  <tbody>\n",
       "    <tr>\n",
       "      <th>0</th>\n",
       "      <td>35.0</td>\n",
       "      <td>92.0</td>\n",
       "      <td>126.0</td>\n",
       "      <td>African_American</td>\n",
       "      <td>77.7</td>\n",
       "      <td>12.0</td>\n",
       "      <td>5.0</td>\n",
       "      <td>165.0</td>\n",
       "      <td>135.0</td>\n",
       "      <td>1.37</td>\n",
       "      <td>7.6</td>\n",
       "      <td>Female</td>\n",
       "      <td>142.0</td>\n",
       "      <td>323.0</td>\n",
       "      <td>41.8</td>\n",
       "      <td>5.8</td>\n",
       "      <td>31.109434</td>\n",
       "      <td>50.0</td>\n",
       "      <td>15.274658</td>\n",
       "    </tr>\n",
       "    <tr>\n",
       "      <th>1</th>\n",
       "      <td>71.0</td>\n",
       "      <td>78.0</td>\n",
       "      <td>210.0</td>\n",
       "      <td>African_American</td>\n",
       "      <td>77.7</td>\n",
       "      <td>37.0</td>\n",
       "      <td>4.0</td>\n",
       "      <td>298.0</td>\n",
       "      <td>89.0</td>\n",
       "      <td>1.38</td>\n",
       "      <td>6.4</td>\n",
       "      <td>Female</td>\n",
       "      <td>156.0</td>\n",
       "      <td>331.0</td>\n",
       "      <td>26.9</td>\n",
       "      <td>5.3</td>\n",
       "      <td>32.362572</td>\n",
       "      <td>78.0</td>\n",
       "      <td>11.586073</td>\n",
       "    </tr>\n",
       "    <tr>\n",
       "      <th>2</th>\n",
       "      <td>74.0</td>\n",
       "      <td>86.0</td>\n",
       "      <td>999.0</td>\n",
       "      <td>African_American</td>\n",
       "      <td>77.7</td>\n",
       "      <td>31.0</td>\n",
       "      <td>3.8</td>\n",
       "      <td>222.0</td>\n",
       "      <td>115.0</td>\n",
       "      <td>1.37</td>\n",
       "      <td>7.4</td>\n",
       "      <td>Female</td>\n",
       "      <td>170.0</td>\n",
       "      <td>299.0</td>\n",
       "      <td>38.5</td>\n",
       "      <td>8.1</td>\n",
       "      <td>25.388497</td>\n",
       "      <td>84.0</td>\n",
       "      <td>8.149087</td>\n",
       "    </tr>\n",
       "    <tr>\n",
       "      <th>3</th>\n",
       "      <td>64.0</td>\n",
       "      <td>92.0</td>\n",
       "      <td>385.0</td>\n",
       "      <td>White</td>\n",
       "      <td>77.7</td>\n",
       "      <td>30.0</td>\n",
       "      <td>4.3</td>\n",
       "      <td>265.0</td>\n",
       "      <td>94.0</td>\n",
       "      <td>1.97</td>\n",
       "      <td>7.3</td>\n",
       "      <td>Female</td>\n",
       "      <td>172.0</td>\n",
       "      <td>349.0</td>\n",
       "      <td>26.9</td>\n",
       "      <td>6.7</td>\n",
       "      <td>26.446610</td>\n",
       "      <td>80.0</td>\n",
       "      <td>-21.094292</td>\n",
       "    </tr>\n",
       "    <tr>\n",
       "      <th>4</th>\n",
       "      <td>32.0</td>\n",
       "      <td>70.0</td>\n",
       "      <td>183.0</td>\n",
       "      <td>African_American</td>\n",
       "      <td>77.7</td>\n",
       "      <td>18.0</td>\n",
       "      <td>5.0</td>\n",
       "      <td>203.0</td>\n",
       "      <td>192.0</td>\n",
       "      <td>1.35</td>\n",
       "      <td>7.3</td>\n",
       "      <td>Male</td>\n",
       "      <td>128.0</td>\n",
       "      <td>386.0</td>\n",
       "      <td>49.7</td>\n",
       "      <td>8.1</td>\n",
       "      <td>20.354684</td>\n",
       "      <td>58.0</td>\n",
       "      <td>-0.000000</td>\n",
       "    </tr>\n",
       "    <tr>\n",
       "      <th>5</th>\n",
       "      <td>40.0</td>\n",
       "      <td>78.0</td>\n",
       "      <td>297.0</td>\n",
       "      <td>African_American</td>\n",
       "      <td>77.7</td>\n",
       "      <td>24.0</td>\n",
       "      <td>4.0</td>\n",
       "      <td>173.0</td>\n",
       "      <td>121.0</td>\n",
       "      <td>1.71</td>\n",
       "      <td>6.7</td>\n",
       "      <td>Female</td>\n",
       "      <td>118.0</td>\n",
       "      <td>370.0</td>\n",
       "      <td>32.7</td>\n",
       "      <td>10.7</td>\n",
       "      <td>27.217201</td>\n",
       "      <td>40.0</td>\n",
       "      <td>-21.080594</td>\n",
       "    </tr>\n",
       "    <tr>\n",
       "      <th>6</th>\n",
       "      <td>53.0</td>\n",
       "      <td>76.0</td>\n",
       "      <td>461.0</td>\n",
       "      <td>White</td>\n",
       "      <td>77.7</td>\n",
       "      <td>2.0</td>\n",
       "      <td>4.3</td>\n",
       "      <td>276.0</td>\n",
       "      <td>135.0</td>\n",
       "      <td>1.74</td>\n",
       "      <td>7.6</td>\n",
       "      <td>Male</td>\n",
       "      <td>124.0</td>\n",
       "      <td>334.0</td>\n",
       "      <td>40.4</td>\n",
       "      <td>6.0</td>\n",
       "      <td>23.091823</td>\n",
       "      <td>48.0</td>\n",
       "      <td>-21.072374</td>\n",
       "    </tr>\n",
       "    <tr>\n",
       "      <th>7</th>\n",
       "      <td>36.0</td>\n",
       "      <td>66.0</td>\n",
       "      <td>423.0</td>\n",
       "      <td>White</td>\n",
       "      <td>77.7</td>\n",
       "      <td>11.0</td>\n",
       "      <td>4.2</td>\n",
       "      <td>160.0</td>\n",
       "      <td>107.0</td>\n",
       "      <td>1.69</td>\n",
       "      <td>6.3</td>\n",
       "      <td>Female</td>\n",
       "      <td>108.0</td>\n",
       "      <td>289.0</td>\n",
       "      <td>37.0</td>\n",
       "      <td>9.5</td>\n",
       "      <td>20.313169</td>\n",
       "      <td>42.0</td>\n",
       "      <td>-21.355251</td>\n",
       "    </tr>\n",
       "    <tr>\n",
       "      <th>8</th>\n",
       "      <td>49.0</td>\n",
       "      <td>86.0</td>\n",
       "      <td>385.0</td>\n",
       "      <td>White</td>\n",
       "      <td>77.7</td>\n",
       "      <td>34.0</td>\n",
       "      <td>4.3</td>\n",
       "      <td>326.0</td>\n",
       "      <td>85.0</td>\n",
       "      <td>1.62</td>\n",
       "      <td>7.3</td>\n",
       "      <td>Male</td>\n",
       "      <td>134.0</td>\n",
       "      <td>385.0</td>\n",
       "      <td>22.1</td>\n",
       "      <td>6.4</td>\n",
       "      <td>30.004222</td>\n",
       "      <td>48.0</td>\n",
       "      <td>-21.370091</td>\n",
       "    </tr>\n",
       "    <tr>\n",
       "      <th>9</th>\n",
       "      <td>31.0</td>\n",
       "      <td>90.0</td>\n",
       "      <td>461.0</td>\n",
       "      <td>White</td>\n",
       "      <td>77.7</td>\n",
       "      <td>4.0</td>\n",
       "      <td>4.3</td>\n",
       "      <td>172.0</td>\n",
       "      <td>104.0</td>\n",
       "      <td>1.39</td>\n",
       "      <td>6.0</td>\n",
       "      <td>Male</td>\n",
       "      <td>130.0</td>\n",
       "      <td>436.0</td>\n",
       "      <td>23.9</td>\n",
       "      <td>9.7</td>\n",
       "      <td>29.675734</td>\n",
       "      <td>40.0</td>\n",
       "      <td>-21.154566</td>\n",
       "    </tr>\n",
       "  </tbody>\n",
       "</table>\n",
       "</div>"
      ],
      "text/plain": [
       "    Age  Diastolic BP  Poverty index  ...        BMI  Pulse pressure   survival\n",
       "0  35.0          92.0          126.0  ...  31.109434            50.0  15.274658\n",
       "1  71.0          78.0          210.0  ...  32.362572            78.0  11.586073\n",
       "2  74.0          86.0          999.0  ...  25.388497            84.0   8.149087\n",
       "3  64.0          92.0          385.0  ...  26.446610            80.0 -21.094292\n",
       "4  32.0          70.0          183.0  ...  20.354684            58.0  -0.000000\n",
       "5  40.0          78.0          297.0  ...  27.217201            40.0 -21.080594\n",
       "6  53.0          76.0          461.0  ...  23.091823            48.0 -21.072374\n",
       "7  36.0          66.0          423.0  ...  20.313169            42.0 -21.355251\n",
       "8  49.0          86.0          385.0  ...  30.004222            48.0 -21.370091\n",
       "9  31.0          90.0          461.0  ...  29.675734            40.0 -21.154566\n",
       "\n",
       "[10 rows x 19 columns]"
      ]
     },
     "execution_count": 5,
     "metadata": {
      "tags": []
     },
     "output_type": "execute_result"
    }
   ],
   "source": [
    "df.head(10)"
   ]
  },
  {
   "cell_type": "markdown",
   "metadata": {
    "colab_type": "text",
    "id": "dV8xwtaEPUi-"
   },
   "source": [
    "## Pandas `.describe()`\n",
    "The `data.describe()` function from Pandas is very powerful and easy to use. It summarizes the entire dataset, with means, medians,  quartiles, etc. Use the `include='all'` option to include numeric and categorical columns. Check the [documentation](https://pandas.pydata.org/pandas-docs/stable/reference/api/pandas.DataFrame.describe.html) for more options. \n",
    "\n",
    "I'll also show you how to save the output of these functions to disk so you can play with them later. Most of the time, all you have to do is make a Pandas `DataFrame` from the output, then use the Pandas `to_csv` function to create a file that can be read in any text editor or spreadsheet program. \n",
    "\n",
    "If you're in Colab, you can also double click on the CSV file in the \"Files\" pane on the left and it will pull it up in its internal spreadsheet viewer."
   ]
  },
  {
   "cell_type": "code",
   "execution_count": 6,
   "metadata": {
    "colab": {
     "base_uri": "https://localhost:8080/",
     "height": 427
    },
    "colab_type": "code",
    "executionInfo": {
     "elapsed": 21073,
     "status": "ok",
     "timestamp": 1561381989933,
     "user": {
      "displayName": "Beau Hilton",
      "photoUrl": "https://lh5.googleusercontent.com/-MjY82id8Sds/AAAAAAAAAAI/AAAAAAAAABE/K4BVfSOlPfE/s64/photo.jpg",
      "userId": "13815686168076873680"
     },
     "user_tz": 240
    },
    "id": "U072ItReNXfH",
    "outputId": "0dc3ebc9-4651-47cf-b956-2ace53b0908d"
   },
   "outputs": [
    {
     "data": {
      "text/html": [
       "<div>\n",
       "<style scoped>\n",
       "    .dataframe tbody tr th:only-of-type {\n",
       "        vertical-align: middle;\n",
       "    }\n",
       "\n",
       "    .dataframe tbody tr th {\n",
       "        vertical-align: top;\n",
       "    }\n",
       "\n",
       "    .dataframe thead th {\n",
       "        text-align: right;\n",
       "    }\n",
       "</style>\n",
       "<table border=\"1\" class=\"dataframe\">\n",
       "  <thead>\n",
       "    <tr style=\"text-align: right;\">\n",
       "      <th></th>\n",
       "      <th>Age</th>\n",
       "      <th>Diastolic BP</th>\n",
       "      <th>Poverty index</th>\n",
       "      <th>Race</th>\n",
       "      <th>Red blood cells</th>\n",
       "      <th>Sedimentation rate</th>\n",
       "      <th>Serum Albumin</th>\n",
       "      <th>Serum Cholesterol</th>\n",
       "      <th>Serum Iron</th>\n",
       "      <th>Serum Magnesium</th>\n",
       "      <th>Serum Protein</th>\n",
       "      <th>Sex</th>\n",
       "      <th>Systolic BP</th>\n",
       "      <th>TIBC</th>\n",
       "      <th>TS</th>\n",
       "      <th>White blood cells</th>\n",
       "      <th>BMI</th>\n",
       "      <th>Pulse pressure</th>\n",
       "      <th>survival</th>\n",
       "    </tr>\n",
       "  </thead>\n",
       "  <tbody>\n",
       "    <tr>\n",
       "      <th>count</th>\n",
       "      <td>9932.000000</td>\n",
       "      <td>9874.000000</td>\n",
       "      <td>9932.000000</td>\n",
       "      <td>9932</td>\n",
       "      <td>9932.000000</td>\n",
       "      <td>9106.000000</td>\n",
       "      <td>9932.000000</td>\n",
       "      <td>9932.000000</td>\n",
       "      <td>9932.000000</td>\n",
       "      <td>9932.000000</td>\n",
       "      <td>9932.000000</td>\n",
       "      <td>9932</td>\n",
       "      <td>9875.000000</td>\n",
       "      <td>9932.000000</td>\n",
       "      <td>9932.000000</td>\n",
       "      <td>8891.000000</td>\n",
       "      <td>9932.000000</td>\n",
       "      <td>9873.000000</td>\n",
       "      <td>9932.000000</td>\n",
       "    </tr>\n",
       "    <tr>\n",
       "      <th>unique</th>\n",
       "      <td>NaN</td>\n",
       "      <td>NaN</td>\n",
       "      <td>NaN</td>\n",
       "      <td>3</td>\n",
       "      <td>NaN</td>\n",
       "      <td>NaN</td>\n",
       "      <td>NaN</td>\n",
       "      <td>NaN</td>\n",
       "      <td>NaN</td>\n",
       "      <td>NaN</td>\n",
       "      <td>NaN</td>\n",
       "      <td>2</td>\n",
       "      <td>NaN</td>\n",
       "      <td>NaN</td>\n",
       "      <td>NaN</td>\n",
       "      <td>NaN</td>\n",
       "      <td>NaN</td>\n",
       "      <td>NaN</td>\n",
       "      <td>NaN</td>\n",
       "    </tr>\n",
       "    <tr>\n",
       "      <th>top</th>\n",
       "      <td>NaN</td>\n",
       "      <td>NaN</td>\n",
       "      <td>NaN</td>\n",
       "      <td>White</td>\n",
       "      <td>NaN</td>\n",
       "      <td>NaN</td>\n",
       "      <td>NaN</td>\n",
       "      <td>NaN</td>\n",
       "      <td>NaN</td>\n",
       "      <td>NaN</td>\n",
       "      <td>NaN</td>\n",
       "      <td>Female</td>\n",
       "      <td>NaN</td>\n",
       "      <td>NaN</td>\n",
       "      <td>NaN</td>\n",
       "      <td>NaN</td>\n",
       "      <td>NaN</td>\n",
       "      <td>NaN</td>\n",
       "      <td>NaN</td>\n",
       "    </tr>\n",
       "    <tr>\n",
       "      <th>freq</th>\n",
       "      <td>NaN</td>\n",
       "      <td>NaN</td>\n",
       "      <td>NaN</td>\n",
       "      <td>8091</td>\n",
       "      <td>NaN</td>\n",
       "      <td>NaN</td>\n",
       "      <td>NaN</td>\n",
       "      <td>NaN</td>\n",
       "      <td>NaN</td>\n",
       "      <td>NaN</td>\n",
       "      <td>NaN</td>\n",
       "      <td>6031</td>\n",
       "      <td>NaN</td>\n",
       "      <td>NaN</td>\n",
       "      <td>NaN</td>\n",
       "      <td>NaN</td>\n",
       "      <td>NaN</td>\n",
       "      <td>NaN</td>\n",
       "      <td>NaN</td>\n",
       "    </tr>\n",
       "    <tr>\n",
       "      <th>mean</th>\n",
       "      <td>49.449054</td>\n",
       "      <td>83.281953</td>\n",
       "      <td>287.213049</td>\n",
       "      <td>NaN</td>\n",
       "      <td>54.880528</td>\n",
       "      <td>16.268285</td>\n",
       "      <td>4.365103</td>\n",
       "      <td>221.234837</td>\n",
       "      <td>101.117298</td>\n",
       "      <td>1.681307</td>\n",
       "      <td>7.104068</td>\n",
       "      <td>NaN</td>\n",
       "      <td>134.854481</td>\n",
       "      <td>362.604511</td>\n",
       "      <td>28.555910</td>\n",
       "      <td>7.451760</td>\n",
       "      <td>25.689771</td>\n",
       "      <td>51.575509</td>\n",
       "      <td>-8.138465</td>\n",
       "    </tr>\n",
       "    <tr>\n",
       "      <th>std</th>\n",
       "      <td>15.878425</td>\n",
       "      <td>13.291925</td>\n",
       "      <td>223.310410</td>\n",
       "      <td>NaN</td>\n",
       "      <td>14.600767</td>\n",
       "      <td>11.511728</td>\n",
       "      <td>0.331212</td>\n",
       "      <td>49.494473</td>\n",
       "      <td>37.211666</td>\n",
       "      <td>0.145905</td>\n",
       "      <td>0.508969</td>\n",
       "      <td>NaN</td>\n",
       "      <td>24.932032</td>\n",
       "      <td>58.993649</td>\n",
       "      <td>11.232671</td>\n",
       "      <td>2.292071</td>\n",
       "      <td>5.184155</td>\n",
       "      <td>18.299075</td>\n",
       "      <td>14.848999</td>\n",
       "    </tr>\n",
       "    <tr>\n",
       "      <th>min</th>\n",
       "      <td>25.000000</td>\n",
       "      <td>25.000000</td>\n",
       "      <td>2.000000</td>\n",
       "      <td>NaN</td>\n",
       "      <td>21.400000</td>\n",
       "      <td>1.000000</td>\n",
       "      <td>2.700000</td>\n",
       "      <td>53.000000</td>\n",
       "      <td>17.000000</td>\n",
       "      <td>0.820000</td>\n",
       "      <td>4.400000</td>\n",
       "      <td>NaN</td>\n",
       "      <td>80.000000</td>\n",
       "      <td>112.000000</td>\n",
       "      <td>3.200000</td>\n",
       "      <td>2.100000</td>\n",
       "      <td>12.585333</td>\n",
       "      <td>10.000000</td>\n",
       "      <td>-22.058676</td>\n",
       "    </tr>\n",
       "    <tr>\n",
       "      <th>25%</th>\n",
       "      <td>35.000000</td>\n",
       "      <td>74.000000</td>\n",
       "      <td>130.000000</td>\n",
       "      <td>NaN</td>\n",
       "      <td>45.000000</td>\n",
       "      <td>7.000000</td>\n",
       "      <td>4.200000</td>\n",
       "      <td>187.000000</td>\n",
       "      <td>75.000000</td>\n",
       "      <td>1.590000</td>\n",
       "      <td>6.800000</td>\n",
       "      <td>NaN</td>\n",
       "      <td>118.000000</td>\n",
       "      <td>322.000000</td>\n",
       "      <td>21.000000</td>\n",
       "      <td>6.000000</td>\n",
       "      <td>22.108338</td>\n",
       "      <td>40.000000</td>\n",
       "      <td>-20.103653</td>\n",
       "    </tr>\n",
       "    <tr>\n",
       "      <th>50%</th>\n",
       "      <td>48.000000</td>\n",
       "      <td>82.000000</td>\n",
       "      <td>233.000000</td>\n",
       "      <td>NaN</td>\n",
       "      <td>48.900000</td>\n",
       "      <td>14.000000</td>\n",
       "      <td>4.400000</td>\n",
       "      <td>217.000000</td>\n",
       "      <td>96.000000</td>\n",
       "      <td>1.680000</td>\n",
       "      <td>7.100000</td>\n",
       "      <td>NaN</td>\n",
       "      <td>130.000000</td>\n",
       "      <td>356.000000</td>\n",
       "      <td>27.200000</td>\n",
       "      <td>7.200000</td>\n",
       "      <td>24.928952</td>\n",
       "      <td>48.000000</td>\n",
       "      <td>-18.710502</td>\n",
       "    </tr>\n",
       "    <tr>\n",
       "      <th>75%</th>\n",
       "      <td>66.000000</td>\n",
       "      <td>90.000000</td>\n",
       "      <td>372.000000</td>\n",
       "      <td>NaN</td>\n",
       "      <td>57.600000</td>\n",
       "      <td>22.000000</td>\n",
       "      <td>4.600000</td>\n",
       "      <td>250.000000</td>\n",
       "      <td>122.000000</td>\n",
       "      <td>1.770000</td>\n",
       "      <td>7.400000</td>\n",
       "      <td>NaN</td>\n",
       "      <td>150.000000</td>\n",
       "      <td>396.000000</td>\n",
       "      <td>34.600000</td>\n",
       "      <td>8.600000</td>\n",
       "      <td>28.369043</td>\n",
       "      <td>60.000000</td>\n",
       "      <td>7.006450</td>\n",
       "    </tr>\n",
       "    <tr>\n",
       "      <th>max</th>\n",
       "      <td>74.000000</td>\n",
       "      <td>180.000000</td>\n",
       "      <td>999.000000</td>\n",
       "      <td>NaN</td>\n",
       "      <td>88.800000</td>\n",
       "      <td>72.000000</td>\n",
       "      <td>5.700000</td>\n",
       "      <td>793.000000</td>\n",
       "      <td>396.000000</td>\n",
       "      <td>2.890000</td>\n",
       "      <td>11.500000</td>\n",
       "      <td>NaN</td>\n",
       "      <td>270.000000</td>\n",
       "      <td>717.000000</td>\n",
       "      <td>100.000000</td>\n",
       "      <td>56.000000</td>\n",
       "      <td>72.218113</td>\n",
       "      <td>170.000000</td>\n",
       "      <td>21.471461</td>\n",
       "    </tr>\n",
       "  </tbody>\n",
       "</table>\n",
       "</div>"
      ],
      "text/plain": [
       "                Age  Diastolic BP  ...  Pulse pressure     survival\n",
       "count   9932.000000   9874.000000  ...     9873.000000  9932.000000\n",
       "unique          NaN           NaN  ...             NaN          NaN\n",
       "top             NaN           NaN  ...             NaN          NaN\n",
       "freq            NaN           NaN  ...             NaN          NaN\n",
       "mean      49.449054     83.281953  ...       51.575509    -8.138465\n",
       "std       15.878425     13.291925  ...       18.299075    14.848999\n",
       "min       25.000000     25.000000  ...       10.000000   -22.058676\n",
       "25%       35.000000     74.000000  ...       40.000000   -20.103653\n",
       "50%       48.000000     82.000000  ...       48.000000   -18.710502\n",
       "75%       66.000000     90.000000  ...       60.000000     7.006450\n",
       "max       74.000000    180.000000  ...      170.000000    21.471461\n",
       "\n",
       "[11 rows x 19 columns]"
      ]
     },
     "execution_count": 6,
     "metadata": {
      "tags": []
     },
     "output_type": "execute_result"
    }
   ],
   "source": [
    "# first make some directories to keep things clean\n",
    "\n",
    "# top level directory, where we'll put everything\n",
    "!mkdir -p exploratory_data_analysis\n",
    "\n",
    "# move into that directory\n",
    "os.chdir(\"exploratory_data_analysis\")\n",
    "\n",
    "# now make a directory for the summary files\n",
    "!mkdir -p data_summaries\n",
    "\n",
    "# and finally call `df.describe`\n",
    "data_describe = pd.DataFrame(df.describe(include='all'))\n",
    "data_describe.to_csv(\"data_summaries/data_describe.csv\")\n",
    "\n",
    "# If you are using Google Colab, \n",
    "# click the `>` on the left to expand the panel (if it's not already expanded), \n",
    "# then click on \"Files\" to see that you have the new folders and the .csv file, \n",
    "# which you can right click to download or double click to view.\n",
    "\n",
    "# We'll call the function again just so we can see it in-line\n",
    "df.describe(include='all')"
   ]
  },
  {
   "cell_type": "markdown",
   "metadata": {
    "colab_type": "text",
    "id": "Y8haM_Ly0yT3"
   },
   "source": [
    "## Pandas_summary\n",
    "Pandas_summary is a nice package that extends Pandas' `df.describe()` method, sometimes overwhelmingly.\n",
    "\n",
    "Here's their [GitHub page](https://github.com/mouradmourafiq/pandas-summary), which has examples and instructions."
   ]
  },
  {
   "cell_type": "code",
   "execution_count": 7,
   "metadata": {
    "colab": {
     "base_uri": "https://localhost:8080/",
     "height": 0
    },
    "colab_type": "code",
    "executionInfo": {
     "elapsed": 21150,
     "status": "ok",
     "timestamp": 1561381990019,
     "user": {
      "displayName": "Beau Hilton",
      "photoUrl": "https://lh5.googleusercontent.com/-MjY82id8Sds/AAAAAAAAAAI/AAAAAAAAABE/K4BVfSOlPfE/s64/photo.jpg",
      "userId": "13815686168076873680"
     },
     "user_tz": 240
    },
    "id": "7xtXertWvhf-",
    "outputId": "eebb18cc-3823-43b2-d375-8159a0edc64d"
   },
   "outputs": [
    {
     "data": {
      "text/html": [
       "<div>\n",
       "<style scoped>\n",
       "    .dataframe tbody tr th:only-of-type {\n",
       "        vertical-align: middle;\n",
       "    }\n",
       "\n",
       "    .dataframe tbody tr th {\n",
       "        vertical-align: top;\n",
       "    }\n",
       "\n",
       "    .dataframe thead th {\n",
       "        text-align: right;\n",
       "    }\n",
       "</style>\n",
       "<table border=\"1\" class=\"dataframe\">\n",
       "  <thead>\n",
       "    <tr style=\"text-align: right;\">\n",
       "      <th></th>\n",
       "      <th>Age</th>\n",
       "      <th>Diastolic BP</th>\n",
       "      <th>Poverty index</th>\n",
       "      <th>Race</th>\n",
       "      <th>Red blood cells</th>\n",
       "      <th>Sedimentation rate</th>\n",
       "      <th>Serum Albumin</th>\n",
       "      <th>Serum Cholesterol</th>\n",
       "      <th>Serum Iron</th>\n",
       "      <th>Serum Magnesium</th>\n",
       "      <th>Serum Protein</th>\n",
       "      <th>Sex</th>\n",
       "      <th>Systolic BP</th>\n",
       "      <th>TIBC</th>\n",
       "      <th>TS</th>\n",
       "      <th>White blood cells</th>\n",
       "      <th>BMI</th>\n",
       "      <th>Pulse pressure</th>\n",
       "      <th>survival</th>\n",
       "    </tr>\n",
       "  </thead>\n",
       "  <tbody>\n",
       "    <tr>\n",
       "      <th>counts</th>\n",
       "      <td>9932</td>\n",
       "      <td>9874</td>\n",
       "      <td>9932</td>\n",
       "      <td>9932</td>\n",
       "      <td>9932</td>\n",
       "      <td>9106</td>\n",
       "      <td>9932</td>\n",
       "      <td>9932</td>\n",
       "      <td>9932</td>\n",
       "      <td>9932</td>\n",
       "      <td>9932</td>\n",
       "      <td>9932</td>\n",
       "      <td>9875</td>\n",
       "      <td>9932</td>\n",
       "      <td>9932</td>\n",
       "      <td>8891</td>\n",
       "      <td>9932</td>\n",
       "      <td>9873</td>\n",
       "      <td>9932</td>\n",
       "    </tr>\n",
       "    <tr>\n",
       "      <th>uniques</th>\n",
       "      <td>50</td>\n",
       "      <td>77</td>\n",
       "      <td>497</td>\n",
       "      <td>3</td>\n",
       "      <td>308</td>\n",
       "      <td>65</td>\n",
       "      <td>31</td>\n",
       "      <td>396</td>\n",
       "      <td>251</td>\n",
       "      <td>134</td>\n",
       "      <td>53</td>\n",
       "      <td>2</td>\n",
       "      <td>103</td>\n",
       "      <td>390</td>\n",
       "      <td>649</td>\n",
       "      <td>157</td>\n",
       "      <td>8986</td>\n",
       "      <td>108</td>\n",
       "      <td>6339</td>\n",
       "    </tr>\n",
       "    <tr>\n",
       "      <th>missing</th>\n",
       "      <td>0</td>\n",
       "      <td>58</td>\n",
       "      <td>0</td>\n",
       "      <td>0</td>\n",
       "      <td>0</td>\n",
       "      <td>826</td>\n",
       "      <td>0</td>\n",
       "      <td>0</td>\n",
       "      <td>0</td>\n",
       "      <td>0</td>\n",
       "      <td>0</td>\n",
       "      <td>0</td>\n",
       "      <td>57</td>\n",
       "      <td>0</td>\n",
       "      <td>0</td>\n",
       "      <td>1041</td>\n",
       "      <td>0</td>\n",
       "      <td>59</td>\n",
       "      <td>0</td>\n",
       "    </tr>\n",
       "    <tr>\n",
       "      <th>missing_perc</th>\n",
       "      <td>0%</td>\n",
       "      <td>0.58%</td>\n",
       "      <td>0%</td>\n",
       "      <td>0%</td>\n",
       "      <td>0%</td>\n",
       "      <td>8.32%</td>\n",
       "      <td>0%</td>\n",
       "      <td>0%</td>\n",
       "      <td>0%</td>\n",
       "      <td>0%</td>\n",
       "      <td>0%</td>\n",
       "      <td>0%</td>\n",
       "      <td>0.57%</td>\n",
       "      <td>0%</td>\n",
       "      <td>0%</td>\n",
       "      <td>10.48%</td>\n",
       "      <td>0%</td>\n",
       "      <td>0.59%</td>\n",
       "      <td>0%</td>\n",
       "    </tr>\n",
       "    <tr>\n",
       "      <th>types</th>\n",
       "      <td>numeric</td>\n",
       "      <td>numeric</td>\n",
       "      <td>numeric</td>\n",
       "      <td>categorical</td>\n",
       "      <td>numeric</td>\n",
       "      <td>numeric</td>\n",
       "      <td>numeric</td>\n",
       "      <td>numeric</td>\n",
       "      <td>numeric</td>\n",
       "      <td>numeric</td>\n",
       "      <td>numeric</td>\n",
       "      <td>bool</td>\n",
       "      <td>numeric</td>\n",
       "      <td>numeric</td>\n",
       "      <td>numeric</td>\n",
       "      <td>numeric</td>\n",
       "      <td>numeric</td>\n",
       "      <td>numeric</td>\n",
       "      <td>numeric</td>\n",
       "    </tr>\n",
       "  </tbody>\n",
       "</table>\n",
       "</div>"
      ],
      "text/plain": [
       "                  Age Diastolic BP  ... Pulse pressure survival\n",
       "counts           9932         9874  ...           9873     9932\n",
       "uniques            50           77  ...            108     6339\n",
       "missing             0           58  ...             59        0\n",
       "missing_perc       0%        0.58%  ...          0.59%       0%\n",
       "types         numeric      numeric  ...        numeric  numeric\n",
       "\n",
       "[5 rows x 19 columns]"
      ]
     },
     "execution_count": 7,
     "metadata": {
      "tags": []
     },
     "output_type": "execute_result"
    }
   ],
   "source": [
    "from pandas_summary import DataFrameSummary\n",
    "\n",
    "# first we initialize the DataFrameSummary\n",
    "dfs = DataFrameSummary(df)\n",
    "\n",
    "# `columns_stats` gives some useful data for each column, \n",
    "# saving you some function calls to find out, for example,\n",
    "# how many unique values you have in each variable,\n",
    "# how much is missing, or what kind of data each column contains\n",
    "columns_stats = pd.DataFrame(dfs.columns_stats)\n",
    "columns_stats.to_csv(\"data_summaries/data_summary.csv\")\n",
    "columns_stats.head(10)"
   ]
  },
  {
   "cell_type": "code",
   "execution_count": 8,
   "metadata": {
    "colab": {
     "base_uri": "https://localhost:8080/",
     "height": 0
    },
    "colab_type": "code",
    "executionInfo": {
     "elapsed": 22277,
     "status": "ok",
     "timestamp": 1561381991154,
     "user": {
      "displayName": "Beau Hilton",
      "photoUrl": "https://lh5.googleusercontent.com/-MjY82id8Sds/AAAAAAAAAAI/AAAAAAAAABE/K4BVfSOlPfE/s64/photo.jpg",
      "userId": "13815686168076873680"
     },
     "user_tz": 240
    },
    "id": "mn4xNcXLNWE3",
    "outputId": "f69e3912-94bb-4a21-9e6f-9151ea955182"
   },
   "outputs": [
    {
     "data": {
      "text/html": [
       "<div>\n",
       "<style scoped>\n",
       "    .dataframe tbody tr th:only-of-type {\n",
       "        vertical-align: middle;\n",
       "    }\n",
       "\n",
       "    .dataframe tbody tr th {\n",
       "        vertical-align: top;\n",
       "    }\n",
       "\n",
       "    .dataframe thead th {\n",
       "        text-align: right;\n",
       "    }\n",
       "</style>\n",
       "<table border=\"1\" class=\"dataframe\">\n",
       "  <thead>\n",
       "    <tr style=\"text-align: right;\">\n",
       "      <th></th>\n",
       "      <th>Age</th>\n",
       "      <th>Diastolic BP</th>\n",
       "      <th>Poverty index</th>\n",
       "      <th>Race</th>\n",
       "      <th>Red blood cells</th>\n",
       "      <th>Sedimentation rate</th>\n",
       "      <th>Serum Albumin</th>\n",
       "      <th>Serum Cholesterol</th>\n",
       "      <th>Serum Iron</th>\n",
       "      <th>Serum Magnesium</th>\n",
       "      <th>Serum Protein</th>\n",
       "      <th>Sex</th>\n",
       "      <th>Systolic BP</th>\n",
       "      <th>TIBC</th>\n",
       "      <th>TS</th>\n",
       "      <th>White blood cells</th>\n",
       "      <th>BMI</th>\n",
       "      <th>Pulse pressure</th>\n",
       "      <th>survival</th>\n",
       "    </tr>\n",
       "  </thead>\n",
       "  <tbody>\n",
       "    <tr>\n",
       "      <th>mean</th>\n",
       "      <td>49.4491</td>\n",
       "      <td>83.282</td>\n",
       "      <td>287.213</td>\n",
       "      <td>NaN</td>\n",
       "      <td>54.8805</td>\n",
       "      <td>16.2683</td>\n",
       "      <td>4.3651</td>\n",
       "      <td>221.235</td>\n",
       "      <td>101.117</td>\n",
       "      <td>1.68131</td>\n",
       "      <td>7.10407</td>\n",
       "      <td>NaN</td>\n",
       "      <td>134.854</td>\n",
       "      <td>362.605</td>\n",
       "      <td>28.5559</td>\n",
       "      <td>7.45176</td>\n",
       "      <td>25.6898</td>\n",
       "      <td>51.5755</td>\n",
       "      <td>-8.13846</td>\n",
       "    </tr>\n",
       "    <tr>\n",
       "      <th>std</th>\n",
       "      <td>15.8784</td>\n",
       "      <td>13.2919</td>\n",
       "      <td>223.31</td>\n",
       "      <td>NaN</td>\n",
       "      <td>14.6008</td>\n",
       "      <td>11.5117</td>\n",
       "      <td>0.331212</td>\n",
       "      <td>49.4945</td>\n",
       "      <td>37.2117</td>\n",
       "      <td>0.145905</td>\n",
       "      <td>0.508969</td>\n",
       "      <td>NaN</td>\n",
       "      <td>24.932</td>\n",
       "      <td>58.9936</td>\n",
       "      <td>11.2327</td>\n",
       "      <td>2.29207</td>\n",
       "      <td>5.18416</td>\n",
       "      <td>18.2991</td>\n",
       "      <td>14.849</td>\n",
       "    </tr>\n",
       "    <tr>\n",
       "      <th>variance</th>\n",
       "      <td>252.124</td>\n",
       "      <td>176.675</td>\n",
       "      <td>49867.5</td>\n",
       "      <td>NaN</td>\n",
       "      <td>213.182</td>\n",
       "      <td>132.52</td>\n",
       "      <td>0.109701</td>\n",
       "      <td>2449.7</td>\n",
       "      <td>1384.71</td>\n",
       "      <td>0.0212882</td>\n",
       "      <td>0.259049</td>\n",
       "      <td>NaN</td>\n",
       "      <td>621.606</td>\n",
       "      <td>3480.25</td>\n",
       "      <td>126.173</td>\n",
       "      <td>5.25359</td>\n",
       "      <td>26.8755</td>\n",
       "      <td>334.856</td>\n",
       "      <td>220.493</td>\n",
       "    </tr>\n",
       "    <tr>\n",
       "      <th>min</th>\n",
       "      <td>25</td>\n",
       "      <td>25</td>\n",
       "      <td>2</td>\n",
       "      <td>NaN</td>\n",
       "      <td>21.4</td>\n",
       "      <td>1</td>\n",
       "      <td>2.7</td>\n",
       "      <td>53</td>\n",
       "      <td>17</td>\n",
       "      <td>0.82</td>\n",
       "      <td>4.4</td>\n",
       "      <td>NaN</td>\n",
       "      <td>80</td>\n",
       "      <td>112</td>\n",
       "      <td>3.2</td>\n",
       "      <td>2.1</td>\n",
       "      <td>12.5853</td>\n",
       "      <td>10</td>\n",
       "      <td>-22.0587</td>\n",
       "    </tr>\n",
       "    <tr>\n",
       "      <th>max</th>\n",
       "      <td>74</td>\n",
       "      <td>180</td>\n",
       "      <td>999</td>\n",
       "      <td>NaN</td>\n",
       "      <td>88.8</td>\n",
       "      <td>72</td>\n",
       "      <td>5.7</td>\n",
       "      <td>793</td>\n",
       "      <td>396</td>\n",
       "      <td>2.89</td>\n",
       "      <td>11.5</td>\n",
       "      <td>NaN</td>\n",
       "      <td>270</td>\n",
       "      <td>717</td>\n",
       "      <td>100</td>\n",
       "      <td>56</td>\n",
       "      <td>72.2181</td>\n",
       "      <td>170</td>\n",
       "      <td>21.4715</td>\n",
       "    </tr>\n",
       "  </tbody>\n",
       "</table>\n",
       "</div>"
      ],
      "text/plain": [
       "              Age Diastolic BP Poverty index  ...      BMI Pulse pressure survival\n",
       "mean      49.4491       83.282       287.213  ...  25.6898        51.5755 -8.13846\n",
       "std       15.8784      13.2919        223.31  ...  5.18416        18.2991   14.849\n",
       "variance  252.124      176.675       49867.5  ...  26.8755        334.856  220.493\n",
       "min            25           25             2  ...  12.5853             10 -22.0587\n",
       "max            74          180           999  ...  72.2181            170  21.4715\n",
       "\n",
       "[5 rows x 19 columns]"
      ]
     },
     "execution_count": 8,
     "metadata": {
      "tags": []
     },
     "output_type": "execute_result"
    },
    {
     "data": {
      "image/png": "[encoded data removed]",
      "text/plain": [
       "<Figure size 432x288 with 1 Axes>"
      ]
     },
     "metadata": {
      "tags": []
     },
     "output_type": "display_data"
    }
   ],
   "source": [
    "# this function gives a TON of data.\n",
    "# We'll make a new dataframe, shove all the data into it,\n",
    "# and save it to disk.\n",
    "data_summary = pd.DataFrame()\n",
    "\n",
    "for col in list(df):\n",
    "  data_summary[col] = dfs[col]\n",
    "\n",
    "data_summary.to_csv(\"data_summaries/data_summary_extended.csv\")\n",
    "# change 5 to some big number like 100 to see all of the output.\n",
    "data_summary.head(5)\n",
    "# It also automatically plots histograms, \n",
    "# which aren't super useful when I generate them this way \n",
    "# because there are many overlapping figures and they aren't labeled."
   ]
  },
  {
   "cell_type": "markdown",
   "metadata": {
    "colab_type": "text",
    "id": "xFaW4KriONA5"
   },
   "source": [
    "## Table One\n",
    "\n",
    "In most biomedical research papers, the first table describes the cohort under consideration. The main idea is to allow the reader to quickly grasp the key features of the cohort and allow for easy comparison of any significant subgroups within the data. One common use is to compare two cohorts in a randomized study, to see if the groups are more dissimilar than one would expect based on chance (though the utility of this approach is debated!).\n",
    "\n",
    "Making Table One can be a bit of a beast. It can include a lot of data and a lot of math, which would be tiresome and error-prone to do by hand. The Python package TableOne automates the process, allows for several versions of the output, and give you enough control to make your statistician happy. [See their website](https://pypi.org/project/tableone/) for more documentation, examples, and an academic paper they wrote explaining the package and its uses.\n",
    "\n",
    "I should also note that this packge will get you >90% of the way there. Final tweaks to formatting will have to be done using Pandas, Excel, or whatever you like for that kind of thing.\n",
    "\n",
    "This dataset does not have treatment groups. However, we can get the basic idea of how the function works by grouping the cohort by any available categorical variable. Using the TableOne package this way is also an easy (and, dare I say, fun) way to explore your data and find relationships you may not have otherwise noticed."
   ]
  },
  {
   "cell_type": "markdown",
   "metadata": {
    "colab_type": "text",
    "id": "llqBEqHNQRbi"
   },
   "source": [
    " ### Explore the options\n",
    " With a package like this, I like to list out all of the possible options first. This helps me decide how to structure the data for input, and also reveals the possibilities of the output.\n",
    "\n",
    "You should also note that you can skip most of this and try the defaults with something like:\n",
    "\n",
    "```python\n",
    "mytable = TableOne(df)\n",
    "print(mytable)\n",
    "```"
   ]
  },
  {
   "cell_type": "markdown",
   "metadata": {
    "colab_type": "text",
    "id": "AXjhlSsjPubH"
   },
   "source": [
    "```python\n",
    "    mytable = TableOne(\n",
    "        data, # the data we will pass in\n",
    "        groupby=groupby, # if we want to stratify the table (say, by tx group)\n",
    "        columns=columns, # which variables of `data` do we want to analyze?\n",
    "        # if we want all of them, leave `columns` blank\n",
    "        categorical=categorical, # which variables are categorical?\n",
    "        nonnormal=nonnormal, # which variables are non-normally distributed?\n",
    "        labels=labels, # do we want to give new names to the variables?\n",
    "        label_suffix=True, # Add suffix to label (e.g. \"mean (SD); median [Q1,Q3], n (%)\")\n",
    "        decimals=decimals, # how many decimal places do we want to report for each variable?\n",
    "        isnull=False, # do we want to print how many values are missing of a given variable?\n",
    "        pval=False, # do we want to print p-values?,\n",
    "        pval_adjust='None' # do we want to adjust p-values for multiple testing? If so, how?\n",
    "        ddof=1, # how many degrees of freedom for standard deviation calculations?\n",
    "        sort=False, # do we want to sort the columns alphabetically, or by our own order?\n",
    "        limit=100, # do we want to limit the report to the top N most frequent categories?\n",
    "        remarks=True, # do we want TableOne to tell us about our stats and any problems?\n",
    "    )\n",
    "```"
   ]
  },
  {
   "cell_type": "markdown",
   "metadata": {
    "colab_type": "text",
    "id": "HZPWtIKMg8Pp"
   },
   "source": [
    "### Make it so\n",
    "Now that we know all of the options, let's set up the input.\n",
    "\n",
    "We will define columns, groupbys, categorical variables, \n",
    "nonnormal variables, labels, and the desired number of decimal places."
   ]
  },
  {
   "cell_type": "code",
   "execution_count": 9,
   "metadata": {
    "colab": {
     "base_uri": "https://localhost:8080/",
     "height": 51
    },
    "colab_type": "code",
    "executionInfo": {
     "elapsed": 22486,
     "status": "ok",
     "timestamp": 1561381991375,
     "user": {
      "displayName": "Beau Hilton",
      "photoUrl": "https://lh5.googleusercontent.com/-MjY82id8Sds/AAAAAAAAAAI/AAAAAAAAABE/K4BVfSOlPfE/s64/photo.jpg",
      "userId": "13815686168076873680"
     },
     "user_tz": 240
    },
    "id": "COWf2IUWStZf",
    "outputId": "c90ddba0-82c7-4b81-f301-bc7712a3ee6b"
   },
   "outputs": [
    {
     "name": "stdout",
     "output_type": "stream",
     "text": [
      "\n",
      "\n"
     ]
    }
   ],
   "source": [
    "############################# columns ##########################################\n",
    "# Make a master list of columns to convert into TableOne\n",
    "# Select all of the available columns:\n",
    "columns = list(df)\n",
    "# Or pick by hand:\n",
    "# columns = [\"Age\",\"Race\",\"Sex\", \"TIBC\", \"TS\"]\n",
    "# The order you put these in will determine the order in the final table\n",
    "\n",
    "\n",
    "\n",
    "############################# groupby ##########################################\n",
    "# I'm going to show you a trick with the \"groupby\" argument\n",
    "# to allow you to loop over all possible groupings of categorical variables\n",
    "# and make a table for each.\n",
    "# Set it up here as plural, `groupbys`,\n",
    "# and let pandas find all the categorical columns:\n",
    "groupbys = list(df.select_dtypes(include='category'))\n",
    "# make sure you are only selecting columns that exist\n",
    "# in your master list\n",
    "groupbys = list(set(groupbys) & set(columns))\n",
    "# print(groupbys)\n",
    "# Or pick by hand\n",
    "# groupby = [\"Sex\"]\n",
    "\n",
    "\n",
    "\n",
    "############################# categories #######################################\n",
    "# Notice that this code is the exact same as above\n",
    "categorical = list(df.select_dtypes(include='category'))\n",
    "categorical = list(set(categorical) & set(columns))\n",
    "# You can also select the categorical columns by hand,\n",
    "# categorical = [\"Sex\", \"Race\"]\n",
    "\n",
    "\n",
    "\n",
    "\n",
    "############################# normality ########################################\n",
    "# TableOne will perform D’Agostino’s K^2 test to check for normality\n",
    "# and let you know which columns it thinks you should look at again.\n",
    "# We can use the same idea to automatically select nonnormal columns beforehand,\n",
    "# or you can define a list yourself, e.g.: nonnormal = [\"Age\", \"Diastolic BP\"]\n",
    "# You could use a similar setup to test for normality for each variable\n",
    "# using whatever statistical tool you want - \n",
    "# see https://machinelearningmastery.com/a-gentle-introduction-to-normality-tests-in-python/\n",
    "# for a nice overview of several built-in options\n",
    "\n",
    "from scipy import stats\n",
    "# start an empty list\n",
    "nonnormal = []\n",
    "# using standard alpha of 0.05 - change to whatever you like\n",
    "alpha = 0.05\n",
    "\n",
    "for x in list(df):\n",
    "  try:\n",
    "    stat,p = stats.normaltest(df[x].values, nan_policy='omit') # omit missing\n",
    "    \n",
    "    if p > alpha:\n",
    "        # uncomment out these print statements for more verbose output\n",
    "#       print(f\"{x} appears to fit a Gaussian distribution\")\n",
    "#       print(f\"p={p} \\n\")\n",
    "      print(\"\")\n",
    "      \n",
    "    else:\n",
    "      nonnormal.append(x)\n",
    "#       print(f\"{x} appears to be non-normally distributed\")\n",
    "#       print(f\"p={p} \\n\")\n",
    "      \n",
    "  except:\n",
    "#     print(f\"Could not determine normality for {x} \\n\")\n",
    "    print(\"\")\n",
    "\n",
    "# finally, make sure the nonnormal list only includes\n",
    "# columns that you chose in \"columns\"\n",
    "nonnormal = list(set(nonnormal) & set(columns))\n",
    "# if you'd like, print out the new list of nonnormal items:\n",
    "# print(nonnormal)\n",
    "\n",
    "\n",
    "\n",
    "############################# labels ###########################################\n",
    "# Labels is a dictionary, with the old variable name on the left\n",
    "# and the one you want printed on the right.\n",
    "# If you want to leave them alone, leave it blank:\n",
    "# labels = {}\n",
    "# Otherwise, provide a dictionary:\n",
    "labels = {\"TIBC\": \"Total Iron Binding Capacity\", \"TS\": \"Transferrin Saturation\"}\n",
    "\n",
    "\n",
    "\n",
    "############################# decimal places ###################################\n",
    "# If you want to use the default, leave this empty:\n",
    "# decimals = {}\n",
    "# Otherwise, provide a dictionary:\n",
    "decimals = {\"Age\": 0, 'Sedimentation rate': 0, 'Diastolic BP': 0}"
   ]
  },
  {
   "cell_type": "code",
   "execution_count": 23,
   "metadata": {
    "colab": {
     "base_uri": "https://localhost:8080/",
     "height": 547
    },
    "colab_type": "code",
    "executionInfo": {
     "elapsed": 4128,
     "status": "ok",
     "timestamp": 1561382578017,
     "user": {
      "displayName": "Beau Hilton",
      "photoUrl": "https://lh5.googleusercontent.com/-MjY82id8Sds/AAAAAAAAAAI/AAAAAAAAABE/K4BVfSOlPfE/s64/photo.jpg",
      "userId": "13815686168076873680"
     },
     "user_tz": 240
    },
    "id": "XTb4I3WgPL2r",
    "outputId": "ae644f0f-b323-483e-d552-61eb7c94e282"
   },
   "outputs": [
    {
     "name": "stdout",
     "output_type": "stream",
     "text": [
      "                                                                   Grouped by Sex                     \n",
      "                                                                           Female                 Male\n",
      "variable                                    level                                                     \n",
      "n                                                                            6031                 3901\n",
      "Age, median [Q1,Q3]                                                    44 [33,65]           54 [39,67]\n",
      "Diastolic BP, median [Q1,Q3]                                           80 [72,90]           84 [78,92]\n",
      "Poverty index, median [Q1,Q3]                                 219.0 [124.0,351.0]  248.0 [143.0,385.0]\n",
      "Race, n (%)                                 African_American          1094 (18.1)           641 (16.4)\n",
      "                                            Other                        56 (0.9)             50 (1.3)\n",
      "                                            White                     4881 (80.9)          3210 (82.3)\n",
      "Red blood cells, median [Q1,Q3]                                  46.9 [43.7,53.7]     51.9 [48.0,59.5]\n",
      "Sedimentation rate, median [Q1,Q3]                                     17 [10,25]             9 [5,17]\n",
      "Serum Albumin, median [Q1,Q3]                                       4.3 [4.1,4.5]        4.4 [4.2,4.6]\n",
      "Serum Cholesterol, median [Q1,Q3]                             217.0 [185.0,252.0]  217.0 [189.0,248.0]\n",
      "Serum Iron, median [Q1,Q3]                                      94.0 [72.0,118.0]   102.0 [81.0,126.0]\n",
      "Serum Magnesium, median [Q1,Q3]                                     1.7 [1.6,1.8]        1.7 [1.6,1.8]\n",
      "Serum Protein, median [Q1,Q3]                                       7.1 [6.8,7.4]        7.1 [6.8,7.4]\n",
      "Sex, n (%)                                  Female                   6031 (100.0)                     \n",
      "                                            Male                                          3901 (100.0)\n",
      "Systolic BP, median [Q1,Q3]                                   128.0 [114.0,148.0]  134.0 [120.0,150.0]\n",
      "Total Iron Binding Capacity, median [Q1,Q3]                   363.0 [327.0,406.0]  346.0 [315.0,380.0]\n",
      "Transferrin Saturation, median [Q1,Q3]                           25.9 [19.7,32.9]     29.3 [22.9,36.8]\n",
      "White blood cells, median [Q1,Q3]                                   7.1 [5.9,8.5]        7.3 [6.0,8.7]\n",
      "BMI, median [Q1,Q3]                                              24.5 [21.7,28.7]     25.5 [22.8,27.9]\n",
      "Pulse pressure, median [Q1,Q3]                                   48.0 [38.0,60.0]     50.0 [40.0,60.0]\n",
      "survival, median [Q1,Q3]                                        -19.0 [-20.2,2.4]      0.0 [-19.9,9.7]\n",
      "[1] Warning, Hartigan's Dip Test reports possible multimodal distributions for: Age, Diastolic BP, Poverty index, Pulse pressure, Red blood cells, Sedimentation rate, Serum Albumin, Serum Cholesterol, Serum Iron, Serum Magnesium, Serum Protein, Systolic BP, TIBC, White blood cells, survival.\n",
      "[2] Warning, Tukey test indicates far outliers in: BMI, Diastolic BP, Pulse pressure, Red blood cells, Sedimentation rate, Serum Albumin, Serum Cholesterol, Serum Iron, Serum Magnesium, Serum Protein, Systolic BP, TIBC, TS, White blood cells.\n",
      "[3] Warning, test for normality reports non-normal distributions for: Age, BMI, Diastolic BP, Poverty index, Pulse pressure, Red blood cells, Sedimentation rate, Serum Albumin, Serum Cholesterol, Serum Iron, Serum Magnesium, Serum Protein, Systolic BP, TIBC, TS, White blood cells, survival.\n",
      "\n"
     ]
    }
   ],
   "source": [
    "# Here's some secret sauce for exploratory data analysis:\n",
    "# make a loop to output a new TableOne for every category\n",
    "\n",
    "!mkdir -p tables_one\n",
    "\n",
    "for groupby in groupbys:\n",
    "  \n",
    "  mytable = TableOne(\n",
    "      df, # the data we will pass in\n",
    "      groupby=groupby, # if we want to stratify the table (say, by tx group)\n",
    "      columns=columns, # which variables of `data` do we want to analyze?\n",
    "      # if we want all of them, leave `columns` blank\n",
    "      categorical=categorical, # which variables are categorical?\n",
    "      nonnormal=nonnormal, # which variables are non-normally distributed?\n",
    "      labels=labels, # do we want to give new names to the variables?\n",
    "      label_suffix=True, # Add suffix to label (e.g. \"mean (SD); median [Q1,Q3], n (%)\")\n",
    "      decimals=decimals, # how many decimal places do we want to report for each variable?\n",
    "      isnull=False, # do we want to print how many values are missing of a given variable?\n",
    "#       pval=True, # do we want to print p-values?,\n",
    "#       pval_adjust='bonferroni', # do we want to adjust p-values for multiple testing? If so, how?\n",
    "#       ddof=1, # how many degrees of freedom for standard deviation calculations?\n",
    "#       sort=False, # do we want to sort the columns alphabetically, or by our own order?\n",
    "#       limit=5, # do we want to limit the report to the top N most frequent categories?\n",
    "      remarks=True, # do we want TableOne to tell us about our stats and any problems?\n",
    "  )\n",
    "  \n",
    "  # take a look\n",
    "#   print(mytable)\n",
    "  \n",
    "\n",
    "  # Save table to LaTeX (for the nerds), HTML (for easy viewing), and CSV (for easy export)\n",
    "  mytable.to_latex(f'tables_one/tableone_{groupby}.tex')\n",
    "  mytable.to_html(f'tables_one/tableone_{groupby}.html')\n",
    "  mytable.to_csv(f'tables_one/tableone_{groupby}.csv')\n",
    "\n",
    "  \n",
    "  # make a non-grouped version:\n",
    "nongrouped = TableOne(\n",
    "     df, # the data we will pass in\n",
    "#      groupby=groupby, # if we want to stratify the table (say, by tx group)\n",
    "     columns=columns, # which variables of `data` do we want to analyze?\n",
    "     # if we want all of them, leave `columns` blank\n",
    "     categorical=categorical, # which variables are categorical?\n",
    "     nonnormal=nonnormal, # which variables are non-normally distributed?\n",
    "     labels=labels, # do we want to give new names to the variables?\n",
    "     label_suffix=True, # Add suffix to label (e.g. \"mean (SD); median [Q1,Q3], n (%)\")\n",
    "     decimals=decimals, # how many decimal places do we want to report for each variable?\n",
    "     isnull=False, # do we want to print how many values are missing of a given variable?\n",
    "#      pval=True, # do we want to print p-values?,\n",
    "#      pval_adjust='bonferroni', # do we want to adjust p-values for multiple testing? If so, how?\n",
    "#      ddof=1, # how many degrees of freedom for standard deviation calculations?\n",
    "#      sort=False, # do we want to sort the columns alphabetically, or by our own order?\n",
    "#      limit=5, # do we want to limit the report to the top N most frequent categories?\n",
    "     remarks=True, # do we want TableOne to tell us about our stats and any problems?\n",
    " )\n",
    "  \n",
    "nongrouped.to_latex(f'tables_one/tableone_nongroupby.tex')\n",
    "nongrouped.to_html(f'tables_one/tableone_nongroupby.html')\n",
    "nongrouped.to_csv(f'tables_one/tableone_nongroupby.csv')\n",
    "# print(nongrouped)\n",
    "\n",
    "# mytable = pd.DataFrame(mytable)\n",
    "# mytable[\"Overall\"] = nongrouped[\"overall\"]\n",
    "print(mytable)"
   ]
  },
  {
   "cell_type": "code",
   "execution_count": 32,
   "metadata": {
    "colab": {
     "base_uri": "https://localhost:8080/",
     "height": 119
    },
    "colab_type": "code",
    "executionInfo": {
     "elapsed": 7917,
     "status": "ok",
     "timestamp": 1561383302408,
     "user": {
      "displayName": "Beau Hilton",
      "photoUrl": "https://lh5.googleusercontent.com/-MjY82id8Sds/AAAAAAAAAAI/AAAAAAAAABE/K4BVfSOlPfE/s64/photo.jpg",
      "userId": "13815686168076873680"
     },
     "user_tz": 240
    },
    "id": "UZJcCRiZqKYX",
    "outputId": "006cfa7a-feb1-4584-a5a5-e9d59d7e663e"
   },
   "outputs": [
    {
     "name": "stdout",
     "output_type": "stream",
     "text": [
      "\n",
      "\n",
      "Could not make modality plot for Race \n",
      "\n",
      "Could not make modality plot for Sex \n",
      "\n"
     ]
    }
   ],
   "source": [
    "# Pull out and plot possibly multimodal values\n",
    "\n",
    "multimodal = []\n",
    "# using standard alpha of 0.05 - change to whatever you like\n",
    "alpha = 0.05\n",
    "\n",
    "for x in list(df):\n",
    "  try:\n",
    "    p = modality.hartigan_diptest(df[x].values)\n",
    "    \n",
    "    if p > alpha:\n",
    "        # uncomment out these print statements for more verbose output\n",
    "#       print(f\"{x} appears to not be multimodal\")\n",
    "#       print(f\"p={p} \\n\")\n",
    "      print(\"\")\n",
    "      \n",
    "    else:\n",
    "      multimodal.append(x)\n",
    "#       p < 0.05 suggests possible multimodality\n",
    "#       print(f\"{x} appears to be multimodal\")\n",
    "#       print(f\"p={p} \\n\")\n",
    "      \n",
    "  except:\n",
    "    print(f\"Could not determine modality for {x} \\n\")\n",
    "    print(\"\")\n",
    "\n",
    "    \n",
    "!mkdir -p multimodal\n",
    "\n",
    "for feature in multimodal:\n",
    "  try:\n",
    "#     print(feature, \"\\n\")\n",
    "    df[feature].dropna().plot.kde(figsize=[12,8])\n",
    "    plt.legend([feature])\n",
    "    plt.tight_layout()\n",
    "    plt.savefig(f\"multimodal/multimodal_{feature}.pdf\", transparent=True)\n",
    "#     plt.show()\n",
    "    plt.close()\n",
    "  except:\n",
    "    print(f\"Could not make modality plot for {feature} \\n\")"
   ]
  },
  {
   "cell_type": "code",
   "execution_count": 33,
   "metadata": {
    "colab": {
     "base_uri": "https://localhost:8080/",
     "height": 130
    },
    "colab_type": "code",
    "executionInfo": {
     "elapsed": 219,
     "status": "error",
     "timestamp": 1561383964785,
     "user": {
      "displayName": "Beau Hilton",
      "photoUrl": "https://lh5.googleusercontent.com/-MjY82id8Sds/AAAAAAAAAAI/AAAAAAAAABE/K4BVfSOlPfE/s64/photo.jpg",
      "userId": "13815686168076873680"
     },
     "user_tz": 240
    },
    "id": "iy8O5P5isssm",
    "outputId": "65023750-e042-4af0-9c83-30c397d1aa0d"
   },
   "outputs": [
    {
     "ename": "IndentationError",
     "evalue": "ignored",
     "output_type": "error",
     "traceback": [
      "\u001b[0;36m  File \u001b[0;32m\"<ipython-input-33-6a6d328cbe0b>\"\u001b[0;36m, line \u001b[0;32m25\u001b[0m\n\u001b[0;31m    except:\u001b[0m\n\u001b[0m           ^\u001b[0m\n\u001b[0;31mIndentationError\u001b[0m\u001b[0;31m:\u001b[0m unindent does not match any outer indentation level\n"
     ]
    }
   ],
   "source": [
    "# Pull out and plot possible outliers\n",
    "\n",
    "near_outliers = []\n",
    "far_outliers = []\n",
    "\n",
    "near_thresh = 1.5\n",
    "far_thresh = 3\n",
    "\n",
    "!mkdir -p outliers\n",
    "\n",
    "for x in list(df):\n",
    "  try:\n",
    "print(x, \"\\n\")\n",
    "       vals = df[x].values[~np.isnan(df[x].values)]\n",
    "       try:\n",
    "            q1, q3 = np.percentile(vals, [25, 75])\n",
    "            iqr = q3 - q1\n",
    "            \n",
    "            low_bound_near = q1 - (iqr * near_thresh)\n",
    "            high_bound_near = q3 + (iqr * near_thresh)\n",
    "            near_outliers = near_outliers.append(np.where((vals > high_bound_near) | (vals < low_bound_near)))\n",
    "            \n",
    "            low_bound_far = q1 - (iqr * far_thresh)\n",
    "            high_bound_far = q3 + (iqr * far_thresh)\n",
    "            far_outliers = far_outliers.append(np.where((vals > high_bound_far) | (vals < low_bound_far)))\n",
    "        except:\n",
    "            print(f\"Outlier detection failed for {x}\")\n",
    "            print(\"\")\n",
    "      \n",
    "      data[x].boxplot(whis=3)\n",
    "      plt.tight_layout()\n",
    "      plt.savefig(f\"outliers/outlier_{x}.pdf\", transparent=True)\n",
    "#     plt.show()\n",
    "      plt.close()\n",
    "  except:\n",
    "    print(f\"Could not make boxplot for {x}\")\n",
    "    print(\"\")"
   ]
  },
  {
   "cell_type": "markdown",
   "metadata": {
    "colab_type": "text",
    "id": "fK8kauX2rM03"
   },
   "source": [
    "## Let's plot some histograms. \n",
    "Everybody loves histograms.\n",
    "\n",
    "Depending on the size of your dataset, this can take a while.\n",
    "Feel free to skip this cell for now.\n",
    "\n",
    "If you want a primer on Matplotlib histograms, check out [Corey Schafer's YouTube videos ](https://www.youtube.com/watch?v=XDv6T4a0RNc) and [code snippets](https://github.com/CoreyMSchafer/code_snippets/blob/master/Python/Matplotlib/06-Histograms/finished_code.py). His whole Matplotlib series is great, the best available as of mid-2019.\n",
    "\n",
    "For an extra goodie, scroll down to the bottom of the notebook and I'll show you how to download a YouTube playlist using Python, with Schafer's Matplotlib playlist as an example."
   ]
  },
  {
   "cell_type": "code",
   "execution_count": 11,
   "metadata": {
    "colab": {
     "base_uri": "https://localhost:8080/",
     "height": 85
    },
    "colab_type": "code",
    "executionInfo": {
     "elapsed": 30225,
     "status": "ok",
     "timestamp": 1561381999136,
     "user": {
      "displayName": "Beau Hilton",
      "photoUrl": "https://lh5.googleusercontent.com/-MjY82id8Sds/AAAAAAAAAAI/AAAAAAAAABE/K4BVfSOlPfE/s64/photo.jpg",
      "userId": "13815686168076873680"
     },
     "user_tz": 240
    },
    "id": "mGLri5y3erPZ",
    "outputId": "c01c627b-1105-4213-e4c9-c0b564f6d5fe"
   },
   "outputs": [
    {
     "name": "stderr",
     "output_type": "stream",
     "text": [
      "/usr/local/lib/python3.6/dist-packages/numpy/lib/histograms.py:824: RuntimeWarning: invalid value encountered in greater_equal\n",
      "  keep = (tmp_a >= first_edge)\n",
      "/usr/local/lib/python3.6/dist-packages/numpy/lib/histograms.py:825: RuntimeWarning: invalid value encountered in less_equal\n",
      "  keep &= (tmp_a <= last_edge)\n"
     ]
    }
   ],
   "source": [
    "# make a histogram directory\n",
    "!mkdir -p histograms\n",
    "\n",
    "# select a pretty default plotting style\n",
    "plt.style.use('fivethirtyeight')\n",
    "\n",
    "# we're going to wrap this in a \"try\" statement \n",
    "# so if any of them fail it will inform us and move on to the next one\n",
    "# we're also going to select only numeric columns\n",
    "for col in list(df.select_dtypes(include=[np.number]).columns.values):\n",
    "  try:\n",
    "#     print(col)\n",
    "    plt.hist(df[col], edgecolor='black')\n",
    "    plt.title(f\"{col}\")\n",
    "    # find the median of each column\n",
    "    median = df[col].median()\n",
    "    # pick a color for the line\n",
    "    color = '#fc4f30'\n",
    "    # plot a red vertical line showing the median value\n",
    "    plt.axvline(median, color=color, label='Median', linewidth=2)\n",
    "    # I don't know why `tight_layout()` isn't the default. It's much prettier.\n",
    "    plt.tight_layout()\n",
    "    # Add the `.pdf` extension to get a pdf, \n",
    "    # and add `transparent=True` to make the background transparent\n",
    "    # (useful for making combined figures later)\n",
    "    plt.savefig(f\"histograms/{col}_hist.pdf\", transparent=True)\n",
    "    plt.close()\n",
    "  except Exception as ex:\n",
    "    print(f\"No histogram made for {col}\")\n",
    "    exhandler(ex)"
   ]
  },
  {
   "cell_type": "markdown",
   "metadata": {
    "colab_type": "text",
    "id": "7wD70ojPuBas"
   },
   "source": [
    "# NHANES I Survival Model\n",
    "\n",
    "This is a cox proportional hazards model on data from <a href=\"https://wwwn.cdc.gov/nchs/nhanes/nhanes1\">NHANES I</a> with followup mortality data from the <a href=\"https://wwwn.cdc.gov/nchs/nhanes/nhefs\">NHANES I Epidemiologic Followup Study</a>. It is designed to illustrate how SHAP values enable the interpretion of XGBoost models with a clarity traditionally only provided by linear models. We see interesting and non-linear patterns in the data, which suggest the potential of this approach. Keep in mind the data has not yet been checked by us for calibrations to current lab tests and so you should not consider the results as actionable medical insights, but rather a proof of concept. \n",
    "\n",
    "Note that support for Cox loss and SHAP interaction effects were only recently merged, so you will need the latest master version of XGBoost to run this notebook."
   ]
  },
  {
   "cell_type": "markdown",
   "metadata": {
    "colab_type": "text",
    "id": "oXs8PehOuBax"
   },
   "source": [
    "## Create XGBoost data objects\n",
    "\n",
    "This uses a pre-processed subset of NHANES I data available in the SHAP datasets module."
   ]
  },
  {
   "cell_type": "code",
   "execution_count": 0,
   "metadata": {
    "colab": {},
    "colab_type": "code",
    "id": "FVyELG7duBa2",
    "scrolled": true
   },
   "outputs": [],
   "source": [
    "xgb_full = xgboost.DMatrix(X, label=y)\n",
    "\n",
    "# create a train/test split\n",
    "X_train, X_test, y_train, y_test = train_test_split(X, y, test_size=0.2, random_state=7)\n",
    "xgb_train = xgboost.DMatrix(X_train, label=y_train)\n",
    "xgb_test = xgboost.DMatrix(X_test, label=y_test)\n"
   ]
  },
  {
   "cell_type": "markdown",
   "metadata": {
    "colab_type": "text",
    "id": "Pe4nbnGPuBa1"
   },
   "source": [
    "\n",
    "\n",
    "\n",
    "\n",
    "## Train XGBoost model"
   ]
  },
  {
   "cell_type": "code",
   "execution_count": 13,
   "metadata": {
    "colab": {
     "base_uri": "https://localhost:8080/",
     "height": 204
    },
    "colab_type": "code",
    "executionInfo": {
     "elapsed": 100405,
     "status": "ok",
     "timestamp": 1561382069332,
     "user": {
      "displayName": "Beau Hilton",
      "photoUrl": "https://lh5.googleusercontent.com/-MjY82id8Sds/AAAAAAAAAAI/AAAAAAAAABE/K4BVfSOlPfE/s64/photo.jpg",
      "userId": "13815686168076873680"
     },
     "user_tz": 240
    },
    "id": "AmYfZIohNSrI",
    "outputId": "db4c13c3-00d8-4b53-e3e2-e22d487bca8d"
   },
   "outputs": [
    {
     "name": "stdout",
     "output_type": "stream",
     "text": [
      "[0]\ttest-cox-nloglik:7.26934\n",
      "[1000]\ttest-cox-nloglik:6.55588\n",
      "[2000]\ttest-cox-nloglik:6.48688\n",
      "[3000]\ttest-cox-nloglik:6.47231\n",
      "[4000]\ttest-cox-nloglik:6.46993\n",
      "[5000]\ttest-cox-nloglik:6.47147\n",
      "[6000]\ttest-cox-nloglik:6.47407\n",
      "[7000]\ttest-cox-nloglik:6.47613\n",
      "[8000]\ttest-cox-nloglik:6.47911\n",
      "[9000]\ttest-cox-nloglik:6.48227\n",
      "[9999]\ttest-cox-nloglik:6.48552\n"
     ]
    }
   ],
   "source": [
    "# use validation set to choose # of trees\n",
    "params = {\n",
    "    \"eta\": 0.002,\n",
    "    \"max_depth\": 3,\n",
    "    \"objective\": \"survival:cox\",\n",
    "    \"subsample\": 0.5\n",
    "}\n",
    "model_train = xgboost.train(params, xgb_train, 10000, evals = [(xgb_test, \"test\")], verbose_eval=1000)"
   ]
  },
  {
   "cell_type": "code",
   "execution_count": 14,
   "metadata": {
    "colab": {
     "base_uri": "https://localhost:8080/",
     "height": 119
    },
    "colab_type": "code",
    "executionInfo": {
     "elapsed": 143581,
     "status": "ok",
     "timestamp": 1561382112518,
     "user": {
      "displayName": "Beau Hilton",
      "photoUrl": "https://lh5.googleusercontent.com/-MjY82id8Sds/AAAAAAAAAAI/AAAAAAAAABE/K4BVfSOlPfE/s64/photo.jpg",
      "userId": "13815686168076873680"
     },
     "user_tz": 240
    },
    "id": "gRs-fX_buBa7",
    "outputId": "069a4f7f-5a96-4174-c21e-4ae191a76a43"
   },
   "outputs": [
    {
     "name": "stdout",
     "output_type": "stream",
     "text": [
      "[0]\ttest-cox-nloglik:8.88081\n",
      "[1000]\ttest-cox-nloglik:8.1673\n",
      "[2000]\ttest-cox-nloglik:8.07806\n",
      "[3000]\ttest-cox-nloglik:8.03906\n",
      "[4000]\ttest-cox-nloglik:8.01412\n",
      "[4999]\ttest-cox-nloglik:7.99296\n"
     ]
    }
   ],
   "source": [
    "# train final model on the full data set\n",
    "params = {\n",
    "    \"eta\": 0.002,\n",
    "    \"max_depth\": 3, \n",
    "    \"objective\": \"survival:cox\",\n",
    "    \"subsample\": 0.5\n",
    "}\n",
    "model = xgboost.train(params, xgb_full, 5000, evals = [(xgb_full, \"test\")], verbose_eval=1000)"
   ]
  },
  {
   "cell_type": "markdown",
   "metadata": {
    "colab_type": "text",
    "id": "kBeJ8aU1uBa_"
   },
   "source": [
    "## Check Performance\n",
    "\n",
    "The C-statistic measures how well we can order people by their survival time (1.0 is a perfect ordering)."
   ]
  },
  {
   "cell_type": "code",
   "execution_count": 15,
   "metadata": {
    "colab": {
     "base_uri": "https://localhost:8080/",
     "height": 34
    },
    "colab_type": "code",
    "executionInfo": {
     "elapsed": 146424,
     "status": "ok",
     "timestamp": 1561382115372,
     "user": {
      "displayName": "Beau Hilton",
      "photoUrl": "https://lh5.googleusercontent.com/-MjY82id8Sds/AAAAAAAAAAI/AAAAAAAAABE/K4BVfSOlPfE/s64/photo.jpg",
      "userId": "13815686168076873680"
     },
     "user_tz": 240
    },
    "id": "8cW4-9lSuBbA",
    "outputId": "696ee457-c193-4b22-cc64-92fc354b75af"
   },
   "outputs": [
    {
     "data": {
      "text/plain": [
       "0.8356854248404286"
      ]
     },
     "execution_count": 15,
     "metadata": {
      "tags": []
     },
     "output_type": "execute_result"
    }
   ],
   "source": [
    "def c_statistic_harrell(pred, labels):\n",
    "    total = 0\n",
    "    matches = 0\n",
    "    for i in range(len(labels)):\n",
    "        for j in range(len(labels)):\n",
    "            if labels[j] > 0 and abs(labels[i]) > labels[j]:\n",
    "                total += 1\n",
    "                if pred[j] > pred[i]:\n",
    "                    matches += 1\n",
    "    return matches/total\n",
    "\n",
    "# see how well we can order people by survival\n",
    "c_statistic_harrell(model_train.predict(xgb_test, ntree_limit=5000), y_test)"
   ]
  },
  {
   "cell_type": "markdown",
   "metadata": {
    "colab_type": "text",
    "id": "qhO65ch2uBbG"
   },
   "source": [
    "# Explain the model's predictions on the entire dataset"
   ]
  },
  {
   "cell_type": "code",
   "execution_count": 0,
   "metadata": {
    "colab": {},
    "colab_type": "code",
    "id": "qBn6P5xNuBbI"
   },
   "outputs": [],
   "source": [
    "shap_values = shap.TreeExplainer(model).shap_values(X)"
   ]
  },
  {
   "cell_type": "markdown",
   "metadata": {
    "colab_type": "text",
    "id": "_rQhcEH6uBbL"
   },
   "source": [
    "### SHAP Summary Plot\n",
    "\n",
    "The SHAP values for XGBoost explain the margin output of the model, which is the change in log odds of dying for a Cox proportional hazards model. We can see below that the primary risk factor for death according to the model is being old. The next most powerful indicator of death risk is being a man.\n",
    "\n",
    "This summary plot replaces the typical bar chart of feature importance. It tells which features are most important, and also their range of effects over the dataset. The color allows us match how changes in the value of a feature effect the change in risk (such that a high white blood cell count leads to a high risk of death)."
   ]
  },
  {
   "cell_type": "code",
   "execution_count": 0,
   "metadata": {
    "colab": {},
    "colab_type": "code",
    "id": "DzobOE4ZuBbM"
   },
   "outputs": [],
   "source": [
    "!mkdir -p shap_images\n",
    "\n",
    "try:\n",
    "  shap.summary_plot(shap_values, X, show=False)\n",
    "  plt.tight_layout()\n",
    "  plt.savefig(\"shap_images/shap_summary.pdf\", transparent=True)\n",
    "  plt.close()\n",
    "except Exception as ex:\n",
    "    exhandler(ex)"
   ]
  },
  {
   "cell_type": "markdown",
   "metadata": {
    "colab_type": "text",
    "id": "4roWsu2QuBbP"
   },
   "source": [
    "### SHAP Dependence Plots\n",
    "\n",
    "While a SHAP summary plot gives a general overview of each feature a SHAP dependence plot show how the model output varies by feauture value. Note that every dot is a person, and the vertical dispersion at a single feature value results from interaction effects in the model. The feature used for coloring is automatically chosen to highlight what might be driving these interactions. Later we will see how to check that the interaction is really in the model with SHAP interaction values. Note that the row of a SHAP summary plot results from projecting the points of a SHAP dependence plot onto the y-axis, then recoloring by the feature itself.\n",
    "\n",
    "Below we give the SHAP dependence plot for each of the NHANES I features, revealing interesting but expected trends. Keep in mind the calibration of some of these values can be different than a modern lab test so be careful drawing conclusions.\n",
    "\n",
    "### Beau's Note: \n",
    "The SHAP people did this one at a time, which is cool. I'll show you how to do it all in one fell swoop and save the images to file. Note  one of the drawbacks of automation: the SHAP people set custom parameters for many of the plots, and we're just letting Matplotlib select its own values. Most of the time this is totally fine."
   ]
  },
  {
   "cell_type": "code",
   "execution_count": 18,
   "metadata": {
    "colab": {
     "base_uri": "https://localhost:8080/",
     "height": 738
    },
    "colab_type": "code",
    "executionInfo": {
     "elapsed": 208856,
     "status": "error",
     "timestamp": 1561382177830,
     "user": {
      "displayName": "Beau Hilton",
      "photoUrl": "https://lh5.googleusercontent.com/-MjY82id8Sds/AAAAAAAAAAI/AAAAAAAAABE/K4BVfSOlPfE/s64/photo.jpg",
      "userId": "13815686168076873680"
     },
     "user_tz": 240
    },
    "id": "WgieH5JCTEj_",
    "outputId": "a88af089-81b2-43b5-e9ad-3dccfe878850"
   },
   "outputs": [
    {
     "name": "stderr",
     "output_type": "stream",
     "text": [
      "/usr/local/lib/python3.6/dist-packages/matplotlib/colors.py:512: RuntimeWarning: invalid value encountered in less\n",
      "  xa[xa < 0] = -1\n"
     ]
    },
    {
     "ename": "KeyboardInterrupt",
     "evalue": "ignored",
     "output_type": "error",
     "traceback": [
      "\u001b[0;31m---------------------------------------------------------------------------\u001b[0m",
      "\u001b[0;31mKeyboardInterrupt\u001b[0m                         Traceback (most recent call last)",
      "\u001b[0;32m<ipython-input-18-8fc162ed9746>\u001b[0m in \u001b[0;36m<module>\u001b[0;34m()\u001b[0m\n\u001b[1;32m      3\u001b[0m \u001b[0;32mfor\u001b[0m \u001b[0mcol\u001b[0m \u001b[0;32min\u001b[0m \u001b[0mlist\u001b[0m\u001b[0;34m(\u001b[0m\u001b[0mX\u001b[0m\u001b[0;34m)\u001b[0m\u001b[0;34m:\u001b[0m\u001b[0;34m\u001b[0m\u001b[0;34m\u001b[0m\u001b[0m\n\u001b[1;32m      4\u001b[0m   \u001b[0;32mtry\u001b[0m\u001b[0;34m:\u001b[0m\u001b[0;34m\u001b[0m\u001b[0;34m\u001b[0m\u001b[0m\n\u001b[0;32m----> 5\u001b[0;31m     \u001b[0mshap\u001b[0m\u001b[0;34m.\u001b[0m\u001b[0mdependence_plot\u001b[0m\u001b[0;34m(\u001b[0m\u001b[0;34mf\"{col}\"\u001b[0m\u001b[0;34m,\u001b[0m \u001b[0mshap_values\u001b[0m\u001b[0;34m,\u001b[0m \u001b[0mX\u001b[0m\u001b[0;34m,\u001b[0m \u001b[0mshow\u001b[0m\u001b[0;34m=\u001b[0m\u001b[0;32mFalse\u001b[0m\u001b[0;34m)\u001b[0m\u001b[0;34m\u001b[0m\u001b[0;34m\u001b[0m\u001b[0m\n\u001b[0m\u001b[1;32m      6\u001b[0m     \u001b[0mplt\u001b[0m\u001b[0;34m.\u001b[0m\u001b[0mtight_layout\u001b[0m\u001b[0;34m(\u001b[0m\u001b[0;34m)\u001b[0m\u001b[0;34m\u001b[0m\u001b[0;34m\u001b[0m\u001b[0m\n\u001b[1;32m      7\u001b[0m     \u001b[0mplt\u001b[0m\u001b[0;34m.\u001b[0m\u001b[0msavefig\u001b[0m\u001b[0;34m(\u001b[0m\u001b[0;34mf\"shap_images/shap_dependence/shap_dependence_{col}.pdf\"\u001b[0m\u001b[0;34m,\u001b[0m \u001b[0mtransparent\u001b[0m\u001b[0;34m=\u001b[0m\u001b[0;32mTrue\u001b[0m\u001b[0;34m)\u001b[0m\u001b[0;34m\u001b[0m\u001b[0;34m\u001b[0m\u001b[0m\n",
      "\u001b[0;32m/usr/local/lib/python3.6/dist-packages/shap/plots/dependence.py\u001b[0m in \u001b[0;36mdependence_plot\u001b[0;34m(ind, shap_values, features, feature_names, display_features, interaction_index, color, axis_color, cmap, dot_size, x_jitter, alpha, title, xmin, xmax, ax, show)\u001b[0m\n\u001b[1;32m    155\u001b[0m     \u001b[0;31m# guess what other feature as the stongest interaction with the plotted feature\u001b[0m\u001b[0;34m\u001b[0m\u001b[0;34m\u001b[0m\u001b[0;34m\u001b[0m\u001b[0m\n\u001b[1;32m    156\u001b[0m     \u001b[0;32mif\u001b[0m \u001b[0minteraction_index\u001b[0m \u001b[0;34m==\u001b[0m \u001b[0;34m\"auto\"\u001b[0m\u001b[0;34m:\u001b[0m\u001b[0;34m\u001b[0m\u001b[0;34m\u001b[0m\u001b[0m\n\u001b[0;32m--> 157\u001b[0;31m         \u001b[0minteraction_index\u001b[0m \u001b[0;34m=\u001b[0m \u001b[0mapproximate_interactions\u001b[0m\u001b[0;34m(\u001b[0m\u001b[0mind\u001b[0m\u001b[0;34m,\u001b[0m \u001b[0mshap_values\u001b[0m\u001b[0;34m,\u001b[0m \u001b[0mfeatures\u001b[0m\u001b[0;34m)\u001b[0m\u001b[0;34m[\u001b[0m\u001b[0;36m0\u001b[0m\u001b[0;34m]\u001b[0m\u001b[0;34m\u001b[0m\u001b[0;34m\u001b[0m\u001b[0m\n\u001b[0m\u001b[1;32m    158\u001b[0m     \u001b[0minteraction_index\u001b[0m \u001b[0;34m=\u001b[0m \u001b[0mconvert_name\u001b[0m\u001b[0;34m(\u001b[0m\u001b[0minteraction_index\u001b[0m\u001b[0;34m,\u001b[0m \u001b[0mshap_values\u001b[0m\u001b[0;34m,\u001b[0m \u001b[0mfeature_names\u001b[0m\u001b[0;34m)\u001b[0m\u001b[0;34m\u001b[0m\u001b[0;34m\u001b[0m\u001b[0m\n\u001b[1;32m    159\u001b[0m     \u001b[0mcategorical_interaction\u001b[0m \u001b[0;34m=\u001b[0m \u001b[0;32mFalse\u001b[0m\u001b[0;34m\u001b[0m\u001b[0;34m\u001b[0m\u001b[0m\n",
      "\u001b[0;32m/usr/local/lib/python3.6/dist-packages/shap/common.py\u001b[0m in \u001b[0;36mapproximate_interactions\u001b[0;34m(index, shap_values, X, feature_names)\u001b[0m\n\u001b[1;32m    308\u001b[0m             \u001b[0;32mfor\u001b[0m \u001b[0mj\u001b[0m \u001b[0;32min\u001b[0m \u001b[0mrange\u001b[0m\u001b[0;34m(\u001b[0m\u001b[0;36m0\u001b[0m\u001b[0;34m,\u001b[0m \u001b[0mlen\u001b[0m\u001b[0;34m(\u001b[0m\u001b[0mx\u001b[0m\u001b[0;34m)\u001b[0m\u001b[0;34m,\u001b[0m \u001b[0minc\u001b[0m\u001b[0;34m)\u001b[0m\u001b[0;34m:\u001b[0m\u001b[0;34m\u001b[0m\u001b[0;34m\u001b[0m\u001b[0m\n\u001b[1;32m    309\u001b[0m                 \u001b[0;32mif\u001b[0m \u001b[0mnp\u001b[0m\u001b[0;34m.\u001b[0m\u001b[0mstd\u001b[0m\u001b[0;34m(\u001b[0m\u001b[0mval_other\u001b[0m\u001b[0;34m[\u001b[0m\u001b[0mj\u001b[0m\u001b[0;34m:\u001b[0m\u001b[0mj\u001b[0m \u001b[0;34m+\u001b[0m \u001b[0minc\u001b[0m\u001b[0;34m]\u001b[0m\u001b[0;34m)\u001b[0m \u001b[0;34m>\u001b[0m \u001b[0;36m0\u001b[0m \u001b[0;32mand\u001b[0m \u001b[0mnp\u001b[0m\u001b[0;34m.\u001b[0m\u001b[0mstd\u001b[0m\u001b[0;34m(\u001b[0m\u001b[0mshap_ref\u001b[0m\u001b[0;34m[\u001b[0m\u001b[0mj\u001b[0m\u001b[0;34m:\u001b[0m\u001b[0mj\u001b[0m \u001b[0;34m+\u001b[0m \u001b[0minc\u001b[0m\u001b[0;34m]\u001b[0m\u001b[0;34m)\u001b[0m \u001b[0;34m>\u001b[0m \u001b[0;36m0\u001b[0m\u001b[0;34m:\u001b[0m\u001b[0;34m\u001b[0m\u001b[0;34m\u001b[0m\u001b[0m\n\u001b[0;32m--> 310\u001b[0;31m                     \u001b[0mv\u001b[0m \u001b[0;34m+=\u001b[0m \u001b[0mabs\u001b[0m\u001b[0;34m(\u001b[0m\u001b[0mnp\u001b[0m\u001b[0;34m.\u001b[0m\u001b[0mcorrcoef\u001b[0m\u001b[0;34m(\u001b[0m\u001b[0mshap_ref\u001b[0m\u001b[0;34m[\u001b[0m\u001b[0mj\u001b[0m\u001b[0;34m:\u001b[0m\u001b[0mj\u001b[0m \u001b[0;34m+\u001b[0m \u001b[0minc\u001b[0m\u001b[0;34m]\u001b[0m\u001b[0;34m,\u001b[0m \u001b[0mval_other\u001b[0m\u001b[0;34m[\u001b[0m\u001b[0mj\u001b[0m\u001b[0;34m:\u001b[0m\u001b[0mj\u001b[0m \u001b[0;34m+\u001b[0m \u001b[0minc\u001b[0m\u001b[0;34m]\u001b[0m\u001b[0;34m)\u001b[0m\u001b[0;34m[\u001b[0m\u001b[0;36m0\u001b[0m\u001b[0;34m,\u001b[0m \u001b[0;36m1\u001b[0m\u001b[0;34m]\u001b[0m\u001b[0;34m)\u001b[0m\u001b[0;34m\u001b[0m\u001b[0;34m\u001b[0m\u001b[0m\n\u001b[0m\u001b[1;32m    311\u001b[0m         \u001b[0mval_v\u001b[0m \u001b[0;34m=\u001b[0m \u001b[0mv\u001b[0m\u001b[0;34m\u001b[0m\u001b[0;34m\u001b[0m\u001b[0m\n\u001b[1;32m    312\u001b[0m \u001b[0;34m\u001b[0m\u001b[0m\n",
      "\u001b[0;32m/usr/local/lib/python3.6/dist-packages/numpy/lib/function_base.py\u001b[0m in \u001b[0;36mcorrcoef\u001b[0;34m(x, y, rowvar, bias, ddof)\u001b[0m\n\u001b[1;32m   2520\u001b[0m         warnings.warn('bias and ddof have no effect and are deprecated',\n\u001b[1;32m   2521\u001b[0m                       DeprecationWarning, stacklevel=2)\n\u001b[0;32m-> 2522\u001b[0;31m     \u001b[0mc\u001b[0m \u001b[0;34m=\u001b[0m \u001b[0mcov\u001b[0m\u001b[0;34m(\u001b[0m\u001b[0mx\u001b[0m\u001b[0;34m,\u001b[0m \u001b[0my\u001b[0m\u001b[0;34m,\u001b[0m \u001b[0mrowvar\u001b[0m\u001b[0;34m)\u001b[0m\u001b[0;34m\u001b[0m\u001b[0;34m\u001b[0m\u001b[0m\n\u001b[0m\u001b[1;32m   2523\u001b[0m     \u001b[0;32mtry\u001b[0m\u001b[0;34m:\u001b[0m\u001b[0;34m\u001b[0m\u001b[0;34m\u001b[0m\u001b[0m\n\u001b[1;32m   2524\u001b[0m         \u001b[0md\u001b[0m \u001b[0;34m=\u001b[0m \u001b[0mdiag\u001b[0m\u001b[0;34m(\u001b[0m\u001b[0mc\u001b[0m\u001b[0;34m)\u001b[0m\u001b[0;34m\u001b[0m\u001b[0;34m\u001b[0m\u001b[0m\n",
      "\u001b[0;32m/usr/local/lib/python3.6/dist-packages/numpy/lib/function_base.py\u001b[0m in \u001b[0;36mcov\u001b[0;34m(m, y, rowvar, bias, ddof, fweights, aweights)\u001b[0m\n\u001b[1;32m   2425\u001b[0m             \u001b[0mw\u001b[0m \u001b[0;34m*=\u001b[0m \u001b[0maweights\u001b[0m\u001b[0;34m\u001b[0m\u001b[0;34m\u001b[0m\u001b[0m\n\u001b[1;32m   2426\u001b[0m \u001b[0;34m\u001b[0m\u001b[0m\n\u001b[0;32m-> 2427\u001b[0;31m     \u001b[0mavg\u001b[0m\u001b[0;34m,\u001b[0m \u001b[0mw_sum\u001b[0m \u001b[0;34m=\u001b[0m \u001b[0maverage\u001b[0m\u001b[0;34m(\u001b[0m\u001b[0mX\u001b[0m\u001b[0;34m,\u001b[0m \u001b[0maxis\u001b[0m\u001b[0;34m=\u001b[0m\u001b[0;36m1\u001b[0m\u001b[0;34m,\u001b[0m \u001b[0mweights\u001b[0m\u001b[0;34m=\u001b[0m\u001b[0mw\u001b[0m\u001b[0;34m,\u001b[0m \u001b[0mreturned\u001b[0m\u001b[0;34m=\u001b[0m\u001b[0;32mTrue\u001b[0m\u001b[0;34m)\u001b[0m\u001b[0;34m\u001b[0m\u001b[0;34m\u001b[0m\u001b[0m\n\u001b[0m\u001b[1;32m   2428\u001b[0m     \u001b[0mw_sum\u001b[0m \u001b[0;34m=\u001b[0m \u001b[0mw_sum\u001b[0m\u001b[0;34m[\u001b[0m\u001b[0;36m0\u001b[0m\u001b[0;34m]\u001b[0m\u001b[0;34m\u001b[0m\u001b[0;34m\u001b[0m\u001b[0m\n\u001b[1;32m   2429\u001b[0m \u001b[0;34m\u001b[0m\u001b[0m\n",
      "\u001b[0;32m/usr/local/lib/python3.6/dist-packages/numpy/lib/function_base.py\u001b[0m in \u001b[0;36maverage\u001b[0;34m(a, axis, weights, returned)\u001b[0m\n\u001b[1;32m    390\u001b[0m \u001b[0;34m\u001b[0m\u001b[0m\n\u001b[1;32m    391\u001b[0m     \u001b[0;32mif\u001b[0m \u001b[0mweights\u001b[0m \u001b[0;32mis\u001b[0m \u001b[0;32mNone\u001b[0m\u001b[0;34m:\u001b[0m\u001b[0;34m\u001b[0m\u001b[0;34m\u001b[0m\u001b[0m\n\u001b[0;32m--> 392\u001b[0;31m         \u001b[0mavg\u001b[0m \u001b[0;34m=\u001b[0m \u001b[0ma\u001b[0m\u001b[0;34m.\u001b[0m\u001b[0mmean\u001b[0m\u001b[0;34m(\u001b[0m\u001b[0maxis\u001b[0m\u001b[0;34m)\u001b[0m\u001b[0;34m\u001b[0m\u001b[0;34m\u001b[0m\u001b[0m\n\u001b[0m\u001b[1;32m    393\u001b[0m         \u001b[0mscl\u001b[0m \u001b[0;34m=\u001b[0m \u001b[0mavg\u001b[0m\u001b[0;34m.\u001b[0m\u001b[0mdtype\u001b[0m\u001b[0;34m.\u001b[0m\u001b[0mtype\u001b[0m\u001b[0;34m(\u001b[0m\u001b[0ma\u001b[0m\u001b[0;34m.\u001b[0m\u001b[0msize\u001b[0m\u001b[0;34m/\u001b[0m\u001b[0mavg\u001b[0m\u001b[0;34m.\u001b[0m\u001b[0msize\u001b[0m\u001b[0;34m)\u001b[0m\u001b[0;34m\u001b[0m\u001b[0;34m\u001b[0m\u001b[0m\n\u001b[1;32m    394\u001b[0m     \u001b[0;32melse\u001b[0m\u001b[0;34m:\u001b[0m\u001b[0;34m\u001b[0m\u001b[0;34m\u001b[0m\u001b[0m\n",
      "\u001b[0;32m/usr/local/lib/python3.6/dist-packages/numpy/core/_methods.py\u001b[0m in \u001b[0;36m_mean\u001b[0;34m(a, axis, dtype, out, keepdims)\u001b[0m\n\u001b[1;32m     73\u001b[0m             \u001b[0mis_float16_result\u001b[0m \u001b[0;34m=\u001b[0m \u001b[0;32mTrue\u001b[0m\u001b[0;34m\u001b[0m\u001b[0;34m\u001b[0m\u001b[0m\n\u001b[1;32m     74\u001b[0m \u001b[0;34m\u001b[0m\u001b[0m\n\u001b[0;32m---> 75\u001b[0;31m     \u001b[0mret\u001b[0m \u001b[0;34m=\u001b[0m \u001b[0mumr_sum\u001b[0m\u001b[0;34m(\u001b[0m\u001b[0marr\u001b[0m\u001b[0;34m,\u001b[0m \u001b[0maxis\u001b[0m\u001b[0;34m,\u001b[0m \u001b[0mdtype\u001b[0m\u001b[0;34m,\u001b[0m \u001b[0mout\u001b[0m\u001b[0;34m,\u001b[0m \u001b[0mkeepdims\u001b[0m\u001b[0;34m)\u001b[0m\u001b[0;34m\u001b[0m\u001b[0;34m\u001b[0m\u001b[0m\n\u001b[0m\u001b[1;32m     76\u001b[0m     \u001b[0;32mif\u001b[0m \u001b[0misinstance\u001b[0m\u001b[0;34m(\u001b[0m\u001b[0mret\u001b[0m\u001b[0;34m,\u001b[0m \u001b[0mmu\u001b[0m\u001b[0;34m.\u001b[0m\u001b[0mndarray\u001b[0m\u001b[0;34m)\u001b[0m\u001b[0;34m:\u001b[0m\u001b[0;34m\u001b[0m\u001b[0;34m\u001b[0m\u001b[0m\n\u001b[1;32m     77\u001b[0m         ret = um.true_divide(\n",
      "\u001b[0;31mKeyboardInterrupt\u001b[0m: "
     ]
    },
    {
     "data": {
      "image/png": "[encoded data removed]",
      "text/plain": [
       "<Figure size 540x360 with 1 Axes>"
      ]
     },
     "metadata": {
      "tags": []
     },
     "output_type": "display_data"
    }
   ],
   "source": [
    "# Beau's lazy version\n",
    "!mkdir -p shap_images/shap_dependence\n",
    "\n",
    "for col in list(X):\n",
    "  try:\n",
    "    shap.dependence_plot(f\"{col}\", shap_values, X, show=False)\n",
    "    plt.tight_layout()\n",
    "    plt.savefig(f\"shap_images/shap_dependence/shap_dependence_{col}.pdf\", transparent=True)\n",
    "    plt.close()\n",
    "  except Exception as ex:\n",
    "    exhandler(ex)"
   ]
  },
  {
   "cell_type": "code",
   "execution_count": 0,
   "metadata": {
    "colab": {},
    "colab_type": "code",
    "id": "Yd-ZQVHxuBbQ"
   },
   "outputs": [],
   "source": [
    "# we pass \"Age\" instead of an index because dependence_plot() will find it in X's column names for us\n",
    "# Systolic BP was automatically chosen for coloring based on a potential interaction to check that \n",
    "# the interaction is really in the model see SHAP interaction values below\n",
    "try:\n",
    "  shap.dependence_plot(\"Age\", shap_values, X, show=False)\n",
    "except Exception as ex:\n",
    "    exhandler(ex)"
   ]
  },
  {
   "cell_type": "code",
   "execution_count": 0,
   "metadata": {
    "colab": {},
    "colab_type": "code",
    "id": "3M5g0EDYuBbU"
   },
   "outputs": [],
   "source": [
    "# Beau's note:\n",
    "# there were some of the SHAP plots that didn't work out of the box, so I commented them out.\n",
    "# for most of them, we made our own anyway\n",
    "\n",
    "# we pass display_features so we get text display values for sex\n",
    "# shap.dependence_plot(\"Sex\", shap_values, X, display_features=X_display)"
   ]
  },
  {
   "cell_type": "code",
   "execution_count": 0,
   "metadata": {
    "colab": {},
    "colab_type": "code",
    "id": "ohg8w9A8uBbY"
   },
   "outputs": [],
   "source": [
    "# setting show=False allows us to continue customizing the matplotlib plot before displaying it\n",
    "shap.dependence_plot(\"Systolic BP\", shap_values, X, show=False)\n",
    "pl.xlim(80,225)\n",
    "pl.show()"
   ]
  },
  {
   "cell_type": "code",
   "execution_count": 0,
   "metadata": {
    "colab": {},
    "colab_type": "code",
    "id": "biXJyY8_uBbb"
   },
   "outputs": [],
   "source": [
    "shap.dependence_plot(\"Poverty index\", shap_values, X)"
   ]
  },
  {
   "cell_type": "code",
   "execution_count": 0,
   "metadata": {
    "colab": {},
    "colab_type": "code",
    "id": "0HgsuSZ6uBbg"
   },
   "outputs": [],
   "source": [
    "shap.dependence_plot(\"White blood cells\", shap_values, X, display_features=X_display, show=False)\n",
    "pl.xlim(2,15)\n",
    "pl.show()"
   ]
  },
  {
   "cell_type": "code",
   "execution_count": 0,
   "metadata": {
    "colab": {},
    "colab_type": "code",
    "id": "-eHUUZ3FuBbj"
   },
   "outputs": [],
   "source": [
    "shap.dependence_plot(\"BMI\", shap_values, X, display_features=X_display, show=False)\n",
    "pl.xlim(15,50)\n",
    "pl.show()"
   ]
  },
  {
   "cell_type": "code",
   "execution_count": 0,
   "metadata": {
    "colab": {},
    "colab_type": "code",
    "id": "omK1F5QOuBbp"
   },
   "outputs": [],
   "source": [
    "# shap.dependence_plot(\"Serum magnesium\", shap_values, X, show=False)\n",
    "# pl.xlim(1.2,2.2)\n",
    "# pl.show()"
   ]
  },
  {
   "cell_type": "code",
   "execution_count": 0,
   "metadata": {
    "colab": {},
    "colab_type": "code",
    "id": "0CtncJ4JuBbs"
   },
   "outputs": [],
   "source": [
    "shap.dependence_plot(\"Sedimentation rate\", shap_values, X)"
   ]
  },
  {
   "cell_type": "code",
   "execution_count": 0,
   "metadata": {
    "colab": {},
    "colab_type": "code",
    "id": "Hz_Muab_uBbv"
   },
   "outputs": [],
   "source": [
    "# shap.dependence_plot(\"Serum protein\", shap_values, X)"
   ]
  },
  {
   "cell_type": "code",
   "execution_count": 0,
   "metadata": {
    "colab": {},
    "colab_type": "code",
    "id": "rtj0hLTguBbz"
   },
   "outputs": [],
   "source": [
    "# shap.dependence_plot(\"Serum cholesterol\", shap_values, X, show=False)\n",
    "# pl.xlim(100,400)\n",
    "# pl.show()"
   ]
  },
  {
   "cell_type": "code",
   "execution_count": 0,
   "metadata": {
    "colab": {},
    "colab_type": "code",
    "id": "Sj5vHih_uBb6"
   },
   "outputs": [],
   "source": [
    "shap.dependence_plot(\"Pulse pressure\", shap_values, X)"
   ]
  },
  {
   "cell_type": "code",
   "execution_count": 0,
   "metadata": {
    "colab": {},
    "colab_type": "code",
    "id": "Of9C1qbXuBb-"
   },
   "outputs": [],
   "source": [
    "# shap.dependence_plot(\"Serum iron\", shap_values, X, display_features=X_display)"
   ]
  },
  {
   "cell_type": "code",
   "execution_count": 0,
   "metadata": {
    "colab": {},
    "colab_type": "code",
    "id": "jWhj5Ov2uBcB"
   },
   "outputs": [],
   "source": [
    "shap.dependence_plot(\"TS\", shap_values, X)"
   ]
  },
  {
   "cell_type": "code",
   "execution_count": 0,
   "metadata": {
    "colab": {},
    "colab_type": "code",
    "id": "xLvv_HWRuBcE"
   },
   "outputs": [],
   "source": [
    "shap.dependence_plot(\"Red blood cells\", shap_values, X)"
   ]
  },
  {
   "cell_type": "markdown",
   "metadata": {
    "colab_type": "text",
    "id": "GBDqq4VvuBcI"
   },
   "source": [
    "## Compute SHAP Interaction Values\n",
    "\n",
    "See the Tree SHAP paper for more details, but briefly, SHAP interaction values are a generalization of SHAP values to higher order interactions. Fast exact computation of pairwise interactions are implemented in the latest version of XGBoost with the pred_interactions flag. With this flag XGBoost returns a matrix for every prediction, where the main effects are on the diagonal and the interaction effects are off-diagonal. The main effects are similar to the SHAP values you would get for a linear model, and the interaction effects captures all the higher-order interactions are divide them up among the pairwise interaction terms. Note that the sum of the entire interaction matrix is the difference between the model's current output and expected output, and so the interaction effects on the off-diagonal are split in half (since there are two of each). When plotting interaction effects the SHAP package automatically multiplies the off-diagonal values by two to get the full interaction effect."
   ]
  },
  {
   "cell_type": "code",
   "execution_count": 0,
   "metadata": {
    "colab": {},
    "colab_type": "code",
    "id": "jdWrAscTuBcI"
   },
   "outputs": [],
   "source": [
    "# takes a couple minutes since SHAP interaction values take a factor of 2 * # features\n",
    "# more time than SHAP values to compute, since this is just an example we only explain\n",
    "# the first 2,000 people in order to run quicker\n",
    "shap_interaction_values = shap.TreeExplainer(model).shap_interaction_values(X.iloc[:2000,:])"
   ]
  },
  {
   "cell_type": "markdown",
   "metadata": {
    "colab_type": "text",
    "id": "DcVUP3RTuBcK"
   },
   "source": [
    "### SHAP Interaction Value Summary Plot\n",
    "\n",
    "A summary plot of a SHAP interaction value matrix plots a matrix of summary plots with the main effects on the diagonal and the interaction effects off the diagonal."
   ]
  },
  {
   "cell_type": "code",
   "execution_count": 0,
   "metadata": {
    "colab": {},
    "colab_type": "code",
    "id": "kMyIy00tuBcL"
   },
   "outputs": [],
   "source": [
    "try:\n",
    "  shap.summary_plot(shap_interaction_values, X.iloc[:2000,:], show=False)\n",
    "  plt.tight_layout()\n",
    "  plt.savefig(\"shap_images/shap_interaction_summary.pdf\", transparent=True)\n",
    "  plt.close()\n",
    "except Exception as ex:\n",
    "    exhandler(ex)\n",
    "\n",
    "shap.summary_plot(shap_interaction_values, X.iloc[:2000,:])"
   ]
  },
  {
   "cell_type": "markdown",
   "metadata": {
    "colab_type": "text",
    "id": "00AnuruZuBcP"
   },
   "source": [
    "### SHAP Interaction Value Dependence Plots\n",
    "\n",
    "Running a dependence plot on the SHAP interaction values a allows us to separately observe the main effects and the interaction effects.\n",
    "\n",
    "Below we plot the main effects for age and some of the interaction effects for age. It is informative to compare the main effects plot of age with the earlier SHAP value plot for age. The main effects plot has no vertical dispersion because the interaction effects are all captured in the off-diagonal terms."
   ]
  },
  {
   "cell_type": "code",
   "execution_count": 0,
   "metadata": {
    "colab": {},
    "colab_type": "code",
    "id": "n0CUkC7GuBcQ"
   },
   "outputs": [],
   "source": [
    "# Beau's lazy version - plot the main effects for each column\n",
    "# and save the pictures to disk.\n",
    "# Notice that there's a problem when it tries to plot \"Sex\", \n",
    "# but it keeps on chugging along anyway.\n",
    "!mkdir -p shap_images/shap_self_dependence\n",
    "\n",
    "for col in list(X):\n",
    "  try:\n",
    "    shap.dependence_plot((f\"{col}\",f\"{col}\"),\n",
    "                         shap_interaction_values, X.iloc[:2000,:], \n",
    "                         display_features=X_display.iloc[:2000,:], \n",
    "                         show=False)\n",
    "    plt.tight_layout()\n",
    "    plt.savefig(f\"shap_images/shap_self_dependence/shap_self_dependence_{col}.pdf\", transparent=True)\n",
    "    plt.close()\n",
    "  except Exception as ex:\n",
    "    print(\"\")\n",
    "    print(f\"{col}\")\n",
    "    print(\"\")\n",
    "    exhandler(ex)\n",
    "\n",
    "shap.dependence_plot(\n",
    "    (\"Age\", \"Age\"),\n",
    "    shap_interaction_values, X.iloc[:2000,:],\n",
    "    display_features=X_display.iloc[:2000,:]\n",
    ")"
   ]
  },
  {
   "cell_type": "markdown",
   "metadata": {
    "colab_type": "text",
    "id": "NOkDSyBCuBcS"
   },
   "source": [
    "Now we plot the interaction effects involving age. These effects capture all of the vertical dispersion that was present in the original SHAP plot but is missing from the main effects plot above. The plot below involving age and sex shows that the sex-based death risk gap varies by age and peaks at age 60."
   ]
  },
  {
   "cell_type": "code",
   "execution_count": 0,
   "metadata": {
    "colab": {},
    "colab_type": "code",
    "id": "UZk8j8ytuBcT"
   },
   "outputs": [],
   "source": [
    "shap.dependence_plot(\n",
    "    (\"Age\", \"Sex\"),\n",
    "    shap_interaction_values, X.iloc[:2000,:],\n",
    "    display_features=X_display.iloc[:2000,:]\n",
    ")"
   ]
  },
  {
   "cell_type": "code",
   "execution_count": 0,
   "metadata": {
    "colab": {},
    "colab_type": "code",
    "id": "jg2wrN1ruBcW"
   },
   "outputs": [],
   "source": [
    "shap.dependence_plot(\n",
    "    (\"Age\", \"Systolic BP\"),\n",
    "    shap_interaction_values, X.iloc[:2000,:],\n",
    "    display_features=X_display.iloc[:2000,:]\n",
    ")"
   ]
  },
  {
   "cell_type": "code",
   "execution_count": 0,
   "metadata": {
    "colab": {},
    "colab_type": "code",
    "id": "dWvSWyn0uBcZ"
   },
   "outputs": [],
   "source": [
    "shap.dependence_plot(\n",
    "    (\"Age\", \"White blood cells\"),\n",
    "    shap_interaction_values, X.iloc[:2000,:],\n",
    "    display_features=X_display.iloc[:2000,:]\n",
    ")"
   ]
  },
  {
   "cell_type": "code",
   "execution_count": 0,
   "metadata": {
    "colab": {},
    "colab_type": "code",
    "id": "ZQ3nwQ2buBcc"
   },
   "outputs": [],
   "source": [
    "shap.dependence_plot(\n",
    "    (\"Age\", \"Poverty index\"),\n",
    "    shap_interaction_values, X.iloc[:2000,:],\n",
    "    display_features=X_display.iloc[:2000,:]\n",
    ")"
   ]
  },
  {
   "cell_type": "code",
   "execution_count": 0,
   "metadata": {
    "colab": {},
    "colab_type": "code",
    "id": "mNGn1aA1uBcg"
   },
   "outputs": [],
   "source": [
    "shap.dependence_plot(\n",
    "    (\"Age\", \"BMI\"),\n",
    "    shap_interaction_values, X.iloc[:2000,:],\n",
    "    display_features=X_display.iloc[:2000,:]\n",
    ")"
   ]
  },
  {
   "cell_type": "code",
   "execution_count": 0,
   "metadata": {
    "colab": {},
    "colab_type": "code",
    "id": "J1RqGfVtuBck"
   },
   "outputs": [],
   "source": [
    "# shap.dependence_plot(\n",
    "#     (\"Age\", \"Serum magnesium\"),\n",
    "#     shap_interaction_values, X.iloc[:2000,:],\n",
    "#     display_features=X_display.iloc[:2000,:]\n",
    "# )"
   ]
  },
  {
   "cell_type": "markdown",
   "metadata": {
    "colab_type": "text",
    "id": "CMOnx0NTuBcp"
   },
   "source": [
    "Now we show a couple examples with systolic blood pressure."
   ]
  },
  {
   "cell_type": "code",
   "execution_count": 0,
   "metadata": {
    "colab": {},
    "colab_type": "code",
    "id": "lgrVgZZHuBcp"
   },
   "outputs": [],
   "source": [
    "shap.dependence_plot(\n",
    "    (\"Systolic BP\", \"Systolic BP\"),\n",
    "    shap_interaction_values, X.iloc[:2000,:],\n",
    "    display_features=X_display.iloc[:2000,:]\n",
    ")"
   ]
  },
  {
   "cell_type": "code",
   "execution_count": 0,
   "metadata": {
    "colab": {},
    "colab_type": "code",
    "id": "lUAjAEiJuBcs"
   },
   "outputs": [],
   "source": [
    "shap.dependence_plot(\n",
    "    (\"Systolic BP\", \"Age\"),\n",
    "    shap_interaction_values, X.iloc[:2000,:],\n",
    "    display_features=X_display.iloc[:2000,:]\n",
    ")"
   ]
  },
  {
   "cell_type": "code",
   "execution_count": 0,
   "metadata": {
    "colab": {},
    "colab_type": "code",
    "id": "cJ0K9OlVuBc2"
   },
   "outputs": [],
   "source": [
    "tmp = np.abs(shap_interaction_values).sum(0)\n",
    "for i in range(tmp.shape[0]):\n",
    "    tmp[i,i] = 0\n",
    "inds = np.argsort(-tmp.sum(0))[:50]\n",
    "tmp2 = tmp[inds,:][:,inds]\n",
    "pl.figure(figsize=(12,12))\n",
    "pl.imshow(tmp2)\n",
    "pl.yticks(range(tmp2.shape[0]), X.columns[inds], rotation=50.4, horizontalalignment=\"right\")\n",
    "pl.xticks(range(tmp2.shape[0]), X.columns[inds], rotation=50.4, horizontalalignment=\"left\")\n",
    "pl.gca().xaxis.tick_top()\n",
    "pl.tight_layout()\n",
    "pl.savefig(\"shap_images/shap_interaction_summary_big.pdf\", transparent=True)\n",
    "pl.show()\n",
    "pl.close()\n"
   ]
  },
  {
   "cell_type": "markdown",
   "metadata": {
    "colab_type": "text",
    "id": "JXZ0GyuC1rpA"
   },
   "source": [
    "# Zip it up!\n",
    "\n",
    "We'll go back up one directory, then make a zip file containing everything under `exploratory_data_analysis`. \n",
    "\n",
    "You can then easily download all of your work and take it with you.\n",
    "\n",
    "Because we preferred pdf images where possible, the zip file should be small or modest in size. Native PDF images produced by Matplotlib are \"vector\" images, and so are also infinitely scalable, generally speaking, making them look much better than jpg or png files with much larger footprints."
   ]
  },
  {
   "cell_type": "code",
   "execution_count": 0,
   "metadata": {
    "colab": {},
    "colab_type": "code",
    "id": "VIVRJjaxnu7S"
   },
   "outputs": [],
   "source": [
    "os.chdir(\"..\") # go up one directory\n",
    "shutil.make_archive(\"exploratory_data_analysis\", 'zip', \"exploratory_data_analysis\")\n",
    "os.chdir(\"exploratory_data_analysis\") # go back, in case we want to do some other stuff later"
   ]
  },
  {
   "cell_type": "markdown",
   "metadata": {
    "colab_type": "text",
    "id": "6R0kU3b7BI6Q"
   },
   "source": [
    "# Extra goodie\n",
    "I use YouTube constantly for learning things. \n",
    "\n",
    "Youtube-DL is a Python library that makes this much easier. I use it on my phone to download videos so I don't have to worry about buffering or using mobile data, then use the video as a sort of podcast I can listen to while doing dishes or whatever. It's also really nice for instructional videos you will reference often. \n",
    "\n",
    "Of course you can use it for more nefarious purposes, but I think PBS and Mr. Rogers would approve of this use-case (note: it is not illegal, but does violate the YouTube terms of service. Also, YouTubers make almost no money from video views until they get up into the superstar musician range - if you like someone's content and want to support them, Patreon or another platform is the way to go). \n",
    "\n",
    "I included the links to two favorites below, the Matplotlib course from Corey Schafer and the fastai course from Jeremy Howard and associates. Comment out the last lines to download these playlists, then zip them up to take home. (At the very end is some silliness to tell you how big the zip file is before you download it.)"
   ]
  },
  {
   "cell_type": "code",
   "execution_count": 0,
   "metadata": {
    "colab": {},
    "colab_type": "code",
    "id": "lVBrNId7AER2"
   },
   "outputs": [],
   "source": [
    "!pip install youtube-dl -q\n",
    "os.chdir(\"..\") # go up one directory\n",
    "!mkdir -p yt_vids\n",
    "\n",
    "from __future__ import unicode_literals\n",
    "import youtube_dl\n",
    "\n",
    "ydl_opts = {\n",
    "    'outtmpl': 'yt_vids/%(title)s.%(ext)s',\n",
    "}\n",
    "\n",
    "schafer_plt = 'https://www.youtube.com/playlist?list=PL-osiE80TeTvipOqomVEeZ1HRrcEvtZB_'\n",
    "fastai = 'https://www.youtube.com/playlist?list=PLfYUBJiXbdtSIJb-Qd3pw0cqCbkGeS0xn'\n",
    "\n",
    "# with youtube_dl.YoutubeDL(ydl_opts) as ydl:\n",
    "#     ydl.download([schafer_plt])\n",
    "    \n",
    "# with youtube_dl.YoutubeDL(ydl_opts) as ydl:\n",
    "#     ydl.download([fastai])\n",
    "    \n",
    "# shutil.make_archive(\"yt_vids\", 'zip', \"yt_vids\")\n",
    "\n",
    "suffixes = ['B', 'KB', 'MB', 'GB', 'TB', 'PB']\n",
    "def humansize(nbytes):\n",
    "    i = 0\n",
    "    while nbytes >= 1024 and i < len(suffixes)-1:\n",
    "        nbytes /= 1024.\n",
    "        i += 1\n",
    "    f = ('%.2f' % nbytes).rstrip('0').rstrip('.')\n",
    "    return '%s %s' % (f, suffixes[i])\n",
    "\n",
    "# print(\"yt_vids zip size:\")\n",
    "# print(humansize(os.path.getsize(\"yt_vids.zip\")))\n",
    "print(\"EDA zip size:\")\n",
    "print(humansize(os.path.getsize(\"exploratory_data_analysis.zip\")))\n",
    "os.chdir(\"exploratory_data_analysis\")"
   ]
  },
  {
   "cell_type": "code",
   "execution_count": 0,
   "metadata": {
    "colab": {},
    "colab_type": "code",
    "id": "qTC9fIUiBA6x"
   },
   "outputs": [],
   "source": []
  }
 ],
 "metadata": {
  "colab": {
   "name": "EDA_with_NHANES_I_Survival_Model.ipynb",
   "provenance": [],
   "toc_visible": true,
   "version": "0.3.2"
  },
  "hide_input": false,
  "kernelspec": {
   "display_name": "Python 3",
   "language": "python",
   "name": "python3"
  },
  "language_info": {
   "codemirror_mode": {
    "name": "ipython",
    "version": 3
   },
   "file_extension": ".py",
   "mimetype": "text/x-python",
   "name": "python",
   "nbconvert_exporter": "python",
   "pygments_lexer": "ipython3",
   "version": "3.7.1"
  },
  "toc": {
   "base_numbering": 1,
   "nav_menu": {},
   "number_sections": true,
   "sideBar": true,
   "skip_h1_title": true,
   "title_cell": "Table of Contents",
   "title_sidebar": "Contents",
   "toc_cell": false,
   "toc_position": {},
   "toc_section_display": true,
   "toc_window_display": false
  }
 },
 "nbformat": 4,
 "nbformat_minor": 1
}
