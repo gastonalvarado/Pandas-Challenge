{
 "cells": [
  {
   "cell_type": "markdown",
   "metadata": {},
   "source": [
    "# Grainger - Category Chart "
   ]
  },
  {
   "cell_type": "markdown",
   "metadata": {},
   "source": [
    "Code developed to build the category chart for the Fastenal website. The objective is to collect all of the urls for each one of the product categories and subcategories and their names so we can build the hierarchy and also use the urls for the data scraping of all of the part numbers "
   ]
  },
  {
   "cell_type": "markdown",
   "metadata": {},
   "source": [
    "## Import all dependencies and start selenium "
   ]
  },
  {
   "cell_type": "markdown",
   "metadata": {},
   "source": [
    "We are using selenium and BeautifulSoup for the scraping process"
   ]
  },
  {
   "cell_type": "code",
   "execution_count": 1,
   "metadata": {},
   "outputs": [
    {
     "name": "stdout",
     "output_type": "stream",
     "text": [
      "/usr/local/bin/chromedriver\r\n"
     ]
    }
   ],
   "source": [
    "#Finding the location of chromedriver.exe\n",
    "#https://splinter.readthedocs.io/en/latest/drivers/chrome.html\n",
    "!which chromedriver"
   ]
  },
  {
   "cell_type": "code",
   "execution_count": 2,
   "metadata": {
    "code_folding": [],
    "run_control": {
     "marked": false
    }
   },
   "outputs": [],
   "source": [
    "# Import your newly installed selenium package\n",
    "from selenium import webdriver\n",
    "from splinter import Browser\n",
    "from selenium.webdriver.common.keys import Keys\n",
    "import time\n",
    "time.sleep(3)\n",
    "from splinter.exceptions import ElementDoesNotExist\n",
    "from bs4 import BeautifulSoup\n",
    "\n",
    "\n",
    "# Now create an 'instance' of your driver\n",
    "WebDriver = {'executable_path': 'chromedriver'}\n",
    "\n",
    "# A new Chrome (or other browser) window should open up\n",
    "browser = Browser('chrome', **WebDriver, headless=False)\n",
    "\n",
    "# Defining width and height of the browser\n",
    "browser.driver.set_window_size(1750, 1250)\n",
    "\n",
    "#For Mac users - Opening the targer url\n",
    "#driver.get(\"https://www.fastenal.com/product/abrasives/coated-and-non-woven-abrasives/fiber-and-sanding-discs/609478?categoryId=609478&level=3&isExpanded=true&productFamilyId=26373&view=2\")\n",
    "\n",
    "#For Windows users - Opening the target url\n",
    "url ='https://www.grainger.com/category?analytics=nav'\n",
    "browser.visit(url)"
   ]
  },
  {
   "cell_type": "markdown",
   "metadata": {},
   "source": [
    "## Start the browser and making the soup "
   ]
  },
  {
   "cell_type": "code",
   "execution_count": 3,
   "metadata": {
    "scrolled": true
   },
   "outputs": [],
   "source": [
    "#activating soup\n",
    "html = browser.html\n",
    "soup = BeautifulSoup(html, 'html.parser')"
   ]
  },
  {
   "cell_type": "markdown",
   "metadata": {},
   "source": [
    "## Initialize searches "
   ]
  },
  {
   "cell_type": "markdown",
   "metadata": {},
   "source": [
    "### First we need to create the searches for the initial page that contains all of the Product categories  "
   ]
  },
  {
   "cell_type": "markdown",
   "metadata": {},
   "source": [
    "#### All Products"
   ]
  },
  {
   "cell_type": "markdown",
   "metadata": {},
   "source": [
    "Inspecting the website, we found that the Product category information is in a div inside the class 'col-xs-12 category-list margin--top-0', and it is consistent across all the pages, so we can create a function that gives us access to that div initially "
   ]
  },
  {
   "cell_type": "code",
   "execution_count": 5,
   "metadata": {
    "scrolled": true
   },
   "outputs": [
    {
     "data": {
      "text/plain": [
       "['/category/abrasives',\n",
       " '/category/adhesives-sealants-and-tape',\n",
       " '/category/cleaning-and-janitorial',\n",
       " '/category/electrical',\n",
       " '/category/electronics-appliances-and-batteries',\n",
       " '/category/fasteners',\n",
       " '/category/fleet-and-vehicle-maintenance',\n",
       " '/category/furniture-hospitality-and-food-service',\n",
       " '/category/hvac-and-refrigeration',\n",
       " '/category/hardware',\n",
       " '/category/hydraulics',\n",
       " '/category/lab-supplies',\n",
       " '/category/lighting',\n",
       " '/category/lubrication',\n",
       " '/category/machining',\n",
       " '/category/material-handling',\n",
       " '/category/motors',\n",
       " '/category/office-supplies',\n",
       " '/category/outdoor-equipment',\n",
       " '/category/paint-equipment-and-supplies',\n",
       " '/category/plumbing',\n",
       " '/category/pneumatics',\n",
       " '/category/power-transmission',\n",
       " '/category/pumps',\n",
       " '/category/raw-materials',\n",
       " '/category/reference-and-learning-supplies',\n",
       " '/category/safety',\n",
       " '/category/security',\n",
       " '/category/test-instruments',\n",
       " '/category/tools',\n",
       " '/category/welding']"
      ]
     },
     "execution_count": 5,
     "metadata": {},
     "output_type": "execute_result"
    }
   ],
   "source": [
    "#access the urls in the HTML to create the url list for All Products\n",
    "products = soup.findAll('ul',class_='categories__list')\n",
    "products\n",
    "\n",
    "#Create an empty list to hold all the hrefs\n",
    "all_products_urls=[]\n",
    "#For loop to extract all href from a tags\n",
    "for i in (products[0]('a')):\n",
    "    #access each url\n",
    "    link=i['href']\n",
    "    #append the urls found to the empty list we created\n",
    "    all_products_urls.append(link)\n",
    "    #print (products)\n",
    "#display the results\n",
    "all_products_urls"
   ]
  },
  {
   "cell_type": "code",
   "execution_count": 6,
   "metadata": {},
   "outputs": [],
   "source": [
    "#Url to extract Safety categories\n",
    "url2 ='https://www.grainger.com/category/safety'\n",
    "browser.visit(url2)\n",
    "\n",
    "#activating soup\n",
    "html = browser.html\n",
    "soup = BeautifulSoup(html, 'html.parser')"
   ]
  },
  {
   "cell_type": "code",
   "execution_count": 7,
   "metadata": {
    "scrolled": true
   },
   "outputs": [
    {
     "data": {
      "text/plain": [
       "['/category/safety/arc-flash-protection',\n",
       " '/category/safety/asbestos-abatement',\n",
       " '/category/safety/confined-space-equipment',\n",
       " '/category/safety/disposable-and-chemical-resistant-clothing',\n",
       " '/category/safety/emt-and-rescue-supplies',\n",
       " '/category/safety/emergency-eye-wash-and-shower-equipment',\n",
       " '/category/safety/emergency-preparedness',\n",
       " '/category/safety/emergency-and-exam-room-supplies',\n",
       " '/category/safety/ergonomics',\n",
       " '/category/safety/exam-room-furnishings',\n",
       " '/category/safety/eye-protection-and-accessories',\n",
       " '/category/safety/face-protection',\n",
       " '/category/safety/fall-protection',\n",
       " '/category/safety/fire-fighting-clothing-and-accessories',\n",
       " '/category/safety/fire-protection',\n",
       " '/category/safety/first-aid-and-wound-care',\n",
       " '/category/safety/flame-resistant-and-arc-flash-clothing',\n",
       " '/category/safety/footwear-and-footwear-accessories',\n",
       " '/category/safety/gas-detection',\n",
       " '/category/safety/gloves-and-hand-protection',\n",
       " '/category/safety/head-protection',\n",
       " '/category/safety/hearing-protection',\n",
       " '/category/safety/iv-supplies',\n",
       " '/category/safety/identification-products',\n",
       " '/category/safety/lockout-tagout',\n",
       " '/category/safety/matting',\n",
       " '/category/safety/medical-diagnostics-and-monitoring-equipment',\n",
       " '/category/safety/medical-oxygen-delivery-and-equipment',\n",
       " '/category/safety/noise-control',\n",
       " '/category/safety/portable-coolers-and-beverages',\n",
       " '/category/safety/rainwear',\n",
       " '/category/safety/rehabilitation-and-durable-medical-equipment',\n",
       " '/category/safety/replacement-parts',\n",
       " '/category/safety/respiratory',\n",
       " '/category/safety/safety-alarms-and-warnings',\n",
       " '/category/safety/safety-storage',\n",
       " '/category/safety/signs',\n",
       " '/category/safety/spill-control-supplies',\n",
       " '/category/safety/traffic-safety',\n",
       " '/category/safety/training',\n",
       " '/category/safety/water-safety',\n",
       " '/category/safety/workwear']"
      ]
     },
     "execution_count": 7,
     "metadata": {},
     "output_type": "execute_result"
    }
   ],
   "source": [
    "#access the urls in the HTML to create the url list for Facility identification sub category\n",
    "facilityid = soup.findAll('ul',class_='categories__list')\n",
    "facilityid\n",
    "#Create an empty list to hold all the hrefs\n",
    "facility_id_urls=[]\n",
    "#For loop to extract all href from a tags\n",
    "for i in (facilityid[0]('a')):\n",
    "    #access each url\n",
    "    products=i['href']\n",
    "    #append the urls found to the empty list we created\n",
    "    facility_id_urls.append(products)\n",
    "    #print (products)\n",
    "#display the results\n",
    "facility_id_urls"
   ]
  },
  {
   "cell_type": "code",
   "execution_count": null,
   "metadata": {},
   "outputs": [],
   "source": [
    "#Url to extract hand protection categories\n",
    "url4 ='https://www.fastenal.com/product/safety/hand-and-arm-protection/600681?categoryId=600681&level=2&isExpanded=true'\n",
    "browser.visit(url4)\n",
    "\n",
    "#activating soup\n",
    "html = browser.html\n",
    "soup = BeautifulSoup(html, 'html.parser')"
   ]
  },
  {
   "cell_type": "code",
   "execution_count": null,
   "metadata": {
    "run_control": {
     "marked": false
    },
    "scrolled": true
   },
   "outputs": [],
   "source": [
    "#access the urls in the HTML to create the url list for hand protection sub category\n",
    "handpro = soup.findAll('div',class_='col-xs-12 category-list category-body')\n",
    "handpro\n",
    "#Create an empty list to hold all the hrefs\n",
    "hand_protection_urls=[]\n",
    "#For loop to extract all href from a tags\n",
    "for i in (handpro[0]('a')):\n",
    "    #access each url\n",
    "    products=i['href']\n",
    "    #append the urls found to the empty list we created\n",
    "    hand_protection_urls.append(products)\n",
    "    #print (products)\n",
    "#display the results\n",
    "hand_protection_urls"
   ]
  },
  {
   "cell_type": "code",
   "execution_count": null,
   "metadata": {},
   "outputs": [],
   "source": [
    "#Url to extract work wear categories\n",
    "url5 ='https://www.fastenal.com/product/safety/work-wear/613935?categoryId=613935&level=2&isExpanded=true'\n",
    "browser.visit(url5)\n",
    "\n",
    "#activating soup\n",
    "html = browser.html\n",
    "soup = BeautifulSoup(html, 'html.parser')"
   ]
  },
  {
   "cell_type": "code",
   "execution_count": null,
   "metadata": {},
   "outputs": [],
   "source": [
    "#access the urls in the HTML to create the url list for work wear sub category\n",
    "workwear = soup.findAll('div',class_='col-xs-12 category-list category-body')\n",
    "workwear\n",
    "#Create an empty list to hold all the hrefs\n",
    "work_wear_urls=[]\n",
    "#For loop to extract all href from a tags\n",
    "for i in (workwear[0]('a')):\n",
    "    #access each url\n",
    "    products=i['href']\n",
    "    #append the urls found to the empty list we created\n",
    "    work_wear_urls.append(products)\n",
    "    #print (products)\n",
    "#display the results\n",
    "work_wear_urls"
   ]
  },
  {
   "cell_type": "code",
   "execution_count": null,
   "metadata": {},
   "outputs": [],
   "source": [
    "#Url to extract matting categories\n",
    "url6 ='https://www.fastenal.com/product/safety/matting/600789?categoryId=600789&level=2&isExpanded=true'\n",
    "browser.visit(url6)\n",
    "\n",
    "#activating soup\n",
    "html = browser.html\n",
    "soup = BeautifulSoup(html, 'html.parser')"
   ]
  },
  {
   "cell_type": "code",
   "execution_count": null,
   "metadata": {},
   "outputs": [],
   "source": [
    "#access the urls in the HTML to create the url list for matting sub category\n",
    "matting = soup.findAll('div',class_='col-xs-12 category-list category-body')\n",
    "matting\n",
    "#Create an empty list to hold all the hrefs\n",
    "matting_urls=[]\n",
    "#For loop to extract all href from a tags\n",
    "for i in (matting[0]('a')):\n",
    "    #access each url\n",
    "    products=i['href']\n",
    "    #append the urls found to the empty list we created\n",
    "    matting_urls.append(products)\n",
    "    #print (products)\n",
    "#display the results\n",
    "matting_urls"
   ]
  },
  {
   "cell_type": "code",
   "execution_count": null,
   "metadata": {},
   "outputs": [],
   "source": []
  },
  {
   "cell_type": "code",
   "execution_count": null,
   "metadata": {},
   "outputs": [],
   "source": []
  },
  {
   "cell_type": "code",
   "execution_count": null,
   "metadata": {},
   "outputs": [],
   "source": []
  },
  {
   "cell_type": "code",
   "execution_count": null,
   "metadata": {},
   "outputs": [],
   "source": []
  },
  {
   "cell_type": "code",
   "execution_count": null,
   "metadata": {},
   "outputs": [],
   "source": []
  },
  {
   "cell_type": "code",
   "execution_count": null,
   "metadata": {},
   "outputs": [],
   "source": []
  },
  {
   "cell_type": "code",
   "execution_count": null,
   "metadata": {},
   "outputs": [],
   "source": []
  },
  {
   "cell_type": "code",
   "execution_count": null,
   "metadata": {},
   "outputs": [],
   "source": []
  },
  {
   "cell_type": "code",
   "execution_count": null,
   "metadata": {},
   "outputs": [],
   "source": []
  }
 ],
 "metadata": {
  "hide_input": false,
  "kernelspec": {
   "display_name": "Python 3",
   "language": "python",
   "name": "python3"
  },
  "language_info": {
   "codemirror_mode": {
    "name": "ipython",
    "version": 3
   },
   "file_extension": ".py",
   "mimetype": "text/x-python",
   "name": "python",
   "nbconvert_exporter": "python",
   "pygments_lexer": "ipython3",
   "version": "3.7.1"
  },
  "toc": {
   "base_numbering": 1,
   "nav_menu": {},
   "number_sections": true,
   "sideBar": true,
   "skip_h1_title": true,
   "title_cell": "Table of Contents",
   "title_sidebar": "Contents",
   "toc_cell": false,
   "toc_position": {},
   "toc_section_display": true,
   "toc_window_display": false
  },
  "varInspector": {
   "cols": {
    "lenName": 16,
    "lenType": 16,
    "lenVar": 40
   },
   "kernels_config": {
    "python": {
     "delete_cmd_postfix": "",
     "delete_cmd_prefix": "del ",
     "library": "var_list.py",
     "varRefreshCmd": "print(var_dic_list())"
    },
    "r": {
     "delete_cmd_postfix": ") ",
     "delete_cmd_prefix": "rm(",
     "library": "var_list.r",
     "varRefreshCmd": "cat(var_dic_list()) "
    }
   },
   "types_to_exclude": [
    "module",
    "function",
    "builtin_function_or_method",
    "instance",
    "_Feature"
   ],
   "window_display": false
  }
 },
 "nbformat": 4,
 "nbformat_minor": 2
}
